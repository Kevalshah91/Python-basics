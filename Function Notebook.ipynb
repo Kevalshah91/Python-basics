{
 "cells": [
  {
   "cell_type": "code",
   "execution_count": 18,
   "id": "47195635",
   "metadata": {},
   "outputs": [],
   "source": [
    "def volume(base , height):\n",
    "    base = float(input())\n",
    "    height = float(input())\n",
    "    vol = 3.14 * base * height\n",
    "    return(vol)\n",
    "    "
   ]
  },
  {
   "cell_type": "code",
   "execution_count": 17,
   "id": "e20254ca",
   "metadata": {},
   "outputs": [],
   "source": [
    "def calculate_volume(base, height):\n",
    "    base = float(input(\"Enter the base: \"))\n",
    "    height = float(input(\"Enter the height: \"))\n",
    "    volume = 3.14 * base * height\n",
    "    print(\"Volume:\", volume)"
   ]
  },
  {
   "cell_type": "code",
   "execution_count": null,
   "id": "2afa37f8",
   "metadata": {},
   "outputs": [],
   "source": []
  },
  {
   "cell_type": "code",
   "execution_count": 25,
   "id": "437748d8",
   "metadata": {},
   "outputs": [
    {
     "name": "stdout",
     "output_type": "stream",
     "text": [
      "\n"
     ]
    },
    {
     "ename": "ValueError",
     "evalue": "could not convert string to float: ''",
     "output_type": "error",
     "traceback": [
      "\u001b[1;31m---------------------------------------------------------------------------\u001b[0m",
      "\u001b[1;31mValueError\u001b[0m                                Traceback (most recent call last)",
      "Cell \u001b[1;32mIn[25], line 1\u001b[0m\n\u001b[1;32m----> 1\u001b[0m result \u001b[38;5;241m=\u001b[39m \u001b[43mvolume\u001b[49m\u001b[43m(\u001b[49m\u001b[38;5;241;43m5\u001b[39;49m\u001b[43m \u001b[49m\u001b[43m,\u001b[49m\u001b[38;5;241;43m10\u001b[39;49m\u001b[43m)\u001b[49m\n\u001b[0;32m      2\u001b[0m result\n",
      "Cell \u001b[1;32mIn[18], line 2\u001b[0m, in \u001b[0;36mvolume\u001b[1;34m(base, height)\u001b[0m\n\u001b[0;32m      1\u001b[0m \u001b[38;5;28;01mdef\u001b[39;00m \u001b[38;5;21mvolume\u001b[39m(base , height):\n\u001b[1;32m----> 2\u001b[0m     base \u001b[38;5;241m=\u001b[39m \u001b[38;5;28;43mfloat\u001b[39;49m\u001b[43m(\u001b[49m\u001b[38;5;28;43minput\u001b[39;49m\u001b[43m(\u001b[49m\u001b[43m)\u001b[49m\u001b[43m)\u001b[49m\n\u001b[0;32m      3\u001b[0m     height \u001b[38;5;241m=\u001b[39m \u001b[38;5;28mfloat\u001b[39m(\u001b[38;5;28minput\u001b[39m())\n\u001b[0;32m      4\u001b[0m     vol \u001b[38;5;241m=\u001b[39m \u001b[38;5;241m3.14\u001b[39m \u001b[38;5;241m*\u001b[39m base \u001b[38;5;241m*\u001b[39m height\n",
      "\u001b[1;31mValueError\u001b[0m: could not convert string to float: ''"
     ]
    }
   ],
   "source": [
    "result = volume(5 ,10)\n",
    "result"
   ]
  },
  {
   "cell_type": "code",
   "execution_count": 26,
   "id": "35988cab",
   "metadata": {},
   "outputs": [],
   "source": [
    "def add_num(num1,num2):\n",
    "    return num1+num2\n"
   ]
  },
  {
   "cell_type": "code",
   "execution_count": 27,
   "id": "24eb60db",
   "metadata": {},
   "outputs": [],
   "source": [
    "result = add_num(10,20)"
   ]
  },
  {
   "cell_type": "code",
   "execution_count": 28,
   "id": "f2e25cb5",
   "metadata": {},
   "outputs": [
    {
     "data": {
      "text/plain": [
       "30"
      ]
     },
     "execution_count": 28,
     "metadata": {},
     "output_type": "execute_result"
    }
   ],
   "source": [
    "result"
   ]
  },
  {
   "cell_type": "code",
   "execution_count": 29,
   "id": "f4435487",
   "metadata": {},
   "outputs": [],
   "source": [
    "result = add_num('10','20')"
   ]
  },
  {
   "cell_type": "code",
   "execution_count": 30,
   "id": "b0d207b0",
   "metadata": {},
   "outputs": [
    {
     "data": {
      "text/plain": [
       "'1020'"
      ]
     },
     "execution_count": 30,
     "metadata": {},
     "output_type": "execute_result"
    }
   ],
   "source": [
    "result"
   ]
  },
  {
   "cell_type": "code",
   "execution_count": 31,
   "id": "f79222d6",
   "metadata": {},
   "outputs": [
    {
     "data": {
      "text/plain": [
       "True"
      ]
     },
     "execution_count": 31,
     "metadata": {},
     "output_type": "execute_result"
    }
   ],
   "source": [
    "60 % 3 == 0"
   ]
  },
  {
   "cell_type": "code",
   "execution_count": 32,
   "id": "d87c359a",
   "metadata": {},
   "outputs": [],
   "source": [
    "def even_check(num):\n",
    "    if num%2==0:\n",
    "        return result"
   ]
  },
  {
   "cell_type": "code",
   "execution_count": 34,
   "id": "1ac6732a",
   "metadata": {},
   "outputs": [
    {
     "data": {
      "text/plain": [
       "True"
      ]
     },
     "execution_count": 34,
     "metadata": {},
     "output_type": "execute_result"
    }
   ],
   "source": [
    "even_check(10)"
   ]
  },
  {
   "cell_type": "code",
   "execution_count": 6,
   "id": "c3e73842",
   "metadata": {},
   "outputs": [],
   "source": [
    "def check_even(num_list):\n",
    "    for num in num_list:\n",
    "        if num%2==0:\n",
    "            return True\n",
    "        else:\n",
    "            pass\n",
    "        \n",
    "    "
   ]
  },
  {
   "cell_type": "code",
   "execution_count": 7,
   "id": "86579527",
   "metadata": {},
   "outputs": [],
   "source": [
    "num_list = [1,3,5,7,9,10]"
   ]
  },
  {
   "cell_type": "code",
   "execution_count": 8,
   "id": "5c68f475",
   "metadata": {},
   "outputs": [],
   "source": [
    "result1 = check_even(num_list)"
   ]
  },
  {
   "cell_type": "raw",
   "id": "aaf7ee5d",
   "metadata": {},
   "source": []
  },
  {
   "cell_type": "code",
   "execution_count": 9,
   "id": "c3ebc5bf",
   "metadata": {},
   "outputs": [
    {
     "data": {
      "text/plain": [
       "True"
      ]
     },
     "execution_count": 9,
     "metadata": {},
     "output_type": "execute_result"
    }
   ],
   "source": [
    "result1"
   ]
  },
  {
   "cell_type": "code",
   "execution_count": 10,
   "id": "f1a448b6",
   "metadata": {},
   "outputs": [],
   "source": [
    "#return all the even numbers in the list "
   ]
  },
  {
   "cell_type": "code",
   "execution_count": 20,
   "id": "308a42d3",
   "metadata": {},
   "outputs": [],
   "source": [
    "def check_even(num_list):\n",
    "    even_numbers = []\n",
    "    for num in num_list:\n",
    "        if num%2==0:\n",
    "            even_numbers.append(num)\n",
    "        else:\n",
    "            pass\n",
    "    return even_numbers"
   ]
  },
  {
   "cell_type": "code",
   "execution_count": 21,
   "id": "6daad2b0",
   "metadata": {},
   "outputs": [],
   "source": [
    "result2 = check_even([2,5,6,7,9,12,20])"
   ]
  },
  {
   "cell_type": "code",
   "execution_count": 22,
   "id": "3dc25326",
   "metadata": {},
   "outputs": [
    {
     "data": {
      "text/plain": [
       "[2, 6, 12, 20]"
      ]
     },
     "execution_count": 22,
     "metadata": {},
     "output_type": "execute_result"
    }
   ],
   "source": [
    "result2"
   ]
  },
  {
   "cell_type": "code",
   "execution_count": 23,
   "id": "95c97249",
   "metadata": {},
   "outputs": [],
   "source": [
    "stock_prices = [('mercedes',200),('aston_martin',100),('red_bull',50)]"
   ]
  },
  {
   "cell_type": "code",
   "execution_count": 24,
   "id": "42ce6563",
   "metadata": {},
   "outputs": [
    {
     "name": "stdout",
     "output_type": "stream",
     "text": [
      "('mercedes', 200)\n",
      "('aston_martin', 100)\n",
      "('red_bull', 50)\n"
     ]
    }
   ],
   "source": [
    "for item in stock_prices:\n",
    "    print(item)"
   ]
  },
  {
   "cell_type": "code",
   "execution_count": 26,
   "id": "baa94810",
   "metadata": {},
   "outputs": [
    {
     "name": "stdout",
     "output_type": "stream",
     "text": [
      "220.0\n",
      "110.0\n",
      "55.0\n"
     ]
    }
   ],
   "source": [
    "for ticker,price in stock_prices:\n",
    "    print(price+(0.1*price))"
   ]
  },
  {
   "cell_type": "code",
   "execution_count": 37,
   "id": "5889932b",
   "metadata": {},
   "outputs": [],
   "source": [
    "work_hours = [('keval',40),('bhumi',500),('luois',100)]"
   ]
  },
  {
   "cell_type": "code",
   "execution_count": 38,
   "id": "3f4f793f",
   "metadata": {},
   "outputs": [],
   "source": [
    "def employee(work_hours):\n",
    "    current_max=0\n",
    "    employee_of_month = ''\n",
    "    for employee,hours in work_hours:\n",
    "        if hours>current_max:\n",
    "            current_max=hours\n",
    "            employee_of_month = employee\n",
    "    \n",
    "        \n",
    "    \n",
    "    return(employee_of_month,current_max)"
   ]
  },
  {
   "cell_type": "code",
   "execution_count": 39,
   "id": "7eb2781a",
   "metadata": {},
   "outputs": [],
   "source": [
    "result = employee(work_hours)"
   ]
  },
  {
   "cell_type": "code",
   "execution_count": 40,
   "id": "6e3751f6",
   "metadata": {},
   "outputs": [
    {
     "data": {
      "text/plain": [
       "('bhumi', 500)"
      ]
     },
     "execution_count": 40,
     "metadata": {},
     "output_type": "execute_result"
    }
   ],
   "source": [
    "result"
   ]
  },
  {
   "cell_type": "code",
   "execution_count": 41,
   "id": "1bed42b8",
   "metadata": {},
   "outputs": [],
   "source": [
    "name,hours = employee(work_hours)"
   ]
  },
  {
   "cell_type": "code",
   "execution_count": 42,
   "id": "319a194f",
   "metadata": {},
   "outputs": [
    {
     "data": {
      "text/plain": [
       "'bhumi'"
      ]
     },
     "execution_count": 42,
     "metadata": {},
     "output_type": "execute_result"
    }
   ],
   "source": [
    "name"
   ]
  },
  {
   "cell_type": "code",
   "execution_count": 43,
   "id": "8db737df",
   "metadata": {},
   "outputs": [
    {
     "data": {
      "text/plain": [
       "500"
      ]
     },
     "execution_count": 43,
     "metadata": {},
     "output_type": "execute_result"
    }
   ],
   "source": [
    "hours"
   ]
  },
  {
   "cell_type": "code",
   "execution_count": 44,
   "id": "8351c0b5",
   "metadata": {},
   "outputs": [],
   "source": [
    "example = [2,3,4,5,6,7,8,9,10,64]"
   ]
  },
  {
   "cell_type": "code",
   "execution_count": 45,
   "id": "40ccbcc5",
   "metadata": {},
   "outputs": [],
   "source": [
    "from random import shuffle"
   ]
  },
  {
   "cell_type": "code",
   "execution_count": 46,
   "id": "0306a486",
   "metadata": {},
   "outputs": [],
   "source": [
    "shuffle(example)"
   ]
  },
  {
   "cell_type": "code",
   "execution_count": 47,
   "id": "9c4bd86a",
   "metadata": {},
   "outputs": [
    {
     "data": {
      "text/plain": [
       "[2, 5, 9, 64, 6, 4, 10, 3, 7, 8]"
      ]
     },
     "execution_count": 47,
     "metadata": {},
     "output_type": "execute_result"
    }
   ],
   "source": [
    "example"
   ]
  },
  {
   "cell_type": "code",
   "execution_count": 52,
   "id": "5d58bf1d",
   "metadata": {},
   "outputs": [],
   "source": [
    "def shuffle_list(my_list):\n",
    "    shuffle(my_list)\n",
    "    return my_list"
   ]
  },
  {
   "cell_type": "code",
   "execution_count": 55,
   "id": "05ccc9c2",
   "metadata": {},
   "outputs": [],
   "source": [
    "result = shuffle_list(example)"
   ]
  },
  {
   "cell_type": "code",
   "execution_count": 56,
   "id": "4934136b",
   "metadata": {},
   "outputs": [
    {
     "data": {
      "text/plain": [
       "[7, 3, 8, 4, 10, 2, 5, 64, 6, 9]"
      ]
     },
     "execution_count": 56,
     "metadata": {},
     "output_type": "execute_result"
    }
   ],
   "source": [
    "result"
   ]
  },
  {
   "cell_type": "code",
   "execution_count": 57,
   "id": "5e976803",
   "metadata": {},
   "outputs": [],
   "source": [
    "mylist = ['','0','','','']"
   ]
  },
  {
   "cell_type": "code",
   "execution_count": 58,
   "id": "f9e620f3",
   "metadata": {},
   "outputs": [
    {
     "data": {
      "text/plain": [
       "['0', '', '', '', '']"
      ]
     },
     "execution_count": 58,
     "metadata": {},
     "output_type": "execute_result"
    }
   ],
   "source": [
    "shuffle_list(mylist)"
   ]
  },
  {
   "cell_type": "code",
   "execution_count": 59,
   "id": "0807cea1",
   "metadata": {},
   "outputs": [
    {
     "name": "stdout",
     "output_type": "stream",
     "text": [
      "pick a number : 0,1,2,3,4 : 2\n"
     ]
    }
   ],
   "source": [
    "def player_guess():\n",
    "    guess=''\n",
    "    while guess not in ['0','1','2','3','4']:\n",
    "        guess=input(\"pick a number : 0,1,2,3,4 : \")\n",
    "    return int(guess)\n",
    "myindex=player_guess()\n",
    "\n",
    "\n",
    "    "
   ]
  },
  {
   "cell_type": "code",
   "execution_count": 60,
   "id": "9c7116a6",
   "metadata": {},
   "outputs": [
    {
     "data": {
      "text/plain": [
       "2"
      ]
     },
     "execution_count": 60,
     "metadata": {},
     "output_type": "execute_result"
    }
   ],
   "source": [
    "myindex"
   ]
  },
  {
   "cell_type": "code",
   "execution_count": 63,
   "id": "3a76ad27",
   "metadata": {},
   "outputs": [],
   "source": [
    "def check_guess(mylist,guess):\n",
    "    if mylist[guess]== '0':\n",
    "        print(\"Congrats ! you won !!\")\n",
    "    else:\n",
    "        print(\"you lose\")\n",
    "        print(mylist)"
   ]
  },
  {
   "cell_type": "code",
   "execution_count": 70,
   "id": "3065b345",
   "metadata": {},
   "outputs": [
    {
     "name": "stdout",
     "output_type": "stream",
     "text": [
      "pick a number : 0,1,2,3,4 : 0\n",
      "Congrats ! you won !!\n"
     ]
    }
   ],
   "source": [
    "#lets put it together \n",
    "mylist = ['','0','','','']\n",
    "new_list = shuffle_list(mylist)\n",
    "guess = player_guess()\n",
    "check_guess(new_list,guess)"
   ]
  },
  {
   "cell_type": "code",
   "execution_count": 72,
   "id": "147ae126",
   "metadata": {},
   "outputs": [
    {
     "name": "stdout",
     "output_type": "stream",
     "text": [
      "Pick a number: 0, 1, 2, 3, 4: 3\n",
      "Pick a number: 0, 1, 2, 3, 4: 2\n",
      "you lose\n",
      "['', '0', '', '', '']\n"
     ]
    }
   ],
   "source": [
    "from random import shuffle\n",
    "def shuffle_list(my_list):\n",
    "    shuffle(my_list)\n",
    "    return my_list\n",
    "\n",
    "mylist = ['','0','','','']\n",
    "\n",
    "def player_guess():\n",
    "    while True:\n",
    "        guess = input(\"Pick a number: 0, 1, 2, 3, 4: \")\n",
    "        if guess in ['0', '1', '2', '3', '4']:\n",
    "            return int(guess)\n",
    "        else:\n",
    "            print(\"Invalid input. Please enter a number between 0 and 4.\")\n",
    "\n",
    "\n",
    "myindex=player_guess() \n",
    "\n",
    "def check_guess(mylist,guess):\n",
    "    if mylist[guess]== '0':\n",
    "        print(\"Congrats ! you won !!\")\n",
    "    else:\n",
    "        print(\"you lose\")\n",
    "        print(mylist)\n",
    "\n",
    "#lets put it together \n",
    "mylist = ['','0','','','']\n",
    "new_list = shuffle_list(mylist)\n",
    "guess = player_guess()\n",
    "check_guess(new_list,guess)     "
   ]
  },
  {
   "cell_type": "code",
   "execution_count": 73,
   "id": "f5d5c87d",
   "metadata": {},
   "outputs": [
    {
     "name": "stdout",
     "output_type": "stream",
     "text": [
      "Pick a number: 0, 1, 2, 3, 4: 0\n",
      "you lose\n",
      "['', '', '', '', '0']\n"
     ]
    }
   ],
   "source": [
    "from random import shuffle\n",
    "\n",
    "def shuffle_list(my_list):\n",
    "    shuffle(my_list)\n",
    "    return my_list\n",
    "\n",
    "def player_guess():\n",
    "    while True:\n",
    "        guess = input(\"Pick a number: 0, 1, 2, 3, 4: \")\n",
    "        if guess in ['0', '1', '2', '3', '4']:\n",
    "            return int(guess)\n",
    "        else:\n",
    "            print(\"Invalid input. Please enter a number between 0 and 4.\")\n",
    "\n",
    "mylist = ['','0','','','']\n",
    "new_list = shuffle_list(mylist)\n",
    "guess = player_guess()\n",
    "check_guess(new_list, guess)\n",
    "\n",
    "def check_guess(mylist, guess):\n",
    "    if mylist[guess] == '0':\n",
    "        print(\"Congratulations! You won!\")\n",
    "    else:\n",
    "        print(\"You lose.\")\n",
    "        print(mylist)\n"
   ]
  },
  {
   "cell_type": "code",
   "execution_count": 1,
   "id": "8635d553",
   "metadata": {},
   "outputs": [],
   "source": [
    "#learning about args and kwargs "
   ]
  },
  {
   "cell_type": "code",
   "execution_count": 2,
   "id": "0a59587f",
   "metadata": {},
   "outputs": [],
   "source": [
    "def myfunc(a,b,c=0,d=0,e=0):\n",
    "    #returns 5% of total\n",
    "    return sum((a,b,c,d,e))*0.05"
   ]
  },
  {
   "cell_type": "code",
   "execution_count": 5,
   "id": "f706d829",
   "metadata": {},
   "outputs": [
    {
     "data": {
      "text/plain": [
       "15.0"
      ]
     },
     "execution_count": 5,
     "metadata": {},
     "output_type": "execute_result"
    }
   ],
   "source": [
    "myfunc(10,40,50,150,50)"
   ]
  },
  {
   "cell_type": "code",
   "execution_count": 10,
   "id": "d6c0c7fc",
   "metadata": {},
   "outputs": [],
   "source": [
    "def myfunc(*args):\n",
    "    print(args)\n",
    "    return sum(args)*0.05"
   ]
  },
  {
   "cell_type": "code",
   "execution_count": 11,
   "id": "f4bbe0cc",
   "metadata": {},
   "outputs": [
    {
     "name": "stdout",
     "output_type": "stream",
     "text": [
      "(40, 40, 20, 100, 50, 100, 56.45, 89)\n"
     ]
    },
    {
     "data": {
      "text/plain": [
       "24.7725"
      ]
     },
     "execution_count": 11,
     "metadata": {},
     "output_type": "execute_result"
    }
   ],
   "source": [
    "myfunc(40,40,20,100,50,100,56.45,89)"
   ]
  },
  {
   "cell_type": "code",
   "execution_count": 24,
   "id": "4784a16d",
   "metadata": {},
   "outputs": [],
   "source": [
    "def myfunc1(**kwargs):\n",
    "    if 'fruit' in kwargs:\n",
    "        print('my favourite fruit is {}'.format(kwargs['fruit']))\n",
    "    else:\n",
    "        print('i did not find this fruit here')"
   ]
  },
  {
   "cell_type": "code",
   "execution_count": 27,
   "id": "54a0f013",
   "metadata": {},
   "outputs": [
    {
     "name": "stdout",
     "output_type": "stream",
     "text": [
      "my favourite fruit is mango\n"
     ]
    }
   ],
   "source": [
    "myfunc1(fruit='mango',veggie ='cauliflower')"
   ]
  },
  {
   "cell_type": "code",
   "execution_count": 35,
   "id": "9bb02f3d",
   "metadata": {},
   "outputs": [],
   "source": [
    "def myfunc(*args,**kwargs):\n",
    "    print(args)\n",
    "    print(kwargs)\n",
    "    print('i would like {} {}'.format(args[0],kwargs['food']))"
   ]
  },
  {
   "cell_type": "code",
   "execution_count": 36,
   "id": "e2354330",
   "metadata": {},
   "outputs": [
    {
     "name": "stdout",
     "output_type": "stream",
     "text": [
      "(10, 20, 30)\n",
      "{'food': 'idli-vada', 'food1': 'fried rice', 'fruit': 'mango', 'food2': 'juice'}\n",
      "i would like 10 idli-vada\n"
     ]
    }
   ],
   "source": [
    "myfunc(10,20,30,food='idli-vada',food1='fried rice',fruit='mango',food2='juice')"
   ]
  },
  {
   "cell_type": "code",
   "execution_count": 2,
   "id": "29744d46",
   "metadata": {},
   "outputs": [],
   "source": [
    "def myfunc(*args):\n",
    "    a = []\n",
    "    for num in args:\n",
    "        if args%2==0:\n",
    "            return a.append(num)"
   ]
  },
  {
   "cell_type": "code",
   "execution_count": 7,
   "id": "14dd0d33",
   "metadata": {},
   "outputs": [],
   "source": [
    "def myfunc1(*args):\n",
    "    a = []\n",
    "    for num in args:\n",
    "        if num%2==0:\n",
    "            return a.append(num)\n",
    "        else:\n",
    "            pass"
   ]
  },
  {
   "cell_type": "code",
   "execution_count": 8,
   "id": "f298b581",
   "metadata": {},
   "outputs": [
    {
     "name": "stdout",
     "output_type": "stream",
     "text": [
      "None\n"
     ]
    }
   ],
   "source": [
    "print( myfunc1(2,3,4,-2) )"
   ]
  },
  {
   "cell_type": "code",
   "execution_count": null,
   "id": "103cdab6",
   "metadata": {},
   "outputs": [],
   "source": [
    "print(x)"
   ]
  },
  {
   "cell_type": "code",
   "execution_count": 9,
   "id": "8ed60d2f",
   "metadata": {},
   "outputs": [
    {
     "ename": "SyntaxError",
     "evalue": "incomplete input (3874008085.py, line 3)",
     "output_type": "error",
     "traceback": [
      "\u001b[1;36m  Cell \u001b[1;32mIn[9], line 3\u001b[1;36m\u001b[0m\n\u001b[1;33m    \u001b[0m\n\u001b[1;37m    ^\u001b[0m\n\u001b[1;31mSyntaxError\u001b[0m\u001b[1;31m:\u001b[0m incomplete input\n"
     ]
    }
   ],
   "source": [
    "def myfunc(str):\n",
    "    for char in str:\n",
    "        "
   ]
  },
  {
   "cell_type": "code",
   "execution_count": 12,
   "id": "8dcbd8fc",
   "metadata": {},
   "outputs": [
    {
     "ename": "SyntaxError",
     "evalue": "invalid syntax (969160453.py, line 1)",
     "output_type": "error",
     "traceback": [
      "\u001b[1;36m  Cell \u001b[1;32mIn[12], line 1\u001b[1;36m\u001b[0m\n\u001b[1;33m    int x = char a(int)\u001b[0m\n\u001b[1;37m        ^\u001b[0m\n\u001b[1;31mSyntaxError\u001b[0m\u001b[1;31m:\u001b[0m invalid syntax\n"
     ]
    }
   ],
   "source": [
    "int x = char a(int)"
   ]
  },
  {
   "cell_type": "code",
   "execution_count": 14,
   "id": "eb65ed76",
   "metadata": {},
   "outputs": [
    {
     "name": "stdout",
     "output_type": "stream",
     "text": [
      "65\n"
     ]
    }
   ],
   "source": [
    "print(ord('A'))"
   ]
  },
  {
   "cell_type": "code",
   "execution_count": 28,
   "id": "5ec155cd",
   "metadata": {},
   "outputs": [],
   "source": [
    "def myfunc1(str):\n",
    "    new_string = \"\"\n",
    "    for char in str:\n",
    "        if ord(char)%2==0:\n",
    "            new_string += char.upper()\n",
    "        else:\n",
    "            new_string += char.lower()\n",
    "    return new_string      "
   ]
  },
  {
   "cell_type": "code",
   "execution_count": 29,
   "id": "0611ca4b",
   "metadata": {},
   "outputs": [
    {
     "data": {
      "text/plain": [
       "'aBcD'"
      ]
     },
     "execution_count": 29,
     "metadata": {},
     "output_type": "execute_result"
    }
   ],
   "source": [
    "myfunc1(\"abcd\")"
   ]
  },
  {
   "cell_type": "code",
   "execution_count": 27,
   "id": "7fbe671f",
   "metadata": {},
   "outputs": [
    {
     "name": "stdout",
     "output_type": "stream",
     "text": [
      "<function myfunc1 at 0x0000019C1A1D7490>\n"
     ]
    }
   ],
   "source": [
    "print(myfunc1)"
   ]
  },
  {
   "cell_type": "code",
   "execution_count": 30,
   "id": "7f357114",
   "metadata": {},
   "outputs": [
    {
     "name": "stdout",
     "output_type": "stream",
     "text": [
      "aNTHRoPomoRPHism\n"
     ]
    }
   ],
   "source": [
    "print(myfunc1('Anthropomorphism'))"
   ]
  },
  {
   "cell_type": "code",
   "execution_count": 32,
   "id": "e1cd0d98",
   "metadata": {},
   "outputs": [
    {
     "name": "stdout",
     "output_type": "stream",
     "text": [
      "AbCd\n"
     ]
    }
   ],
   "source": [
    "def myfunc(string):\n",
    "    new_string = ''\n",
    "    for index, char in enumerate(string):\n",
    "        if index % 2 == 0:\n",
    "            new_string += char.upper()\n",
    "        else:\n",
    "            new_string += char.lower()\n",
    "    return new_string\n",
    "print(myfunc('abcd'))"
   ]
  },
  {
   "cell_type": "code",
   "execution_count": 2,
   "id": "726800e7",
   "metadata": {},
   "outputs": [],
   "source": [
    "g = max(3,6)"
   ]
  },
  {
   "cell_type": "code",
   "execution_count": 3,
   "id": "e0ab94c1",
   "metadata": {},
   "outputs": [
    {
     "name": "stdout",
     "output_type": "stream",
     "text": [
      "6\n"
     ]
    }
   ],
   "source": [
    "print(g)"
   ]
  },
  {
   "cell_type": "code",
   "execution_count": 10,
   "id": "d9bed585",
   "metadata": {},
   "outputs": [],
   "source": [
    "#question 1\n",
    "def num_check(a,b):\n",
    "    if(a%2==0 and b%2==0):\n",
    "        return min(a,b)\n",
    "    elif(a%2==0 or b%2==0):\n",
    "        return max(a,b)"
   ]
  },
  {
   "cell_type": "code",
   "execution_count": 11,
   "id": "69d1824b",
   "metadata": {},
   "outputs": [
    {
     "data": {
      "text/plain": [
       "4"
      ]
     },
     "execution_count": 11,
     "metadata": {},
     "output_type": "execute_result"
    }
   ],
   "source": [
    "num_check(4,6)"
   ]
  },
  {
   "cell_type": "code",
   "execution_count": 12,
   "id": "10885a43",
   "metadata": {},
   "outputs": [
    {
     "data": {
      "text/plain": [
       "8"
      ]
     },
     "execution_count": 12,
     "metadata": {},
     "output_type": "execute_result"
    }
   ],
   "source": [
    "num_check(3,8)"
   ]
  },
  {
   "cell_type": "code",
   "execution_count": 15,
   "id": "a212334e",
   "metadata": {},
   "outputs": [],
   "source": [
    "#question 2\n",
    "def string_checker(a,b):\n",
    "    for char in str(a):\n",
    "        for char in str(b):\n",
    "            if a[0] == b[0]:\n",
    "                return True\n",
    "            else:\n",
    "                return False\n",
    "    "
   ]
  },
  {
   "cell_type": "code",
   "execution_count": 16,
   "id": "688f592d",
   "metadata": {},
   "outputs": [
    {
     "data": {
      "text/plain": [
       "True"
      ]
     },
     "execution_count": 16,
     "metadata": {},
     "output_type": "execute_result"
    }
   ],
   "source": [
    "string_checker(\"keval\",\"king\")"
   ]
  },
  {
   "cell_type": "code",
   "execution_count": 17,
   "id": "0fb93af5",
   "metadata": {},
   "outputs": [
    {
     "data": {
      "text/plain": [
       "False"
      ]
     },
     "execution_count": 17,
     "metadata": {},
     "output_type": "execute_result"
    }
   ],
   "source": [
    "string_checker(\"bhumi\",\"shah\")"
   ]
  },
  {
   "cell_type": "code",
   "execution_count": 19,
   "id": "6efa8484",
   "metadata": {},
   "outputs": [],
   "source": [
    "#question 3\n",
    "def num20(a,b):\n",
    "    if(a+b == 20):\n",
    "        return True\n",
    "    elif(a==20 or b==20):\n",
    "        return True\n",
    "    else:\n",
    "        return False"
   ]
  },
  {
   "cell_type": "code",
   "execution_count": 20,
   "id": "3ea2c9e7",
   "metadata": {},
   "outputs": [
    {
     "data": {
      "text/plain": [
       "True"
      ]
     },
     "execution_count": 20,
     "metadata": {},
     "output_type": "execute_result"
    }
   ],
   "source": [
    "num20(20,10)"
   ]
  },
  {
   "cell_type": "code",
   "execution_count": 21,
   "id": "c1a3969c",
   "metadata": {},
   "outputs": [
    {
     "data": {
      "text/plain": [
       "True"
      ]
     },
     "execution_count": 21,
     "metadata": {},
     "output_type": "execute_result"
    }
   ],
   "source": [
    "num20(10,10)"
   ]
  },
  {
   "cell_type": "code",
   "execution_count": 22,
   "id": "7d7e6ef0",
   "metadata": {},
   "outputs": [
    {
     "data": {
      "text/plain": [
       "False"
      ]
     },
     "execution_count": 22,
     "metadata": {},
     "output_type": "execute_result"
    }
   ],
   "source": [
    "num20(2,3)"
   ]
  },
  {
   "cell_type": "code",
   "execution_count": 41,
   "id": "10bb5ba5",
   "metadata": {},
   "outputs": [],
   "source": [
    "#level 1 problems \n",
    "#question 1 \n",
    "def cap(a):\n",
    "    for char in str(a):\n",
    "        first_letter = a[0]\n",
    "        inbetween = a[1:3]\n",
    "        fourth_letter = a[3]\n",
    "        rest = a[4:]\n",
    "        return first_letter.upper() + inbetween + fourth_letter.upper() + rest"
   ]
  },
  {
   "cell_type": "code",
   "execution_count": 42,
   "id": "2b33a62e",
   "metadata": {},
   "outputs": [
    {
     "data": {
      "text/plain": [
       "'ManGo'"
      ]
     },
     "execution_count": 42,
     "metadata": {},
     "output_type": "execute_result"
    }
   ],
   "source": [
    "cap(\"mango\")"
   ]
  },
  {
   "cell_type": "code",
   "execution_count": 52,
   "id": "d41186fa",
   "metadata": {},
   "outputs": [],
   "source": [
    "#question 2\n",
    "def koko(a):\n",
    "    for char in str(a):\n",
    "        new_str = a[::-1]\n",
    "        return new_str"
   ]
  },
  {
   "cell_type": "code",
   "execution_count": 53,
   "id": "bbdfd0a5",
   "metadata": {},
   "outputs": [
    {
     "data": {
      "text/plain": [
       "'lavek'"
      ]
     },
     "execution_count": 53,
     "metadata": {},
     "output_type": "execute_result"
    }
   ],
   "source": [
    "koko(\"keval\")"
   ]
  },
  {
   "cell_type": "code",
   "execution_count": 54,
   "id": "f70b2315",
   "metadata": {},
   "outputs": [
    {
     "ename": "SyntaxError",
     "evalue": "invalid syntax (2818136315.py, line 3)",
     "output_type": "error",
     "traceback": [
      "\u001b[1;36m  Cell \u001b[1;32mIn[54], line 3\u001b[1;36m\u001b[0m\n\u001b[1;33m    if\u001b[0m\n\u001b[1;37m       ^\u001b[0m\n\u001b[1;31mSyntaxError\u001b[0m\u001b[1;31m:\u001b[0m invalid syntax\n"
     ]
    }
   ],
   "source": [
    "def has33(a):\n",
    "    for num in list[a]:\n",
    "        if "
   ]
  },
  {
   "cell_type": "code",
   "execution_count": 78,
   "id": "ec7bbd83",
   "metadata": {},
   "outputs": [],
   "source": [
    "def has33(a):\n",
    "    for i in range(0,len(a)-1):\n",
    "        if a[i] == 3 and a[i+1] == 3:\n",
    "            return True\n",
    "    return False"
   ]
  },
  {
   "cell_type": "code",
   "execution_count": 79,
   "id": "105be90a",
   "metadata": {},
   "outputs": [
    {
     "data": {
      "text/plain": [
       "True"
      ]
     },
     "execution_count": 79,
     "metadata": {},
     "output_type": "execute_result"
    }
   ],
   "source": [
    "has33([1,3,3])"
   ]
  },
  {
   "cell_type": "code",
   "execution_count": 80,
   "id": "163afd2d",
   "metadata": {},
   "outputs": [
    {
     "data": {
      "text/plain": [
       "False"
      ]
     },
     "execution_count": 80,
     "metadata": {},
     "output_type": "execute_result"
    }
   ],
   "source": [
    "has33([1,2,3,4])"
   ]
  },
  {
   "cell_type": "code",
   "execution_count": 81,
   "id": "23d9f9f2",
   "metadata": {},
   "outputs": [
    {
     "data": {
      "text/plain": [
       "True"
      ]
     },
     "execution_count": 81,
     "metadata": {},
     "output_type": "execute_result"
    }
   ],
   "source": [
    "has33([3,3,3])"
   ]
  },
  {
   "cell_type": "code",
   "execution_count": 82,
   "id": "48f1f761",
   "metadata": {},
   "outputs": [
    {
     "data": {
      "text/plain": [
       "True"
      ]
     },
     "execution_count": 82,
     "metadata": {},
     "output_type": "execute_result"
    }
   ],
   "source": [
    "has33([1,2,3,3])"
   ]
  },
  {
   "cell_type": "code",
   "execution_count": 89,
   "id": "d174f468",
   "metadata": {},
   "outputs": [],
   "source": [
    "def triple(a):\n",
    "    result = ''\n",
    "    for char in str(a):\n",
    "        result = result + char*3\n",
    "    return result"
   ]
  },
  {
   "cell_type": "code",
   "execution_count": 90,
   "id": "dd98df36",
   "metadata": {},
   "outputs": [
    {
     "data": {
      "text/plain": [
       "'kkkeeevvvaaalll'"
      ]
     },
     "execution_count": 90,
     "metadata": {},
     "output_type": "execute_result"
    }
   ],
   "source": [
    "triple(\"keval\")"
   ]
  },
  {
   "cell_type": "code",
   "execution_count": 93,
   "id": "9611d7d0",
   "metadata": {},
   "outputs": [],
   "source": [
    "def summer_69(arr):\n",
    "    total=0\n",
    "    add = True \n",
    "    for num in arr:\n",
    "        while add:\n",
    "            if num!=6:\n",
    "                total = total + num\n",
    "                break\n",
    "            else:\n",
    "                add = False\n",
    "        while not add:\n",
    "            if num!=9:\n",
    "                break\n",
    "            else:\n",
    "                add = True\n",
    "                break\n",
    "    return total"
   ]
  },
  {
   "cell_type": "code",
   "execution_count": 94,
   "id": "9b0162a6",
   "metadata": {},
   "outputs": [
    {
     "data": {
      "text/plain": [
       "25"
      ]
     },
     "execution_count": 94,
     "metadata": {},
     "output_type": "execute_result"
    }
   ],
   "source": [
    "summer_69([1,2,3,4,5,6,7,9,10])"
   ]
  },
  {
   "cell_type": "code",
   "execution_count": 3,
   "id": "b94128be",
   "metadata": {},
   "outputs": [],
   "source": [
    "def count_primes(num):\n",
    "    if num<2:\n",
    "        return 0\n",
    "    primes = [2]\n",
    "    x = 3\n",
    "    while x <= num:\n",
    "        for y in range(3,x,2):\n",
    "            if x%y == 0:\n",
    "                x=x+2\n",
    "                break\n",
    "        else:\n",
    "            primes.append()\n",
    "            x=x+2\n",
    "    print(primes)\n",
    "    return len(primes)"
   ]
  },
  {
   "cell_type": "code",
   "execution_count": 4,
   "id": "2df36b81",
   "metadata": {},
   "outputs": [
    {
     "ename": "TypeError",
     "evalue": "list.append() takes exactly one argument (0 given)",
     "output_type": "error",
     "traceback": [
      "\u001b[1;31m---------------------------------------------------------------------------\u001b[0m",
      "\u001b[1;31mTypeError\u001b[0m                                 Traceback (most recent call last)",
      "Cell \u001b[1;32mIn[4], line 1\u001b[0m\n\u001b[1;32m----> 1\u001b[0m \u001b[43mcount_primes\u001b[49m\u001b[43m(\u001b[49m\u001b[38;5;241;43m10\u001b[39;49m\u001b[43m)\u001b[49m\n",
      "Cell \u001b[1;32mIn[3], line 12\u001b[0m, in \u001b[0;36mcount_primes\u001b[1;34m(num)\u001b[0m\n\u001b[0;32m     10\u001b[0m             \u001b[38;5;28;01mbreak\u001b[39;00m\n\u001b[0;32m     11\u001b[0m     \u001b[38;5;28;01melse\u001b[39;00m:\n\u001b[1;32m---> 12\u001b[0m         \u001b[43mprimes\u001b[49m\u001b[38;5;241;43m.\u001b[39;49m\u001b[43mappend\u001b[49m\u001b[43m(\u001b[49m\u001b[43m)\u001b[49m\n\u001b[0;32m     13\u001b[0m         x\u001b[38;5;241m=\u001b[39mx\u001b[38;5;241m+\u001b[39m\u001b[38;5;241m2\u001b[39m\n\u001b[0;32m     14\u001b[0m \u001b[38;5;28mprint\u001b[39m(primes)\n",
      "\u001b[1;31mTypeError\u001b[0m: list.append() takes exactly one argument (0 given)"
     ]
    }
   ],
   "source": [
    "count_primes(10)"
   ]
  },
  {
   "cell_type": "code",
   "execution_count": 5,
   "id": "25c13159",
   "metadata": {},
   "outputs": [
    {
     "ename": "TypeError",
     "evalue": "list.append() takes exactly one argument (0 given)",
     "output_type": "error",
     "traceback": [
      "\u001b[1;31m---------------------------------------------------------------------------\u001b[0m",
      "\u001b[1;31mTypeError\u001b[0m                                 Traceback (most recent call last)",
      "Cell \u001b[1;32mIn[5], line 1\u001b[0m\n\u001b[1;32m----> 1\u001b[0m \u001b[43mcount_primes\u001b[49m\u001b[43m(\u001b[49m\u001b[38;5;241;43m15\u001b[39;49m\u001b[43m)\u001b[49m\n",
      "Cell \u001b[1;32mIn[3], line 12\u001b[0m, in \u001b[0;36mcount_primes\u001b[1;34m(num)\u001b[0m\n\u001b[0;32m     10\u001b[0m             \u001b[38;5;28;01mbreak\u001b[39;00m\n\u001b[0;32m     11\u001b[0m     \u001b[38;5;28;01melse\u001b[39;00m:\n\u001b[1;32m---> 12\u001b[0m         \u001b[43mprimes\u001b[49m\u001b[38;5;241;43m.\u001b[39;49m\u001b[43mappend\u001b[49m\u001b[43m(\u001b[49m\u001b[43m)\u001b[49m\n\u001b[0;32m     13\u001b[0m         x\u001b[38;5;241m=\u001b[39mx\u001b[38;5;241m+\u001b[39m\u001b[38;5;241m2\u001b[39m\n\u001b[0;32m     14\u001b[0m \u001b[38;5;28mprint\u001b[39m(primes)\n",
      "\u001b[1;31mTypeError\u001b[0m: list.append() takes exactly one argument (0 given)"
     ]
    }
   ],
   "source": [
    "count_primes(15)"
   ]
  },
  {
   "cell_type": "code",
   "execution_count": 7,
   "id": "35368fdc",
   "metadata": {},
   "outputs": [],
   "source": [
    "def count_primes(num):\n",
    "    if num<2:\n",
    "        return 0\n",
    "    primes = [2]\n",
    "    x = 3\n",
    "    while x <= num:\n",
    "        for y in range(3,x,2):\n",
    "            if x%y == 0:\n",
    "                x+=2\n",
    "                break\n",
    "        else:\n",
    "            primes.append()\n",
    "            x+=2\n",
    "    print(primes)\n",
    "    return len(primes)"
   ]
  },
  {
   "cell_type": "code",
   "execution_count": 8,
   "id": "0c4258ad",
   "metadata": {},
   "outputs": [
    {
     "name": "stdout",
     "output_type": "stream",
     "text": [
      "Oh ! goodness graces\n"
     ]
    }
   ],
   "source": [
    "print(\"Oh ! goodness graces\")"
   ]
  },
  {
   "cell_type": "code",
   "execution_count": null,
   "id": "8d6031f4",
   "metadata": {},
   "outputs": [],
   "source": []
  }
 ],
 "metadata": {
  "kernelspec": {
   "display_name": "Python 3 (ipykernel)",
   "language": "python",
   "name": "python3"
  },
  "language_info": {
   "codemirror_mode": {
    "name": "ipython",
    "version": 3
   },
   "file_extension": ".py",
   "mimetype": "text/x-python",
   "name": "python",
   "nbconvert_exporter": "python",
   "pygments_lexer": "ipython3",
   "version": "3.10.9"
  }
 },
 "nbformat": 4,
 "nbformat_minor": 5
}
