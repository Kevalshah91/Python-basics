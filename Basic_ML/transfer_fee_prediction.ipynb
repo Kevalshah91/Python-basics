{
  "nbformat": 4,
  "nbformat_minor": 0,
  "metadata": {
    "colab": {
      "provenance": []
    },
    "kernelspec": {
      "name": "python3",
      "display_name": "Python 3"
    },
    "language_info": {
      "name": "python"
    }
  },
  "cells": [
    {
      "cell_type": "markdown",
      "source": [
        "# Data Evaluation"
      ],
      "metadata": {
        "id": "O-WnbRXl85Kb"
      }
    },
    {
      "cell_type": "code",
      "execution_count": 1,
      "metadata": {
        "id": "2r_-kl7_Glf9"
      },
      "outputs": [],
      "source": [
        "import numpy as np\n",
        "import pandas as pd\n",
        "import matplotlib.pyplot as plt\n",
        "import seaborn as sns"
      ]
    },
    {
      "cell_type": "code",
      "source": [
        "df = pd.read_csv('/content/top250-00-19.csv')"
      ],
      "metadata": {
        "id": "nN5_b3WIGy8p"
      },
      "execution_count": 2,
      "outputs": []
    },
    {
      "cell_type": "code",
      "source": [
        "df.head()"
      ],
      "metadata": {
        "colab": {
          "base_uri": "https://localhost:8080/",
          "height": 206
        },
        "id": "q94qVk1_HEXy",
        "outputId": "9797e8ff-81b1-4c7e-bb2c-546a2e94eff7"
      },
      "execution_count": 3,
      "outputs": [
        {
          "output_type": "execute_result",
          "data": {
            "text/plain": [
              "                Name        Position  Age     Team_from     League_from  \\\n",
              "0          Luís Figo    Right Winger   27  FC Barcelona          LaLiga   \n",
              "1      Hernán Crespo  Centre-Forward   25         Parma         Serie A   \n",
              "2      Marc Overmars     Left Winger   27       Arsenal  Premier League   \n",
              "3  Gabriel Batistuta  Centre-Forward   31    Fiorentina         Serie A   \n",
              "4     Nicolas Anelka  Centre-Forward   21   Real Madrid          LaLiga   \n",
              "\n",
              "        Team_to League_to     Season  Market_value  Transfer_fee  \n",
              "0   Real Madrid    LaLiga  2000-2001           NaN      60000000  \n",
              "1         Lazio   Serie A  2000-2001           NaN      56810000  \n",
              "2  FC Barcelona    LaLiga  2000-2001           NaN      40000000  \n",
              "3       AS Roma   Serie A  2000-2001           NaN      36150000  \n",
              "4      Paris SG   Ligue 1  2000-2001           NaN      34500000  "
            ],
            "text/html": [
              "\n",
              "  <div id=\"df-d50e5e0e-5911-40a5-a00b-9bd763e7390d\" class=\"colab-df-container\">\n",
              "    <div>\n",
              "<style scoped>\n",
              "    .dataframe tbody tr th:only-of-type {\n",
              "        vertical-align: middle;\n",
              "    }\n",
              "\n",
              "    .dataframe tbody tr th {\n",
              "        vertical-align: top;\n",
              "    }\n",
              "\n",
              "    .dataframe thead th {\n",
              "        text-align: right;\n",
              "    }\n",
              "</style>\n",
              "<table border=\"1\" class=\"dataframe\">\n",
              "  <thead>\n",
              "    <tr style=\"text-align: right;\">\n",
              "      <th></th>\n",
              "      <th>Name</th>\n",
              "      <th>Position</th>\n",
              "      <th>Age</th>\n",
              "      <th>Team_from</th>\n",
              "      <th>League_from</th>\n",
              "      <th>Team_to</th>\n",
              "      <th>League_to</th>\n",
              "      <th>Season</th>\n",
              "      <th>Market_value</th>\n",
              "      <th>Transfer_fee</th>\n",
              "    </tr>\n",
              "  </thead>\n",
              "  <tbody>\n",
              "    <tr>\n",
              "      <th>0</th>\n",
              "      <td>Luís Figo</td>\n",
              "      <td>Right Winger</td>\n",
              "      <td>27</td>\n",
              "      <td>FC Barcelona</td>\n",
              "      <td>LaLiga</td>\n",
              "      <td>Real Madrid</td>\n",
              "      <td>LaLiga</td>\n",
              "      <td>2000-2001</td>\n",
              "      <td>NaN</td>\n",
              "      <td>60000000</td>\n",
              "    </tr>\n",
              "    <tr>\n",
              "      <th>1</th>\n",
              "      <td>Hernán Crespo</td>\n",
              "      <td>Centre-Forward</td>\n",
              "      <td>25</td>\n",
              "      <td>Parma</td>\n",
              "      <td>Serie A</td>\n",
              "      <td>Lazio</td>\n",
              "      <td>Serie A</td>\n",
              "      <td>2000-2001</td>\n",
              "      <td>NaN</td>\n",
              "      <td>56810000</td>\n",
              "    </tr>\n",
              "    <tr>\n",
              "      <th>2</th>\n",
              "      <td>Marc Overmars</td>\n",
              "      <td>Left Winger</td>\n",
              "      <td>27</td>\n",
              "      <td>Arsenal</td>\n",
              "      <td>Premier League</td>\n",
              "      <td>FC Barcelona</td>\n",
              "      <td>LaLiga</td>\n",
              "      <td>2000-2001</td>\n",
              "      <td>NaN</td>\n",
              "      <td>40000000</td>\n",
              "    </tr>\n",
              "    <tr>\n",
              "      <th>3</th>\n",
              "      <td>Gabriel Batistuta</td>\n",
              "      <td>Centre-Forward</td>\n",
              "      <td>31</td>\n",
              "      <td>Fiorentina</td>\n",
              "      <td>Serie A</td>\n",
              "      <td>AS Roma</td>\n",
              "      <td>Serie A</td>\n",
              "      <td>2000-2001</td>\n",
              "      <td>NaN</td>\n",
              "      <td>36150000</td>\n",
              "    </tr>\n",
              "    <tr>\n",
              "      <th>4</th>\n",
              "      <td>Nicolas Anelka</td>\n",
              "      <td>Centre-Forward</td>\n",
              "      <td>21</td>\n",
              "      <td>Real Madrid</td>\n",
              "      <td>LaLiga</td>\n",
              "      <td>Paris SG</td>\n",
              "      <td>Ligue 1</td>\n",
              "      <td>2000-2001</td>\n",
              "      <td>NaN</td>\n",
              "      <td>34500000</td>\n",
              "    </tr>\n",
              "  </tbody>\n",
              "</table>\n",
              "</div>\n",
              "    <div class=\"colab-df-buttons\">\n",
              "\n",
              "  <div class=\"colab-df-container\">\n",
              "    <button class=\"colab-df-convert\" onclick=\"convertToInteractive('df-d50e5e0e-5911-40a5-a00b-9bd763e7390d')\"\n",
              "            title=\"Convert this dataframe to an interactive table.\"\n",
              "            style=\"display:none;\">\n",
              "\n",
              "  <svg xmlns=\"http://www.w3.org/2000/svg\" height=\"24px\" viewBox=\"0 -960 960 960\">\n",
              "    <path d=\"M120-120v-720h720v720H120Zm60-500h600v-160H180v160Zm220 220h160v-160H400v160Zm0 220h160v-160H400v160ZM180-400h160v-160H180v160Zm440 0h160v-160H620v160ZM180-180h160v-160H180v160Zm440 0h160v-160H620v160Z\"/>\n",
              "  </svg>\n",
              "    </button>\n",
              "\n",
              "  <style>\n",
              "    .colab-df-container {\n",
              "      display:flex;\n",
              "      gap: 12px;\n",
              "    }\n",
              "\n",
              "    .colab-df-convert {\n",
              "      background-color: #E8F0FE;\n",
              "      border: none;\n",
              "      border-radius: 50%;\n",
              "      cursor: pointer;\n",
              "      display: none;\n",
              "      fill: #1967D2;\n",
              "      height: 32px;\n",
              "      padding: 0 0 0 0;\n",
              "      width: 32px;\n",
              "    }\n",
              "\n",
              "    .colab-df-convert:hover {\n",
              "      background-color: #E2EBFA;\n",
              "      box-shadow: 0px 1px 2px rgba(60, 64, 67, 0.3), 0px 1px 3px 1px rgba(60, 64, 67, 0.15);\n",
              "      fill: #174EA6;\n",
              "    }\n",
              "\n",
              "    .colab-df-buttons div {\n",
              "      margin-bottom: 4px;\n",
              "    }\n",
              "\n",
              "    [theme=dark] .colab-df-convert {\n",
              "      background-color: #3B4455;\n",
              "      fill: #D2E3FC;\n",
              "    }\n",
              "\n",
              "    [theme=dark] .colab-df-convert:hover {\n",
              "      background-color: #434B5C;\n",
              "      box-shadow: 0px 1px 3px 1px rgba(0, 0, 0, 0.15);\n",
              "      filter: drop-shadow(0px 1px 2px rgba(0, 0, 0, 0.3));\n",
              "      fill: #FFFFFF;\n",
              "    }\n",
              "  </style>\n",
              "\n",
              "    <script>\n",
              "      const buttonEl =\n",
              "        document.querySelector('#df-d50e5e0e-5911-40a5-a00b-9bd763e7390d button.colab-df-convert');\n",
              "      buttonEl.style.display =\n",
              "        google.colab.kernel.accessAllowed ? 'block' : 'none';\n",
              "\n",
              "      async function convertToInteractive(key) {\n",
              "        const element = document.querySelector('#df-d50e5e0e-5911-40a5-a00b-9bd763e7390d');\n",
              "        const dataTable =\n",
              "          await google.colab.kernel.invokeFunction('convertToInteractive',\n",
              "                                                    [key], {});\n",
              "        if (!dataTable) return;\n",
              "\n",
              "        const docLinkHtml = 'Like what you see? Visit the ' +\n",
              "          '<a target=\"_blank\" href=https://colab.research.google.com/notebooks/data_table.ipynb>data table notebook</a>'\n",
              "          + ' to learn more about interactive tables.';\n",
              "        element.innerHTML = '';\n",
              "        dataTable['output_type'] = 'display_data';\n",
              "        await google.colab.output.renderOutput(dataTable, element);\n",
              "        const docLink = document.createElement('div');\n",
              "        docLink.innerHTML = docLinkHtml;\n",
              "        element.appendChild(docLink);\n",
              "      }\n",
              "    </script>\n",
              "  </div>\n",
              "\n",
              "\n",
              "<div id=\"df-d4e00eb7-9950-4105-844c-7cc87fbffa8e\">\n",
              "  <button class=\"colab-df-quickchart\" onclick=\"quickchart('df-d4e00eb7-9950-4105-844c-7cc87fbffa8e')\"\n",
              "            title=\"Suggest charts\"\n",
              "            style=\"display:none;\">\n",
              "\n",
              "<svg xmlns=\"http://www.w3.org/2000/svg\" height=\"24px\"viewBox=\"0 0 24 24\"\n",
              "     width=\"24px\">\n",
              "    <g>\n",
              "        <path d=\"M19 3H5c-1.1 0-2 .9-2 2v14c0 1.1.9 2 2 2h14c1.1 0 2-.9 2-2V5c0-1.1-.9-2-2-2zM9 17H7v-7h2v7zm4 0h-2V7h2v10zm4 0h-2v-4h2v4z\"/>\n",
              "    </g>\n",
              "</svg>\n",
              "  </button>\n",
              "\n",
              "<style>\n",
              "  .colab-df-quickchart {\n",
              "      --bg-color: #E8F0FE;\n",
              "      --fill-color: #1967D2;\n",
              "      --hover-bg-color: #E2EBFA;\n",
              "      --hover-fill-color: #174EA6;\n",
              "      --disabled-fill-color: #AAA;\n",
              "      --disabled-bg-color: #DDD;\n",
              "  }\n",
              "\n",
              "  [theme=dark] .colab-df-quickchart {\n",
              "      --bg-color: #3B4455;\n",
              "      --fill-color: #D2E3FC;\n",
              "      --hover-bg-color: #434B5C;\n",
              "      --hover-fill-color: #FFFFFF;\n",
              "      --disabled-bg-color: #3B4455;\n",
              "      --disabled-fill-color: #666;\n",
              "  }\n",
              "\n",
              "  .colab-df-quickchart {\n",
              "    background-color: var(--bg-color);\n",
              "    border: none;\n",
              "    border-radius: 50%;\n",
              "    cursor: pointer;\n",
              "    display: none;\n",
              "    fill: var(--fill-color);\n",
              "    height: 32px;\n",
              "    padding: 0;\n",
              "    width: 32px;\n",
              "  }\n",
              "\n",
              "  .colab-df-quickchart:hover {\n",
              "    background-color: var(--hover-bg-color);\n",
              "    box-shadow: 0 1px 2px rgba(60, 64, 67, 0.3), 0 1px 3px 1px rgba(60, 64, 67, 0.15);\n",
              "    fill: var(--button-hover-fill-color);\n",
              "  }\n",
              "\n",
              "  .colab-df-quickchart-complete:disabled,\n",
              "  .colab-df-quickchart-complete:disabled:hover {\n",
              "    background-color: var(--disabled-bg-color);\n",
              "    fill: var(--disabled-fill-color);\n",
              "    box-shadow: none;\n",
              "  }\n",
              "\n",
              "  .colab-df-spinner {\n",
              "    border: 2px solid var(--fill-color);\n",
              "    border-color: transparent;\n",
              "    border-bottom-color: var(--fill-color);\n",
              "    animation:\n",
              "      spin 1s steps(1) infinite;\n",
              "  }\n",
              "\n",
              "  @keyframes spin {\n",
              "    0% {\n",
              "      border-color: transparent;\n",
              "      border-bottom-color: var(--fill-color);\n",
              "      border-left-color: var(--fill-color);\n",
              "    }\n",
              "    20% {\n",
              "      border-color: transparent;\n",
              "      border-left-color: var(--fill-color);\n",
              "      border-top-color: var(--fill-color);\n",
              "    }\n",
              "    30% {\n",
              "      border-color: transparent;\n",
              "      border-left-color: var(--fill-color);\n",
              "      border-top-color: var(--fill-color);\n",
              "      border-right-color: var(--fill-color);\n",
              "    }\n",
              "    40% {\n",
              "      border-color: transparent;\n",
              "      border-right-color: var(--fill-color);\n",
              "      border-top-color: var(--fill-color);\n",
              "    }\n",
              "    60% {\n",
              "      border-color: transparent;\n",
              "      border-right-color: var(--fill-color);\n",
              "    }\n",
              "    80% {\n",
              "      border-color: transparent;\n",
              "      border-right-color: var(--fill-color);\n",
              "      border-bottom-color: var(--fill-color);\n",
              "    }\n",
              "    90% {\n",
              "      border-color: transparent;\n",
              "      border-bottom-color: var(--fill-color);\n",
              "    }\n",
              "  }\n",
              "</style>\n",
              "\n",
              "  <script>\n",
              "    async function quickchart(key) {\n",
              "      const quickchartButtonEl =\n",
              "        document.querySelector('#' + key + ' button');\n",
              "      quickchartButtonEl.disabled = true;  // To prevent multiple clicks.\n",
              "      quickchartButtonEl.classList.add('colab-df-spinner');\n",
              "      try {\n",
              "        const charts = await google.colab.kernel.invokeFunction(\n",
              "            'suggestCharts', [key], {});\n",
              "      } catch (error) {\n",
              "        console.error('Error during call to suggestCharts:', error);\n",
              "      }\n",
              "      quickchartButtonEl.classList.remove('colab-df-spinner');\n",
              "      quickchartButtonEl.classList.add('colab-df-quickchart-complete');\n",
              "    }\n",
              "    (() => {\n",
              "      let quickchartButtonEl =\n",
              "        document.querySelector('#df-d4e00eb7-9950-4105-844c-7cc87fbffa8e button');\n",
              "      quickchartButtonEl.style.display =\n",
              "        google.colab.kernel.accessAllowed ? 'block' : 'none';\n",
              "    })();\n",
              "  </script>\n",
              "</div>\n",
              "\n",
              "    </div>\n",
              "  </div>\n"
            ],
            "application/vnd.google.colaboratory.intrinsic+json": {
              "type": "dataframe",
              "variable_name": "df",
              "summary": "{\n  \"name\": \"df\",\n  \"rows\": 4700,\n  \"fields\": [\n    {\n      \"column\": \"Name\",\n      \"properties\": {\n        \"dtype\": \"string\",\n        \"num_unique_values\": 3104,\n        \"samples\": [\n          \"Esteban Solari\",\n          \"Ismaily\",\n          \"Flavio Roma\"\n        ],\n        \"semantic_type\": \"\",\n        \"description\": \"\"\n      }\n    },\n    {\n      \"column\": \"Position\",\n      \"properties\": {\n        \"dtype\": \"category\",\n        \"num_unique_values\": 17,\n        \"samples\": [\n          \"Right Winger\",\n          \"Centre-Forward\",\n          \"Attacking Midfield\"\n        ],\n        \"semantic_type\": \"\",\n        \"description\": \"\"\n      }\n    },\n    {\n      \"column\": \"Age\",\n      \"properties\": {\n        \"dtype\": \"number\",\n        \"std\": 3,\n        \"min\": 0,\n        \"max\": 35,\n        \"num_unique_values\": 22,\n        \"samples\": [\n          27,\n          35,\n          19\n        ],\n        \"semantic_type\": \"\",\n        \"description\": \"\"\n      }\n    },\n    {\n      \"column\": \"Team_from\",\n      \"properties\": {\n        \"dtype\": \"category\",\n        \"num_unique_values\": 570,\n        \"samples\": [\n          \"Esperance\",\n          \"Bologna\",\n          \"Club Brugge\"\n        ],\n        \"semantic_type\": \"\",\n        \"description\": \"\"\n      }\n    },\n    {\n      \"column\": \"League_from\",\n      \"properties\": {\n        \"dtype\": \"category\",\n        \"num_unique_values\": 118,\n        \"samples\": [\n          \"K League 1\",\n          \"S\\u00e9rie B\",\n          \"LaLiga2\"\n        ],\n        \"semantic_type\": \"\",\n        \"description\": \"\"\n      }\n    },\n    {\n      \"column\": \"Team_to\",\n      \"properties\": {\n        \"dtype\": \"category\",\n        \"num_unique_values\": 325,\n        \"samples\": [\n          \"Al Arabi\",\n          \"CSKA Moscow\",\n          \"UD Almer\\u00eda\"\n        ],\n        \"semantic_type\": \"\",\n        \"description\": \"\"\n      }\n    },\n    {\n      \"column\": \"League_to\",\n      \"properties\": {\n        \"dtype\": \"category\",\n        \"num_unique_values\": 65,\n        \"samples\": [\n          \"Primavera B\",\n          \"Segunda Divisi\\u00f3n - Segunda Fase\",\n          \"LaLiga\"\n        ],\n        \"semantic_type\": \"\",\n        \"description\": \"\"\n      }\n    },\n    {\n      \"column\": \"Season\",\n      \"properties\": {\n        \"dtype\": \"category\",\n        \"num_unique_values\": 19,\n        \"samples\": [\n          \"2000-2001\",\n          \"2005-2006\",\n          \"2011-2012\"\n        ],\n        \"semantic_type\": \"\",\n        \"description\": \"\"\n      }\n    },\n    {\n      \"column\": \"Market_value\",\n      \"properties\": {\n        \"dtype\": \"number\",\n        \"std\": 8795180.75212641,\n        \"min\": 50000.0,\n        \"max\": 120000000.0,\n        \"num_unique_values\": 180,\n        \"samples\": [\n          2250000.0,\n          18000000.0,\n          7800000.0\n        ],\n        \"semantic_type\": \"\",\n        \"description\": \"\"\n      }\n    },\n    {\n      \"column\": \"Transfer_fee\",\n      \"properties\": {\n        \"dtype\": \"number\",\n        \"std\": 10437719,\n        \"min\": 825000,\n        \"max\": 222000000,\n        \"num_unique_values\": 507,\n        \"samples\": [\n          12750000,\n          5650000,\n          67800000\n        ],\n        \"semantic_type\": \"\",\n        \"description\": \"\"\n      }\n    }\n  ]\n}"
            }
          },
          "metadata": {},
          "execution_count": 3
        }
      ]
    },
    {
      "cell_type": "code",
      "source": [
        "df.isna().sum()"
      ],
      "metadata": {
        "colab": {
          "base_uri": "https://localhost:8080/"
        },
        "id": "LVnmLZ0RHFuI",
        "outputId": "d363e4fa-6c93-417b-826b-6052ebbbf5b0"
      },
      "execution_count": 4,
      "outputs": [
        {
          "output_type": "execute_result",
          "data": {
            "text/plain": [
              "Name               0\n",
              "Position           0\n",
              "Age                0\n",
              "Team_from          0\n",
              "League_from        0\n",
              "Team_to            0\n",
              "League_to          0\n",
              "Season             0\n",
              "Market_value    1260\n",
              "Transfer_fee       0\n",
              "dtype: int64"
            ]
          },
          "metadata": {},
          "execution_count": 4
        }
      ]
    },
    {
      "cell_type": "code",
      "source": [
        "median_market_value = df['Market_value'].median()\n",
        "df['Market_value'].fillna(median_market_value, inplace=True)"
      ],
      "metadata": {
        "id": "7DwJrphiHJF0"
      },
      "execution_count": 5,
      "outputs": []
    },
    {
      "cell_type": "markdown",
      "source": [
        "1. **Robustness to Outliers:** The median is less affected by outliers compared to the mean, ensuring that extreme values in the \"Market_value\" column do not unduly influence the imputed values.\n",
        "\n",
        "\n",
        "2. **Preservation of Distribution:** Imputing missing values with the median maintains the overall distribution of the data, as it represents the middle value and is not skewed by extreme values.\n",
        "\n",
        "\n",
        "3. **Suitability for Skewed Data:** In cases of skewed data distributions, the median is a more appropriate measure of central tendency than the mean, ensuring that imputed values align better with the underlying distribution of the data."
      ],
      "metadata": {
        "id": "LqOjREBLH6N5"
      }
    },
    {
      "cell_type": "code",
      "source": [
        "df.isna().sum()"
      ],
      "metadata": {
        "colab": {
          "base_uri": "https://localhost:8080/"
        },
        "id": "1QzXVQ8vH3L_",
        "outputId": "2d623fcf-5645-498e-de37-374548be291a"
      },
      "execution_count": 6,
      "outputs": [
        {
          "output_type": "execute_result",
          "data": {
            "text/plain": [
              "Name            0\n",
              "Position        0\n",
              "Age             0\n",
              "Team_from       0\n",
              "League_from     0\n",
              "Team_to         0\n",
              "League_to       0\n",
              "Season          0\n",
              "Market_value    0\n",
              "Transfer_fee    0\n",
              "dtype: int64"
            ]
          },
          "metadata": {},
          "execution_count": 6
        }
      ]
    },
    {
      "cell_type": "code",
      "source": [
        "df.columns"
      ],
      "metadata": {
        "colab": {
          "base_uri": "https://localhost:8080/"
        },
        "id": "LL8BMXzSJnjG",
        "outputId": "1e3d410e-85cc-40b4-ced5-66a56a1d668b"
      },
      "execution_count": 7,
      "outputs": [
        {
          "output_type": "execute_result",
          "data": {
            "text/plain": [
              "Index(['Name', 'Position', 'Age', 'Team_from', 'League_from', 'Team_to',\n",
              "       'League_to', 'Season', 'Market_value', 'Transfer_fee'],\n",
              "      dtype='object')"
            ]
          },
          "metadata": {},
          "execution_count": 7
        }
      ]
    },
    {
      "cell_type": "code",
      "source": [
        "df['Position'].value_counts()"
      ],
      "metadata": {
        "colab": {
          "base_uri": "https://localhost:8080/"
        },
        "id": "GGAlN-G8H5Ix",
        "outputId": "c8dffa09-63cf-4510-fc8a-b21b7077f16d"
      },
      "execution_count": 9,
      "outputs": [
        {
          "output_type": "execute_result",
          "data": {
            "text/plain": [
              "Position\n",
              "Centre-Forward        1218\n",
              "Centre-Back            714\n",
              "Central Midfield       487\n",
              "Attacking Midfield     426\n",
              "Defensive Midfield     411\n",
              "Right Winger           305\n",
              "Left Winger            267\n",
              "Left-Back              225\n",
              "Right-Back             181\n",
              "Goalkeeper             180\n",
              "Second Striker         130\n",
              "Left Midfield           87\n",
              "Right Midfield          63\n",
              "Forward                  3\n",
              "Sweeper                  1\n",
              "Defender                 1\n",
              "Midfielder               1\n",
              "Name: count, dtype: int64"
            ]
          },
          "metadata": {},
          "execution_count": 9
        }
      ]
    },
    {
      "cell_type": "code",
      "source": [
        "df.describe()"
      ],
      "metadata": {
        "colab": {
          "base_uri": "https://localhost:8080/",
          "height": 300
        },
        "id": "D5SzhU24JFsD",
        "outputId": "b3a0bc5f-192b-4c78-f159-23fb3150336e"
      },
      "execution_count": 10,
      "outputs": [
        {
          "output_type": "execute_result",
          "data": {
            "text/plain": [
              "               Age  Market_value  Transfer_fee\n",
              "count  4700.000000  4.700000e+03  4.700000e+03\n",
              "mean     24.338723  7.919424e+06  9.447586e+06\n",
              "std       3.230809  7.613327e+06  1.043772e+07\n",
              "min       0.000000  5.000000e+04  8.250000e+05\n",
              "25%      22.000000  4.500000e+06  4.000000e+06\n",
              "50%      24.000000  6.000000e+06  6.500000e+06\n",
              "75%      27.000000  8.050000e+06  1.082000e+07\n",
              "max      35.000000  1.200000e+08  2.220000e+08"
            ],
            "text/html": [
              "\n",
              "  <div id=\"df-f423b61a-4ca4-473c-8315-b3798af8f6d5\" class=\"colab-df-container\">\n",
              "    <div>\n",
              "<style scoped>\n",
              "    .dataframe tbody tr th:only-of-type {\n",
              "        vertical-align: middle;\n",
              "    }\n",
              "\n",
              "    .dataframe tbody tr th {\n",
              "        vertical-align: top;\n",
              "    }\n",
              "\n",
              "    .dataframe thead th {\n",
              "        text-align: right;\n",
              "    }\n",
              "</style>\n",
              "<table border=\"1\" class=\"dataframe\">\n",
              "  <thead>\n",
              "    <tr style=\"text-align: right;\">\n",
              "      <th></th>\n",
              "      <th>Age</th>\n",
              "      <th>Market_value</th>\n",
              "      <th>Transfer_fee</th>\n",
              "    </tr>\n",
              "  </thead>\n",
              "  <tbody>\n",
              "    <tr>\n",
              "      <th>count</th>\n",
              "      <td>4700.000000</td>\n",
              "      <td>4.700000e+03</td>\n",
              "      <td>4.700000e+03</td>\n",
              "    </tr>\n",
              "    <tr>\n",
              "      <th>mean</th>\n",
              "      <td>24.338723</td>\n",
              "      <td>7.919424e+06</td>\n",
              "      <td>9.447586e+06</td>\n",
              "    </tr>\n",
              "    <tr>\n",
              "      <th>std</th>\n",
              "      <td>3.230809</td>\n",
              "      <td>7.613327e+06</td>\n",
              "      <td>1.043772e+07</td>\n",
              "    </tr>\n",
              "    <tr>\n",
              "      <th>min</th>\n",
              "      <td>0.000000</td>\n",
              "      <td>5.000000e+04</td>\n",
              "      <td>8.250000e+05</td>\n",
              "    </tr>\n",
              "    <tr>\n",
              "      <th>25%</th>\n",
              "      <td>22.000000</td>\n",
              "      <td>4.500000e+06</td>\n",
              "      <td>4.000000e+06</td>\n",
              "    </tr>\n",
              "    <tr>\n",
              "      <th>50%</th>\n",
              "      <td>24.000000</td>\n",
              "      <td>6.000000e+06</td>\n",
              "      <td>6.500000e+06</td>\n",
              "    </tr>\n",
              "    <tr>\n",
              "      <th>75%</th>\n",
              "      <td>27.000000</td>\n",
              "      <td>8.050000e+06</td>\n",
              "      <td>1.082000e+07</td>\n",
              "    </tr>\n",
              "    <tr>\n",
              "      <th>max</th>\n",
              "      <td>35.000000</td>\n",
              "      <td>1.200000e+08</td>\n",
              "      <td>2.220000e+08</td>\n",
              "    </tr>\n",
              "  </tbody>\n",
              "</table>\n",
              "</div>\n",
              "    <div class=\"colab-df-buttons\">\n",
              "\n",
              "  <div class=\"colab-df-container\">\n",
              "    <button class=\"colab-df-convert\" onclick=\"convertToInteractive('df-f423b61a-4ca4-473c-8315-b3798af8f6d5')\"\n",
              "            title=\"Convert this dataframe to an interactive table.\"\n",
              "            style=\"display:none;\">\n",
              "\n",
              "  <svg xmlns=\"http://www.w3.org/2000/svg\" height=\"24px\" viewBox=\"0 -960 960 960\">\n",
              "    <path d=\"M120-120v-720h720v720H120Zm60-500h600v-160H180v160Zm220 220h160v-160H400v160Zm0 220h160v-160H400v160ZM180-400h160v-160H180v160Zm440 0h160v-160H620v160ZM180-180h160v-160H180v160Zm440 0h160v-160H620v160Z\"/>\n",
              "  </svg>\n",
              "    </button>\n",
              "\n",
              "  <style>\n",
              "    .colab-df-container {\n",
              "      display:flex;\n",
              "      gap: 12px;\n",
              "    }\n",
              "\n",
              "    .colab-df-convert {\n",
              "      background-color: #E8F0FE;\n",
              "      border: none;\n",
              "      border-radius: 50%;\n",
              "      cursor: pointer;\n",
              "      display: none;\n",
              "      fill: #1967D2;\n",
              "      height: 32px;\n",
              "      padding: 0 0 0 0;\n",
              "      width: 32px;\n",
              "    }\n",
              "\n",
              "    .colab-df-convert:hover {\n",
              "      background-color: #E2EBFA;\n",
              "      box-shadow: 0px 1px 2px rgba(60, 64, 67, 0.3), 0px 1px 3px 1px rgba(60, 64, 67, 0.15);\n",
              "      fill: #174EA6;\n",
              "    }\n",
              "\n",
              "    .colab-df-buttons div {\n",
              "      margin-bottom: 4px;\n",
              "    }\n",
              "\n",
              "    [theme=dark] .colab-df-convert {\n",
              "      background-color: #3B4455;\n",
              "      fill: #D2E3FC;\n",
              "    }\n",
              "\n",
              "    [theme=dark] .colab-df-convert:hover {\n",
              "      background-color: #434B5C;\n",
              "      box-shadow: 0px 1px 3px 1px rgba(0, 0, 0, 0.15);\n",
              "      filter: drop-shadow(0px 1px 2px rgba(0, 0, 0, 0.3));\n",
              "      fill: #FFFFFF;\n",
              "    }\n",
              "  </style>\n",
              "\n",
              "    <script>\n",
              "      const buttonEl =\n",
              "        document.querySelector('#df-f423b61a-4ca4-473c-8315-b3798af8f6d5 button.colab-df-convert');\n",
              "      buttonEl.style.display =\n",
              "        google.colab.kernel.accessAllowed ? 'block' : 'none';\n",
              "\n",
              "      async function convertToInteractive(key) {\n",
              "        const element = document.querySelector('#df-f423b61a-4ca4-473c-8315-b3798af8f6d5');\n",
              "        const dataTable =\n",
              "          await google.colab.kernel.invokeFunction('convertToInteractive',\n",
              "                                                    [key], {});\n",
              "        if (!dataTable) return;\n",
              "\n",
              "        const docLinkHtml = 'Like what you see? Visit the ' +\n",
              "          '<a target=\"_blank\" href=https://colab.research.google.com/notebooks/data_table.ipynb>data table notebook</a>'\n",
              "          + ' to learn more about interactive tables.';\n",
              "        element.innerHTML = '';\n",
              "        dataTable['output_type'] = 'display_data';\n",
              "        await google.colab.output.renderOutput(dataTable, element);\n",
              "        const docLink = document.createElement('div');\n",
              "        docLink.innerHTML = docLinkHtml;\n",
              "        element.appendChild(docLink);\n",
              "      }\n",
              "    </script>\n",
              "  </div>\n",
              "\n",
              "\n",
              "<div id=\"df-2816377c-e214-463c-8c64-b4b600a3e44c\">\n",
              "  <button class=\"colab-df-quickchart\" onclick=\"quickchart('df-2816377c-e214-463c-8c64-b4b600a3e44c')\"\n",
              "            title=\"Suggest charts\"\n",
              "            style=\"display:none;\">\n",
              "\n",
              "<svg xmlns=\"http://www.w3.org/2000/svg\" height=\"24px\"viewBox=\"0 0 24 24\"\n",
              "     width=\"24px\">\n",
              "    <g>\n",
              "        <path d=\"M19 3H5c-1.1 0-2 .9-2 2v14c0 1.1.9 2 2 2h14c1.1 0 2-.9 2-2V5c0-1.1-.9-2-2-2zM9 17H7v-7h2v7zm4 0h-2V7h2v10zm4 0h-2v-4h2v4z\"/>\n",
              "    </g>\n",
              "</svg>\n",
              "  </button>\n",
              "\n",
              "<style>\n",
              "  .colab-df-quickchart {\n",
              "      --bg-color: #E8F0FE;\n",
              "      --fill-color: #1967D2;\n",
              "      --hover-bg-color: #E2EBFA;\n",
              "      --hover-fill-color: #174EA6;\n",
              "      --disabled-fill-color: #AAA;\n",
              "      --disabled-bg-color: #DDD;\n",
              "  }\n",
              "\n",
              "  [theme=dark] .colab-df-quickchart {\n",
              "      --bg-color: #3B4455;\n",
              "      --fill-color: #D2E3FC;\n",
              "      --hover-bg-color: #434B5C;\n",
              "      --hover-fill-color: #FFFFFF;\n",
              "      --disabled-bg-color: #3B4455;\n",
              "      --disabled-fill-color: #666;\n",
              "  }\n",
              "\n",
              "  .colab-df-quickchart {\n",
              "    background-color: var(--bg-color);\n",
              "    border: none;\n",
              "    border-radius: 50%;\n",
              "    cursor: pointer;\n",
              "    display: none;\n",
              "    fill: var(--fill-color);\n",
              "    height: 32px;\n",
              "    padding: 0;\n",
              "    width: 32px;\n",
              "  }\n",
              "\n",
              "  .colab-df-quickchart:hover {\n",
              "    background-color: var(--hover-bg-color);\n",
              "    box-shadow: 0 1px 2px rgba(60, 64, 67, 0.3), 0 1px 3px 1px rgba(60, 64, 67, 0.15);\n",
              "    fill: var(--button-hover-fill-color);\n",
              "  }\n",
              "\n",
              "  .colab-df-quickchart-complete:disabled,\n",
              "  .colab-df-quickchart-complete:disabled:hover {\n",
              "    background-color: var(--disabled-bg-color);\n",
              "    fill: var(--disabled-fill-color);\n",
              "    box-shadow: none;\n",
              "  }\n",
              "\n",
              "  .colab-df-spinner {\n",
              "    border: 2px solid var(--fill-color);\n",
              "    border-color: transparent;\n",
              "    border-bottom-color: var(--fill-color);\n",
              "    animation:\n",
              "      spin 1s steps(1) infinite;\n",
              "  }\n",
              "\n",
              "  @keyframes spin {\n",
              "    0% {\n",
              "      border-color: transparent;\n",
              "      border-bottom-color: var(--fill-color);\n",
              "      border-left-color: var(--fill-color);\n",
              "    }\n",
              "    20% {\n",
              "      border-color: transparent;\n",
              "      border-left-color: var(--fill-color);\n",
              "      border-top-color: var(--fill-color);\n",
              "    }\n",
              "    30% {\n",
              "      border-color: transparent;\n",
              "      border-left-color: var(--fill-color);\n",
              "      border-top-color: var(--fill-color);\n",
              "      border-right-color: var(--fill-color);\n",
              "    }\n",
              "    40% {\n",
              "      border-color: transparent;\n",
              "      border-right-color: var(--fill-color);\n",
              "      border-top-color: var(--fill-color);\n",
              "    }\n",
              "    60% {\n",
              "      border-color: transparent;\n",
              "      border-right-color: var(--fill-color);\n",
              "    }\n",
              "    80% {\n",
              "      border-color: transparent;\n",
              "      border-right-color: var(--fill-color);\n",
              "      border-bottom-color: var(--fill-color);\n",
              "    }\n",
              "    90% {\n",
              "      border-color: transparent;\n",
              "      border-bottom-color: var(--fill-color);\n",
              "    }\n",
              "  }\n",
              "</style>\n",
              "\n",
              "  <script>\n",
              "    async function quickchart(key) {\n",
              "      const quickchartButtonEl =\n",
              "        document.querySelector('#' + key + ' button');\n",
              "      quickchartButtonEl.disabled = true;  // To prevent multiple clicks.\n",
              "      quickchartButtonEl.classList.add('colab-df-spinner');\n",
              "      try {\n",
              "        const charts = await google.colab.kernel.invokeFunction(\n",
              "            'suggestCharts', [key], {});\n",
              "      } catch (error) {\n",
              "        console.error('Error during call to suggestCharts:', error);\n",
              "      }\n",
              "      quickchartButtonEl.classList.remove('colab-df-spinner');\n",
              "      quickchartButtonEl.classList.add('colab-df-quickchart-complete');\n",
              "    }\n",
              "    (() => {\n",
              "      let quickchartButtonEl =\n",
              "        document.querySelector('#df-2816377c-e214-463c-8c64-b4b600a3e44c button');\n",
              "      quickchartButtonEl.style.display =\n",
              "        google.colab.kernel.accessAllowed ? 'block' : 'none';\n",
              "    })();\n",
              "  </script>\n",
              "</div>\n",
              "\n",
              "    </div>\n",
              "  </div>\n"
            ],
            "application/vnd.google.colaboratory.intrinsic+json": {
              "type": "dataframe",
              "summary": "{\n  \"name\": \"df\",\n  \"rows\": 8,\n  \"fields\": [\n    {\n      \"column\": \"Age\",\n      \"properties\": {\n        \"dtype\": \"number\",\n        \"std\": 1654.8964242065208,\n        \"min\": 0.0,\n        \"max\": 4700.0,\n        \"num_unique_values\": 8,\n        \"samples\": [\n          24.33872340425532,\n          24.0,\n          4700.0\n        ],\n        \"semantic_type\": \"\",\n        \"description\": \"\"\n      }\n    },\n    {\n      \"column\": \"Market_value\",\n      \"properties\": {\n        \"dtype\": \"number\",\n        \"std\": 40834055.84994909,\n        \"min\": 4700.0,\n        \"max\": 120000000.0,\n        \"num_unique_values\": 8,\n        \"samples\": [\n          7919424.468085106,\n          6000000.0,\n          4700.0\n        ],\n        \"semantic_type\": \"\",\n        \"description\": \"\"\n      }\n    },\n    {\n      \"column\": \"Transfer_fee\",\n      \"properties\": {\n        \"dtype\": \"number\",\n        \"std\": 76479591.48923525,\n        \"min\": 4700.0,\n        \"max\": 222000000.0,\n        \"num_unique_values\": 8,\n        \"samples\": [\n          9447586.170212766,\n          6500000.0,\n          4700.0\n        ],\n        \"semantic_type\": \"\",\n        \"description\": \"\"\n      }\n    }\n  ]\n}"
            }
          },
          "metadata": {},
          "execution_count": 10
        }
      ]
    },
    {
      "cell_type": "code",
      "source": [
        "df.info()"
      ],
      "metadata": {
        "colab": {
          "base_uri": "https://localhost:8080/"
        },
        "id": "5SgEU1WXKzbZ",
        "outputId": "90f69095-c53c-429f-9124-b2ded7179299"
      },
      "execution_count": 11,
      "outputs": [
        {
          "output_type": "stream",
          "name": "stdout",
          "text": [
            "<class 'pandas.core.frame.DataFrame'>\n",
            "RangeIndex: 4700 entries, 0 to 4699\n",
            "Data columns (total 10 columns):\n",
            " #   Column        Non-Null Count  Dtype  \n",
            "---  ------        --------------  -----  \n",
            " 0   Name          4700 non-null   object \n",
            " 1   Position      4700 non-null   object \n",
            " 2   Age           4700 non-null   int64  \n",
            " 3   Team_from     4700 non-null   object \n",
            " 4   League_from   4700 non-null   object \n",
            " 5   Team_to       4700 non-null   object \n",
            " 6   League_to     4700 non-null   object \n",
            " 7   Season        4700 non-null   object \n",
            " 8   Market_value  4700 non-null   float64\n",
            " 9   Transfer_fee  4700 non-null   int64  \n",
            "dtypes: float64(1), int64(2), object(7)\n",
            "memory usage: 367.3+ KB\n"
          ]
        }
      ]
    },
    {
      "cell_type": "markdown",
      "source": [
        "# Label Encoding"
      ],
      "metadata": {
        "id": "Xe96vecl9BQ9"
      }
    },
    {
      "cell_type": "markdown",
      "source": [
        "Encoding categorical variables is an essential step in preparing the data for machine learning models. We'll use one-hot encoding to convert categorical variables into numerical representations.\n",
        "\n",
        "\n",
        "After encoding, each categorical variable will be replaced with multiple binary variables indicating the presence or absence of each category."
      ],
      "metadata": {
        "id": "0SDrTlcWLLwW"
      }
    },
    {
      "cell_type": "code",
      "source": [
        "from sklearn.preprocessing import LabelEncoder\n",
        "\n",
        "label_encoder = LabelEncoder()\n",
        "\n",
        "for col in ['Position', 'Team_from', 'League_from', 'Team_to', 'League_to', 'Season']:\n",
        "    df[col] = label_encoder.fit_transform(df[col])\n",
        "\n",
        "df.head()\n"
      ],
      "metadata": {
        "colab": {
          "base_uri": "https://localhost:8080/",
          "height": 206
        },
        "id": "09G045NcK2DI",
        "outputId": "9b1c496a-1ad7-43f1-fd7d-ff60d2df54ee"
      },
      "execution_count": 12,
      "outputs": [
        {
          "output_type": "execute_result",
          "data": {
            "text/plain": [
              "                Name  Position  Age  Team_from  League_from  Team_to  \\\n",
              "0          Luís Figo        13   27        183           68      243   \n",
              "1      Hernán Crespo         3   25        386           97      176   \n",
              "2      Marc Overmars         9   27         43           84      110   \n",
              "3  Gabriel Batistuta         3   31        217           97        9   \n",
              "4     Nicolas Anelka         3   21        426           68      221   \n",
              "\n",
              "   League_to  Season  Market_value  Transfer_fee  \n",
              "0         36       0     6000000.0      60000000  \n",
              "1         54       0     6000000.0      56810000  \n",
              "2         36       0     6000000.0      40000000  \n",
              "3         54       0     6000000.0      36150000  \n",
              "4         43       0     6000000.0      34500000  "
            ],
            "text/html": [
              "\n",
              "  <div id=\"df-c02984eb-203a-4331-a62c-2912be36d05f\" class=\"colab-df-container\">\n",
              "    <div>\n",
              "<style scoped>\n",
              "    .dataframe tbody tr th:only-of-type {\n",
              "        vertical-align: middle;\n",
              "    }\n",
              "\n",
              "    .dataframe tbody tr th {\n",
              "        vertical-align: top;\n",
              "    }\n",
              "\n",
              "    .dataframe thead th {\n",
              "        text-align: right;\n",
              "    }\n",
              "</style>\n",
              "<table border=\"1\" class=\"dataframe\">\n",
              "  <thead>\n",
              "    <tr style=\"text-align: right;\">\n",
              "      <th></th>\n",
              "      <th>Name</th>\n",
              "      <th>Position</th>\n",
              "      <th>Age</th>\n",
              "      <th>Team_from</th>\n",
              "      <th>League_from</th>\n",
              "      <th>Team_to</th>\n",
              "      <th>League_to</th>\n",
              "      <th>Season</th>\n",
              "      <th>Market_value</th>\n",
              "      <th>Transfer_fee</th>\n",
              "    </tr>\n",
              "  </thead>\n",
              "  <tbody>\n",
              "    <tr>\n",
              "      <th>0</th>\n",
              "      <td>Luís Figo</td>\n",
              "      <td>13</td>\n",
              "      <td>27</td>\n",
              "      <td>183</td>\n",
              "      <td>68</td>\n",
              "      <td>243</td>\n",
              "      <td>36</td>\n",
              "      <td>0</td>\n",
              "      <td>6000000.0</td>\n",
              "      <td>60000000</td>\n",
              "    </tr>\n",
              "    <tr>\n",
              "      <th>1</th>\n",
              "      <td>Hernán Crespo</td>\n",
              "      <td>3</td>\n",
              "      <td>25</td>\n",
              "      <td>386</td>\n",
              "      <td>97</td>\n",
              "      <td>176</td>\n",
              "      <td>54</td>\n",
              "      <td>0</td>\n",
              "      <td>6000000.0</td>\n",
              "      <td>56810000</td>\n",
              "    </tr>\n",
              "    <tr>\n",
              "      <th>2</th>\n",
              "      <td>Marc Overmars</td>\n",
              "      <td>9</td>\n",
              "      <td>27</td>\n",
              "      <td>43</td>\n",
              "      <td>84</td>\n",
              "      <td>110</td>\n",
              "      <td>36</td>\n",
              "      <td>0</td>\n",
              "      <td>6000000.0</td>\n",
              "      <td>40000000</td>\n",
              "    </tr>\n",
              "    <tr>\n",
              "      <th>3</th>\n",
              "      <td>Gabriel Batistuta</td>\n",
              "      <td>3</td>\n",
              "      <td>31</td>\n",
              "      <td>217</td>\n",
              "      <td>97</td>\n",
              "      <td>9</td>\n",
              "      <td>54</td>\n",
              "      <td>0</td>\n",
              "      <td>6000000.0</td>\n",
              "      <td>36150000</td>\n",
              "    </tr>\n",
              "    <tr>\n",
              "      <th>4</th>\n",
              "      <td>Nicolas Anelka</td>\n",
              "      <td>3</td>\n",
              "      <td>21</td>\n",
              "      <td>426</td>\n",
              "      <td>68</td>\n",
              "      <td>221</td>\n",
              "      <td>43</td>\n",
              "      <td>0</td>\n",
              "      <td>6000000.0</td>\n",
              "      <td>34500000</td>\n",
              "    </tr>\n",
              "  </tbody>\n",
              "</table>\n",
              "</div>\n",
              "    <div class=\"colab-df-buttons\">\n",
              "\n",
              "  <div class=\"colab-df-container\">\n",
              "    <button class=\"colab-df-convert\" onclick=\"convertToInteractive('df-c02984eb-203a-4331-a62c-2912be36d05f')\"\n",
              "            title=\"Convert this dataframe to an interactive table.\"\n",
              "            style=\"display:none;\">\n",
              "\n",
              "  <svg xmlns=\"http://www.w3.org/2000/svg\" height=\"24px\" viewBox=\"0 -960 960 960\">\n",
              "    <path d=\"M120-120v-720h720v720H120Zm60-500h600v-160H180v160Zm220 220h160v-160H400v160Zm0 220h160v-160H400v160ZM180-400h160v-160H180v160Zm440 0h160v-160H620v160ZM180-180h160v-160H180v160Zm440 0h160v-160H620v160Z\"/>\n",
              "  </svg>\n",
              "    </button>\n",
              "\n",
              "  <style>\n",
              "    .colab-df-container {\n",
              "      display:flex;\n",
              "      gap: 12px;\n",
              "    }\n",
              "\n",
              "    .colab-df-convert {\n",
              "      background-color: #E8F0FE;\n",
              "      border: none;\n",
              "      border-radius: 50%;\n",
              "      cursor: pointer;\n",
              "      display: none;\n",
              "      fill: #1967D2;\n",
              "      height: 32px;\n",
              "      padding: 0 0 0 0;\n",
              "      width: 32px;\n",
              "    }\n",
              "\n",
              "    .colab-df-convert:hover {\n",
              "      background-color: #E2EBFA;\n",
              "      box-shadow: 0px 1px 2px rgba(60, 64, 67, 0.3), 0px 1px 3px 1px rgba(60, 64, 67, 0.15);\n",
              "      fill: #174EA6;\n",
              "    }\n",
              "\n",
              "    .colab-df-buttons div {\n",
              "      margin-bottom: 4px;\n",
              "    }\n",
              "\n",
              "    [theme=dark] .colab-df-convert {\n",
              "      background-color: #3B4455;\n",
              "      fill: #D2E3FC;\n",
              "    }\n",
              "\n",
              "    [theme=dark] .colab-df-convert:hover {\n",
              "      background-color: #434B5C;\n",
              "      box-shadow: 0px 1px 3px 1px rgba(0, 0, 0, 0.15);\n",
              "      filter: drop-shadow(0px 1px 2px rgba(0, 0, 0, 0.3));\n",
              "      fill: #FFFFFF;\n",
              "    }\n",
              "  </style>\n",
              "\n",
              "    <script>\n",
              "      const buttonEl =\n",
              "        document.querySelector('#df-c02984eb-203a-4331-a62c-2912be36d05f button.colab-df-convert');\n",
              "      buttonEl.style.display =\n",
              "        google.colab.kernel.accessAllowed ? 'block' : 'none';\n",
              "\n",
              "      async function convertToInteractive(key) {\n",
              "        const element = document.querySelector('#df-c02984eb-203a-4331-a62c-2912be36d05f');\n",
              "        const dataTable =\n",
              "          await google.colab.kernel.invokeFunction('convertToInteractive',\n",
              "                                                    [key], {});\n",
              "        if (!dataTable) return;\n",
              "\n",
              "        const docLinkHtml = 'Like what you see? Visit the ' +\n",
              "          '<a target=\"_blank\" href=https://colab.research.google.com/notebooks/data_table.ipynb>data table notebook</a>'\n",
              "          + ' to learn more about interactive tables.';\n",
              "        element.innerHTML = '';\n",
              "        dataTable['output_type'] = 'display_data';\n",
              "        await google.colab.output.renderOutput(dataTable, element);\n",
              "        const docLink = document.createElement('div');\n",
              "        docLink.innerHTML = docLinkHtml;\n",
              "        element.appendChild(docLink);\n",
              "      }\n",
              "    </script>\n",
              "  </div>\n",
              "\n",
              "\n",
              "<div id=\"df-7bd818b8-98d0-47eb-9dda-39563a0b465e\">\n",
              "  <button class=\"colab-df-quickchart\" onclick=\"quickchart('df-7bd818b8-98d0-47eb-9dda-39563a0b465e')\"\n",
              "            title=\"Suggest charts\"\n",
              "            style=\"display:none;\">\n",
              "\n",
              "<svg xmlns=\"http://www.w3.org/2000/svg\" height=\"24px\"viewBox=\"0 0 24 24\"\n",
              "     width=\"24px\">\n",
              "    <g>\n",
              "        <path d=\"M19 3H5c-1.1 0-2 .9-2 2v14c0 1.1.9 2 2 2h14c1.1 0 2-.9 2-2V5c0-1.1-.9-2-2-2zM9 17H7v-7h2v7zm4 0h-2V7h2v10zm4 0h-2v-4h2v4z\"/>\n",
              "    </g>\n",
              "</svg>\n",
              "  </button>\n",
              "\n",
              "<style>\n",
              "  .colab-df-quickchart {\n",
              "      --bg-color: #E8F0FE;\n",
              "      --fill-color: #1967D2;\n",
              "      --hover-bg-color: #E2EBFA;\n",
              "      --hover-fill-color: #174EA6;\n",
              "      --disabled-fill-color: #AAA;\n",
              "      --disabled-bg-color: #DDD;\n",
              "  }\n",
              "\n",
              "  [theme=dark] .colab-df-quickchart {\n",
              "      --bg-color: #3B4455;\n",
              "      --fill-color: #D2E3FC;\n",
              "      --hover-bg-color: #434B5C;\n",
              "      --hover-fill-color: #FFFFFF;\n",
              "      --disabled-bg-color: #3B4455;\n",
              "      --disabled-fill-color: #666;\n",
              "  }\n",
              "\n",
              "  .colab-df-quickchart {\n",
              "    background-color: var(--bg-color);\n",
              "    border: none;\n",
              "    border-radius: 50%;\n",
              "    cursor: pointer;\n",
              "    display: none;\n",
              "    fill: var(--fill-color);\n",
              "    height: 32px;\n",
              "    padding: 0;\n",
              "    width: 32px;\n",
              "  }\n",
              "\n",
              "  .colab-df-quickchart:hover {\n",
              "    background-color: var(--hover-bg-color);\n",
              "    box-shadow: 0 1px 2px rgba(60, 64, 67, 0.3), 0 1px 3px 1px rgba(60, 64, 67, 0.15);\n",
              "    fill: var(--button-hover-fill-color);\n",
              "  }\n",
              "\n",
              "  .colab-df-quickchart-complete:disabled,\n",
              "  .colab-df-quickchart-complete:disabled:hover {\n",
              "    background-color: var(--disabled-bg-color);\n",
              "    fill: var(--disabled-fill-color);\n",
              "    box-shadow: none;\n",
              "  }\n",
              "\n",
              "  .colab-df-spinner {\n",
              "    border: 2px solid var(--fill-color);\n",
              "    border-color: transparent;\n",
              "    border-bottom-color: var(--fill-color);\n",
              "    animation:\n",
              "      spin 1s steps(1) infinite;\n",
              "  }\n",
              "\n",
              "  @keyframes spin {\n",
              "    0% {\n",
              "      border-color: transparent;\n",
              "      border-bottom-color: var(--fill-color);\n",
              "      border-left-color: var(--fill-color);\n",
              "    }\n",
              "    20% {\n",
              "      border-color: transparent;\n",
              "      border-left-color: var(--fill-color);\n",
              "      border-top-color: var(--fill-color);\n",
              "    }\n",
              "    30% {\n",
              "      border-color: transparent;\n",
              "      border-left-color: var(--fill-color);\n",
              "      border-top-color: var(--fill-color);\n",
              "      border-right-color: var(--fill-color);\n",
              "    }\n",
              "    40% {\n",
              "      border-color: transparent;\n",
              "      border-right-color: var(--fill-color);\n",
              "      border-top-color: var(--fill-color);\n",
              "    }\n",
              "    60% {\n",
              "      border-color: transparent;\n",
              "      border-right-color: var(--fill-color);\n",
              "    }\n",
              "    80% {\n",
              "      border-color: transparent;\n",
              "      border-right-color: var(--fill-color);\n",
              "      border-bottom-color: var(--fill-color);\n",
              "    }\n",
              "    90% {\n",
              "      border-color: transparent;\n",
              "      border-bottom-color: var(--fill-color);\n",
              "    }\n",
              "  }\n",
              "</style>\n",
              "\n",
              "  <script>\n",
              "    async function quickchart(key) {\n",
              "      const quickchartButtonEl =\n",
              "        document.querySelector('#' + key + ' button');\n",
              "      quickchartButtonEl.disabled = true;  // To prevent multiple clicks.\n",
              "      quickchartButtonEl.classList.add('colab-df-spinner');\n",
              "      try {\n",
              "        const charts = await google.colab.kernel.invokeFunction(\n",
              "            'suggestCharts', [key], {});\n",
              "      } catch (error) {\n",
              "        console.error('Error during call to suggestCharts:', error);\n",
              "      }\n",
              "      quickchartButtonEl.classList.remove('colab-df-spinner');\n",
              "      quickchartButtonEl.classList.add('colab-df-quickchart-complete');\n",
              "    }\n",
              "    (() => {\n",
              "      let quickchartButtonEl =\n",
              "        document.querySelector('#df-7bd818b8-98d0-47eb-9dda-39563a0b465e button');\n",
              "      quickchartButtonEl.style.display =\n",
              "        google.colab.kernel.accessAllowed ? 'block' : 'none';\n",
              "    })();\n",
              "  </script>\n",
              "</div>\n",
              "\n",
              "    </div>\n",
              "  </div>\n"
            ],
            "application/vnd.google.colaboratory.intrinsic+json": {
              "type": "dataframe",
              "variable_name": "df",
              "summary": "{\n  \"name\": \"df\",\n  \"rows\": 4700,\n  \"fields\": [\n    {\n      \"column\": \"Name\",\n      \"properties\": {\n        \"dtype\": \"string\",\n        \"num_unique_values\": 3104,\n        \"samples\": [\n          \"Esteban Solari\",\n          \"Ismaily\",\n          \"Flavio Roma\"\n        ],\n        \"semantic_type\": \"\",\n        \"description\": \"\"\n      }\n    },\n    {\n      \"column\": \"Position\",\n      \"properties\": {\n        \"dtype\": \"number\",\n        \"std\": 4,\n        \"min\": 0,\n        \"max\": 16,\n        \"num_unique_values\": 17,\n        \"samples\": [\n          13,\n          3,\n          0\n        ],\n        \"semantic_type\": \"\",\n        \"description\": \"\"\n      }\n    },\n    {\n      \"column\": \"Age\",\n      \"properties\": {\n        \"dtype\": \"number\",\n        \"std\": 3,\n        \"min\": 0,\n        \"max\": 35,\n        \"num_unique_values\": 22,\n        \"samples\": [\n          27,\n          35,\n          19\n        ],\n        \"semantic_type\": \"\",\n        \"description\": \"\"\n      }\n    },\n    {\n      \"column\": \"Team_from\",\n      \"properties\": {\n        \"dtype\": \"number\",\n        \"std\": 165,\n        \"min\": 0,\n        \"max\": 569,\n        \"num_unique_values\": 570,\n        \"samples\": [\n          178,\n          83,\n          130\n        ],\n        \"semantic_type\": \"\",\n        \"description\": \"\"\n      }\n    },\n    {\n      \"column\": \"League_from\",\n      \"properties\": {\n        \"dtype\": \"number\",\n        \"std\": 25,\n        \"min\": 0,\n        \"max\": 117,\n        \"num_unique_values\": 118,\n        \"samples\": [\n          66,\n          109,\n          69\n        ],\n        \"semantic_type\": \"\",\n        \"description\": \"\"\n      }\n    },\n    {\n      \"column\": \"Team_to\",\n      \"properties\": {\n        \"dtype\": \"number\",\n        \"std\": 95,\n        \"min\": 0,\n        \"max\": 324,\n        \"num_unique_values\": 325,\n        \"samples\": [\n          14,\n          74,\n          302\n        ],\n        \"semantic_type\": \"\",\n        \"description\": \"\"\n      }\n    },\n    {\n      \"column\": \"League_to\",\n      \"properties\": {\n        \"dtype\": \"number\",\n        \"std\": 11,\n        \"min\": 0,\n        \"max\": 64,\n        \"num_unique_values\": 65,\n        \"samples\": [\n          49,\n          53,\n          36\n        ],\n        \"semantic_type\": \"\",\n        \"description\": \"\"\n      }\n    },\n    {\n      \"column\": \"Season\",\n      \"properties\": {\n        \"dtype\": \"number\",\n        \"std\": 5,\n        \"min\": 0,\n        \"max\": 18,\n        \"num_unique_values\": 19,\n        \"samples\": [\n          0,\n          5,\n          11\n        ],\n        \"semantic_type\": \"\",\n        \"description\": \"\"\n      }\n    },\n    {\n      \"column\": \"Market_value\",\n      \"properties\": {\n        \"dtype\": \"number\",\n        \"std\": 7613326.604112463,\n        \"min\": 50000.0,\n        \"max\": 120000000.0,\n        \"num_unique_values\": 180,\n        \"samples\": [\n          2250000.0,\n          18000000.0,\n          7800000.0\n        ],\n        \"semantic_type\": \"\",\n        \"description\": \"\"\n      }\n    },\n    {\n      \"column\": \"Transfer_fee\",\n      \"properties\": {\n        \"dtype\": \"number\",\n        \"std\": 10437719,\n        \"min\": 825000,\n        \"max\": 222000000,\n        \"num_unique_values\": 507,\n        \"samples\": [\n          12750000,\n          5650000,\n          67800000\n        ],\n        \"semantic_type\": \"\",\n        \"description\": \"\"\n      }\n    }\n  ]\n}"
            }
          },
          "metadata": {},
          "execution_count": 12
        }
      ]
    },
    {
      "cell_type": "code",
      "source": [
        "df.describe()"
      ],
      "metadata": {
        "colab": {
          "base_uri": "https://localhost:8080/",
          "height": 300
        },
        "id": "7lmH4c80NYE5",
        "outputId": "282909d8-498b-4e31-bd8c-f53801383386"
      },
      "execution_count": 13,
      "outputs": [
        {
          "output_type": "execute_result",
          "data": {
            "text/plain": [
              "          Position          Age    Team_from  League_from      Team_to  \\\n",
              "count  4700.000000  4700.000000  4700.000000  4700.000000  4700.000000   \n",
              "mean      4.997234    24.338723   284.832128    74.125532   170.157660   \n",
              "std       4.414397     3.230809   165.374747    25.850347    95.918634   \n",
              "min       0.000000     0.000000     0.000000     0.000000     0.000000   \n",
              "25%       2.000000    22.000000   141.000000    60.000000    88.750000   \n",
              "50%       3.000000    24.000000   278.000000    78.000000   176.000000   \n",
              "75%       8.000000    27.000000   426.000000    97.000000   260.250000   \n",
              "max      16.000000    35.000000   569.000000   117.000000   324.000000   \n",
              "\n",
              "         League_to       Season  Market_value  Transfer_fee  \n",
              "count  4700.000000  4700.000000  4.700000e+03  4.700000e+03  \n",
              "mean     43.074043     8.999787  7.919424e+06  9.447586e+06  \n",
              "std      11.236779     5.471064  7.613327e+06  1.043772e+07  \n",
              "min       0.000000     0.000000  5.000000e+04  8.250000e+05  \n",
              "25%      36.000000     4.000000  4.500000e+06  4.000000e+06  \n",
              "50%      46.000000     9.000000  6.000000e+06  6.500000e+06  \n",
              "75%      48.000000    14.000000  8.050000e+06  1.082000e+07  \n",
              "max      64.000000    18.000000  1.200000e+08  2.220000e+08  "
            ],
            "text/html": [
              "\n",
              "  <div id=\"df-c1ddcc57-5306-4330-b41a-2cd9c0503736\" class=\"colab-df-container\">\n",
              "    <div>\n",
              "<style scoped>\n",
              "    .dataframe tbody tr th:only-of-type {\n",
              "        vertical-align: middle;\n",
              "    }\n",
              "\n",
              "    .dataframe tbody tr th {\n",
              "        vertical-align: top;\n",
              "    }\n",
              "\n",
              "    .dataframe thead th {\n",
              "        text-align: right;\n",
              "    }\n",
              "</style>\n",
              "<table border=\"1\" class=\"dataframe\">\n",
              "  <thead>\n",
              "    <tr style=\"text-align: right;\">\n",
              "      <th></th>\n",
              "      <th>Position</th>\n",
              "      <th>Age</th>\n",
              "      <th>Team_from</th>\n",
              "      <th>League_from</th>\n",
              "      <th>Team_to</th>\n",
              "      <th>League_to</th>\n",
              "      <th>Season</th>\n",
              "      <th>Market_value</th>\n",
              "      <th>Transfer_fee</th>\n",
              "    </tr>\n",
              "  </thead>\n",
              "  <tbody>\n",
              "    <tr>\n",
              "      <th>count</th>\n",
              "      <td>4700.000000</td>\n",
              "      <td>4700.000000</td>\n",
              "      <td>4700.000000</td>\n",
              "      <td>4700.000000</td>\n",
              "      <td>4700.000000</td>\n",
              "      <td>4700.000000</td>\n",
              "      <td>4700.000000</td>\n",
              "      <td>4.700000e+03</td>\n",
              "      <td>4.700000e+03</td>\n",
              "    </tr>\n",
              "    <tr>\n",
              "      <th>mean</th>\n",
              "      <td>4.997234</td>\n",
              "      <td>24.338723</td>\n",
              "      <td>284.832128</td>\n",
              "      <td>74.125532</td>\n",
              "      <td>170.157660</td>\n",
              "      <td>43.074043</td>\n",
              "      <td>8.999787</td>\n",
              "      <td>7.919424e+06</td>\n",
              "      <td>9.447586e+06</td>\n",
              "    </tr>\n",
              "    <tr>\n",
              "      <th>std</th>\n",
              "      <td>4.414397</td>\n",
              "      <td>3.230809</td>\n",
              "      <td>165.374747</td>\n",
              "      <td>25.850347</td>\n",
              "      <td>95.918634</td>\n",
              "      <td>11.236779</td>\n",
              "      <td>5.471064</td>\n",
              "      <td>7.613327e+06</td>\n",
              "      <td>1.043772e+07</td>\n",
              "    </tr>\n",
              "    <tr>\n",
              "      <th>min</th>\n",
              "      <td>0.000000</td>\n",
              "      <td>0.000000</td>\n",
              "      <td>0.000000</td>\n",
              "      <td>0.000000</td>\n",
              "      <td>0.000000</td>\n",
              "      <td>0.000000</td>\n",
              "      <td>0.000000</td>\n",
              "      <td>5.000000e+04</td>\n",
              "      <td>8.250000e+05</td>\n",
              "    </tr>\n",
              "    <tr>\n",
              "      <th>25%</th>\n",
              "      <td>2.000000</td>\n",
              "      <td>22.000000</td>\n",
              "      <td>141.000000</td>\n",
              "      <td>60.000000</td>\n",
              "      <td>88.750000</td>\n",
              "      <td>36.000000</td>\n",
              "      <td>4.000000</td>\n",
              "      <td>4.500000e+06</td>\n",
              "      <td>4.000000e+06</td>\n",
              "    </tr>\n",
              "    <tr>\n",
              "      <th>50%</th>\n",
              "      <td>3.000000</td>\n",
              "      <td>24.000000</td>\n",
              "      <td>278.000000</td>\n",
              "      <td>78.000000</td>\n",
              "      <td>176.000000</td>\n",
              "      <td>46.000000</td>\n",
              "      <td>9.000000</td>\n",
              "      <td>6.000000e+06</td>\n",
              "      <td>6.500000e+06</td>\n",
              "    </tr>\n",
              "    <tr>\n",
              "      <th>75%</th>\n",
              "      <td>8.000000</td>\n",
              "      <td>27.000000</td>\n",
              "      <td>426.000000</td>\n",
              "      <td>97.000000</td>\n",
              "      <td>260.250000</td>\n",
              "      <td>48.000000</td>\n",
              "      <td>14.000000</td>\n",
              "      <td>8.050000e+06</td>\n",
              "      <td>1.082000e+07</td>\n",
              "    </tr>\n",
              "    <tr>\n",
              "      <th>max</th>\n",
              "      <td>16.000000</td>\n",
              "      <td>35.000000</td>\n",
              "      <td>569.000000</td>\n",
              "      <td>117.000000</td>\n",
              "      <td>324.000000</td>\n",
              "      <td>64.000000</td>\n",
              "      <td>18.000000</td>\n",
              "      <td>1.200000e+08</td>\n",
              "      <td>2.220000e+08</td>\n",
              "    </tr>\n",
              "  </tbody>\n",
              "</table>\n",
              "</div>\n",
              "    <div class=\"colab-df-buttons\">\n",
              "\n",
              "  <div class=\"colab-df-container\">\n",
              "    <button class=\"colab-df-convert\" onclick=\"convertToInteractive('df-c1ddcc57-5306-4330-b41a-2cd9c0503736')\"\n",
              "            title=\"Convert this dataframe to an interactive table.\"\n",
              "            style=\"display:none;\">\n",
              "\n",
              "  <svg xmlns=\"http://www.w3.org/2000/svg\" height=\"24px\" viewBox=\"0 -960 960 960\">\n",
              "    <path d=\"M120-120v-720h720v720H120Zm60-500h600v-160H180v160Zm220 220h160v-160H400v160Zm0 220h160v-160H400v160ZM180-400h160v-160H180v160Zm440 0h160v-160H620v160ZM180-180h160v-160H180v160Zm440 0h160v-160H620v160Z\"/>\n",
              "  </svg>\n",
              "    </button>\n",
              "\n",
              "  <style>\n",
              "    .colab-df-container {\n",
              "      display:flex;\n",
              "      gap: 12px;\n",
              "    }\n",
              "\n",
              "    .colab-df-convert {\n",
              "      background-color: #E8F0FE;\n",
              "      border: none;\n",
              "      border-radius: 50%;\n",
              "      cursor: pointer;\n",
              "      display: none;\n",
              "      fill: #1967D2;\n",
              "      height: 32px;\n",
              "      padding: 0 0 0 0;\n",
              "      width: 32px;\n",
              "    }\n",
              "\n",
              "    .colab-df-convert:hover {\n",
              "      background-color: #E2EBFA;\n",
              "      box-shadow: 0px 1px 2px rgba(60, 64, 67, 0.3), 0px 1px 3px 1px rgba(60, 64, 67, 0.15);\n",
              "      fill: #174EA6;\n",
              "    }\n",
              "\n",
              "    .colab-df-buttons div {\n",
              "      margin-bottom: 4px;\n",
              "    }\n",
              "\n",
              "    [theme=dark] .colab-df-convert {\n",
              "      background-color: #3B4455;\n",
              "      fill: #D2E3FC;\n",
              "    }\n",
              "\n",
              "    [theme=dark] .colab-df-convert:hover {\n",
              "      background-color: #434B5C;\n",
              "      box-shadow: 0px 1px 3px 1px rgba(0, 0, 0, 0.15);\n",
              "      filter: drop-shadow(0px 1px 2px rgba(0, 0, 0, 0.3));\n",
              "      fill: #FFFFFF;\n",
              "    }\n",
              "  </style>\n",
              "\n",
              "    <script>\n",
              "      const buttonEl =\n",
              "        document.querySelector('#df-c1ddcc57-5306-4330-b41a-2cd9c0503736 button.colab-df-convert');\n",
              "      buttonEl.style.display =\n",
              "        google.colab.kernel.accessAllowed ? 'block' : 'none';\n",
              "\n",
              "      async function convertToInteractive(key) {\n",
              "        const element = document.querySelector('#df-c1ddcc57-5306-4330-b41a-2cd9c0503736');\n",
              "        const dataTable =\n",
              "          await google.colab.kernel.invokeFunction('convertToInteractive',\n",
              "                                                    [key], {});\n",
              "        if (!dataTable) return;\n",
              "\n",
              "        const docLinkHtml = 'Like what you see? Visit the ' +\n",
              "          '<a target=\"_blank\" href=https://colab.research.google.com/notebooks/data_table.ipynb>data table notebook</a>'\n",
              "          + ' to learn more about interactive tables.';\n",
              "        element.innerHTML = '';\n",
              "        dataTable['output_type'] = 'display_data';\n",
              "        await google.colab.output.renderOutput(dataTable, element);\n",
              "        const docLink = document.createElement('div');\n",
              "        docLink.innerHTML = docLinkHtml;\n",
              "        element.appendChild(docLink);\n",
              "      }\n",
              "    </script>\n",
              "  </div>\n",
              "\n",
              "\n",
              "<div id=\"df-9893f49d-4777-48a5-a868-9239afd60625\">\n",
              "  <button class=\"colab-df-quickchart\" onclick=\"quickchart('df-9893f49d-4777-48a5-a868-9239afd60625')\"\n",
              "            title=\"Suggest charts\"\n",
              "            style=\"display:none;\">\n",
              "\n",
              "<svg xmlns=\"http://www.w3.org/2000/svg\" height=\"24px\"viewBox=\"0 0 24 24\"\n",
              "     width=\"24px\">\n",
              "    <g>\n",
              "        <path d=\"M19 3H5c-1.1 0-2 .9-2 2v14c0 1.1.9 2 2 2h14c1.1 0 2-.9 2-2V5c0-1.1-.9-2-2-2zM9 17H7v-7h2v7zm4 0h-2V7h2v10zm4 0h-2v-4h2v4z\"/>\n",
              "    </g>\n",
              "</svg>\n",
              "  </button>\n",
              "\n",
              "<style>\n",
              "  .colab-df-quickchart {\n",
              "      --bg-color: #E8F0FE;\n",
              "      --fill-color: #1967D2;\n",
              "      --hover-bg-color: #E2EBFA;\n",
              "      --hover-fill-color: #174EA6;\n",
              "      --disabled-fill-color: #AAA;\n",
              "      --disabled-bg-color: #DDD;\n",
              "  }\n",
              "\n",
              "  [theme=dark] .colab-df-quickchart {\n",
              "      --bg-color: #3B4455;\n",
              "      --fill-color: #D2E3FC;\n",
              "      --hover-bg-color: #434B5C;\n",
              "      --hover-fill-color: #FFFFFF;\n",
              "      --disabled-bg-color: #3B4455;\n",
              "      --disabled-fill-color: #666;\n",
              "  }\n",
              "\n",
              "  .colab-df-quickchart {\n",
              "    background-color: var(--bg-color);\n",
              "    border: none;\n",
              "    border-radius: 50%;\n",
              "    cursor: pointer;\n",
              "    display: none;\n",
              "    fill: var(--fill-color);\n",
              "    height: 32px;\n",
              "    padding: 0;\n",
              "    width: 32px;\n",
              "  }\n",
              "\n",
              "  .colab-df-quickchart:hover {\n",
              "    background-color: var(--hover-bg-color);\n",
              "    box-shadow: 0 1px 2px rgba(60, 64, 67, 0.3), 0 1px 3px 1px rgba(60, 64, 67, 0.15);\n",
              "    fill: var(--button-hover-fill-color);\n",
              "  }\n",
              "\n",
              "  .colab-df-quickchart-complete:disabled,\n",
              "  .colab-df-quickchart-complete:disabled:hover {\n",
              "    background-color: var(--disabled-bg-color);\n",
              "    fill: var(--disabled-fill-color);\n",
              "    box-shadow: none;\n",
              "  }\n",
              "\n",
              "  .colab-df-spinner {\n",
              "    border: 2px solid var(--fill-color);\n",
              "    border-color: transparent;\n",
              "    border-bottom-color: var(--fill-color);\n",
              "    animation:\n",
              "      spin 1s steps(1) infinite;\n",
              "  }\n",
              "\n",
              "  @keyframes spin {\n",
              "    0% {\n",
              "      border-color: transparent;\n",
              "      border-bottom-color: var(--fill-color);\n",
              "      border-left-color: var(--fill-color);\n",
              "    }\n",
              "    20% {\n",
              "      border-color: transparent;\n",
              "      border-left-color: var(--fill-color);\n",
              "      border-top-color: var(--fill-color);\n",
              "    }\n",
              "    30% {\n",
              "      border-color: transparent;\n",
              "      border-left-color: var(--fill-color);\n",
              "      border-top-color: var(--fill-color);\n",
              "      border-right-color: var(--fill-color);\n",
              "    }\n",
              "    40% {\n",
              "      border-color: transparent;\n",
              "      border-right-color: var(--fill-color);\n",
              "      border-top-color: var(--fill-color);\n",
              "    }\n",
              "    60% {\n",
              "      border-color: transparent;\n",
              "      border-right-color: var(--fill-color);\n",
              "    }\n",
              "    80% {\n",
              "      border-color: transparent;\n",
              "      border-right-color: var(--fill-color);\n",
              "      border-bottom-color: var(--fill-color);\n",
              "    }\n",
              "    90% {\n",
              "      border-color: transparent;\n",
              "      border-bottom-color: var(--fill-color);\n",
              "    }\n",
              "  }\n",
              "</style>\n",
              "\n",
              "  <script>\n",
              "    async function quickchart(key) {\n",
              "      const quickchartButtonEl =\n",
              "        document.querySelector('#' + key + ' button');\n",
              "      quickchartButtonEl.disabled = true;  // To prevent multiple clicks.\n",
              "      quickchartButtonEl.classList.add('colab-df-spinner');\n",
              "      try {\n",
              "        const charts = await google.colab.kernel.invokeFunction(\n",
              "            'suggestCharts', [key], {});\n",
              "      } catch (error) {\n",
              "        console.error('Error during call to suggestCharts:', error);\n",
              "      }\n",
              "      quickchartButtonEl.classList.remove('colab-df-spinner');\n",
              "      quickchartButtonEl.classList.add('colab-df-quickchart-complete');\n",
              "    }\n",
              "    (() => {\n",
              "      let quickchartButtonEl =\n",
              "        document.querySelector('#df-9893f49d-4777-48a5-a868-9239afd60625 button');\n",
              "      quickchartButtonEl.style.display =\n",
              "        google.colab.kernel.accessAllowed ? 'block' : 'none';\n",
              "    })();\n",
              "  </script>\n",
              "</div>\n",
              "\n",
              "    </div>\n",
              "  </div>\n"
            ],
            "application/vnd.google.colaboratory.intrinsic+json": {
              "type": "dataframe",
              "summary": "{\n  \"name\": \"df\",\n  \"rows\": 8,\n  \"fields\": [\n    {\n      \"column\": \"Position\",\n      \"properties\": {\n        \"dtype\": \"number\",\n        \"std\": 1659.7680285691322,\n        \"min\": 0.0,\n        \"max\": 4700.0,\n        \"num_unique_values\": 8,\n        \"samples\": [\n          4.997234042553192,\n          3.0,\n          4700.0\n        ],\n        \"semantic_type\": \"\",\n        \"description\": \"\"\n      }\n    },\n    {\n      \"column\": \"Age\",\n      \"properties\": {\n        \"dtype\": \"number\",\n        \"std\": 1654.8964242065208,\n        \"min\": 0.0,\n        \"max\": 4700.0,\n        \"num_unique_values\": 8,\n        \"samples\": [\n          24.33872340425532,\n          24.0,\n          4700.0\n        ],\n        \"semantic_type\": \"\",\n        \"description\": \"\"\n      }\n    },\n    {\n      \"column\": \"Team_from\",\n      \"properties\": {\n        \"dtype\": \"number\",\n        \"std\": 1577.2842238945098,\n        \"min\": 0.0,\n        \"max\": 4700.0,\n        \"num_unique_values\": 8,\n        \"samples\": [\n          284.8321276595745,\n          278.0,\n          4700.0\n        ],\n        \"semantic_type\": \"\",\n        \"description\": \"\"\n      }\n    },\n    {\n      \"column\": \"League_from\",\n      \"properties\": {\n        \"dtype\": \"number\",\n        \"std\": 1639.298103381634,\n        \"min\": 0.0,\n        \"max\": 4700.0,\n        \"num_unique_values\": 8,\n        \"samples\": [\n          74.12553191489361,\n          78.0,\n          4700.0\n        ],\n        \"semantic_type\": \"\",\n        \"description\": \"\"\n      }\n    },\n    {\n      \"column\": \"Team_to\",\n      \"properties\": {\n        \"dtype\": \"number\",\n        \"std\": 1608.5851636400155,\n        \"min\": 0.0,\n        \"max\": 4700.0,\n        \"num_unique_values\": 8,\n        \"samples\": [\n          170.15765957446808,\n          176.0,\n          4700.0\n        ],\n        \"semantic_type\": \"\",\n        \"description\": \"\"\n      }\n    },\n    {\n      \"column\": \"League_to\",\n      \"properties\": {\n        \"dtype\": \"number\",\n        \"std\": 1649.2886405728748,\n        \"min\": 0.0,\n        \"max\": 4700.0,\n        \"num_unique_values\": 8,\n        \"samples\": [\n          43.07404255319149,\n          46.0,\n          4700.0\n        ],\n        \"semantic_type\": \"\",\n        \"description\": \"\"\n      }\n    },\n    {\n      \"column\": \"Season\",\n      \"properties\": {\n        \"dtype\": \"number\",\n        \"std\": 1658.7067932154048,\n        \"min\": 0.0,\n        \"max\": 4700.0,\n        \"num_unique_values\": 8,\n        \"samples\": [\n          8.999787234042554,\n          9.0,\n          4700.0\n        ],\n        \"semantic_type\": \"\",\n        \"description\": \"\"\n      }\n    },\n    {\n      \"column\": \"Market_value\",\n      \"properties\": {\n        \"dtype\": \"number\",\n        \"std\": 40834055.84994909,\n        \"min\": 4700.0,\n        \"max\": 120000000.0,\n        \"num_unique_values\": 8,\n        \"samples\": [\n          7919424.468085106,\n          6000000.0,\n          4700.0\n        ],\n        \"semantic_type\": \"\",\n        \"description\": \"\"\n      }\n    },\n    {\n      \"column\": \"Transfer_fee\",\n      \"properties\": {\n        \"dtype\": \"number\",\n        \"std\": 76479591.48923525,\n        \"min\": 4700.0,\n        \"max\": 222000000.0,\n        \"num_unique_values\": 8,\n        \"samples\": [\n          9447586.170212766,\n          6500000.0,\n          4700.0\n        ],\n        \"semantic_type\": \"\",\n        \"description\": \"\"\n      }\n    }\n  ]\n}"
            }
          },
          "metadata": {},
          "execution_count": 13
        }
      ]
    },
    {
      "cell_type": "code",
      "source": [
        "df_numeric = df.apply(pd.to_numeric, errors='coerce')\n",
        "corr_matrix = df_numeric.corr()\n",
        "corr_matrix"
      ],
      "metadata": {
        "colab": {
          "base_uri": "https://localhost:8080/",
          "height": 363
        },
        "id": "Co6ki9u0OazT",
        "outputId": "4b822b80-7b64-4a51-c0d6-af1855dfaef0"
      },
      "execution_count": 14,
      "outputs": [
        {
          "output_type": "execute_result",
          "data": {
            "text/plain": [
              "              Name  Position       Age  Team_from  League_from   Team_to  \\\n",
              "Name           NaN       NaN       NaN        NaN          NaN       NaN   \n",
              "Position       NaN  1.000000 -0.017571   0.007078     0.024711 -0.025520   \n",
              "Age            NaN -0.017571  1.000000   0.020330     0.088812 -0.007739   \n",
              "Team_from      NaN  0.007078  0.020330   1.000000     0.031151  0.031294   \n",
              "League_from    NaN  0.024711  0.088812   0.031151     1.000000  0.038259   \n",
              "Team_to        NaN -0.025520 -0.007739   0.031294     0.038259  1.000000   \n",
              "League_to      NaN  0.009378  0.097579   0.024593     0.322655 -0.006001   \n",
              "Season         NaN  0.040718 -0.014985   0.027013     0.215854  0.044658   \n",
              "Market_value   NaN  0.004298  0.121807  -0.010806     0.017741 -0.049276   \n",
              "Transfer_fee   NaN  0.010712 -0.001803   0.007143     0.081240 -0.029614   \n",
              "\n",
              "              League_to    Season  Market_value  Transfer_fee  \n",
              "Name                NaN       NaN           NaN           NaN  \n",
              "Position       0.009378  0.040718      0.004298      0.010712  \n",
              "Age            0.097579 -0.014985      0.121807     -0.001803  \n",
              "Team_from      0.024593  0.027013     -0.010806      0.007143  \n",
              "League_from    0.322655  0.215854      0.017741      0.081240  \n",
              "Team_to       -0.006001  0.044658     -0.049276     -0.029614  \n",
              "League_to      1.000000  0.098013      0.001793      0.044460  \n",
              "Season         0.098013  1.000000      0.246701      0.311943  \n",
              "Market_value   0.001793  0.246701      1.000000      0.780574  \n",
              "Transfer_fee   0.044460  0.311943      0.780574      1.000000  "
            ],
            "text/html": [
              "\n",
              "  <div id=\"df-c51a0323-30d5-4647-a561-bbf0f674a24b\" class=\"colab-df-container\">\n",
              "    <div>\n",
              "<style scoped>\n",
              "    .dataframe tbody tr th:only-of-type {\n",
              "        vertical-align: middle;\n",
              "    }\n",
              "\n",
              "    .dataframe tbody tr th {\n",
              "        vertical-align: top;\n",
              "    }\n",
              "\n",
              "    .dataframe thead th {\n",
              "        text-align: right;\n",
              "    }\n",
              "</style>\n",
              "<table border=\"1\" class=\"dataframe\">\n",
              "  <thead>\n",
              "    <tr style=\"text-align: right;\">\n",
              "      <th></th>\n",
              "      <th>Name</th>\n",
              "      <th>Position</th>\n",
              "      <th>Age</th>\n",
              "      <th>Team_from</th>\n",
              "      <th>League_from</th>\n",
              "      <th>Team_to</th>\n",
              "      <th>League_to</th>\n",
              "      <th>Season</th>\n",
              "      <th>Market_value</th>\n",
              "      <th>Transfer_fee</th>\n",
              "    </tr>\n",
              "  </thead>\n",
              "  <tbody>\n",
              "    <tr>\n",
              "      <th>Name</th>\n",
              "      <td>NaN</td>\n",
              "      <td>NaN</td>\n",
              "      <td>NaN</td>\n",
              "      <td>NaN</td>\n",
              "      <td>NaN</td>\n",
              "      <td>NaN</td>\n",
              "      <td>NaN</td>\n",
              "      <td>NaN</td>\n",
              "      <td>NaN</td>\n",
              "      <td>NaN</td>\n",
              "    </tr>\n",
              "    <tr>\n",
              "      <th>Position</th>\n",
              "      <td>NaN</td>\n",
              "      <td>1.000000</td>\n",
              "      <td>-0.017571</td>\n",
              "      <td>0.007078</td>\n",
              "      <td>0.024711</td>\n",
              "      <td>-0.025520</td>\n",
              "      <td>0.009378</td>\n",
              "      <td>0.040718</td>\n",
              "      <td>0.004298</td>\n",
              "      <td>0.010712</td>\n",
              "    </tr>\n",
              "    <tr>\n",
              "      <th>Age</th>\n",
              "      <td>NaN</td>\n",
              "      <td>-0.017571</td>\n",
              "      <td>1.000000</td>\n",
              "      <td>0.020330</td>\n",
              "      <td>0.088812</td>\n",
              "      <td>-0.007739</td>\n",
              "      <td>0.097579</td>\n",
              "      <td>-0.014985</td>\n",
              "      <td>0.121807</td>\n",
              "      <td>-0.001803</td>\n",
              "    </tr>\n",
              "    <tr>\n",
              "      <th>Team_from</th>\n",
              "      <td>NaN</td>\n",
              "      <td>0.007078</td>\n",
              "      <td>0.020330</td>\n",
              "      <td>1.000000</td>\n",
              "      <td>0.031151</td>\n",
              "      <td>0.031294</td>\n",
              "      <td>0.024593</td>\n",
              "      <td>0.027013</td>\n",
              "      <td>-0.010806</td>\n",
              "      <td>0.007143</td>\n",
              "    </tr>\n",
              "    <tr>\n",
              "      <th>League_from</th>\n",
              "      <td>NaN</td>\n",
              "      <td>0.024711</td>\n",
              "      <td>0.088812</td>\n",
              "      <td>0.031151</td>\n",
              "      <td>1.000000</td>\n",
              "      <td>0.038259</td>\n",
              "      <td>0.322655</td>\n",
              "      <td>0.215854</td>\n",
              "      <td>0.017741</td>\n",
              "      <td>0.081240</td>\n",
              "    </tr>\n",
              "    <tr>\n",
              "      <th>Team_to</th>\n",
              "      <td>NaN</td>\n",
              "      <td>-0.025520</td>\n",
              "      <td>-0.007739</td>\n",
              "      <td>0.031294</td>\n",
              "      <td>0.038259</td>\n",
              "      <td>1.000000</td>\n",
              "      <td>-0.006001</td>\n",
              "      <td>0.044658</td>\n",
              "      <td>-0.049276</td>\n",
              "      <td>-0.029614</td>\n",
              "    </tr>\n",
              "    <tr>\n",
              "      <th>League_to</th>\n",
              "      <td>NaN</td>\n",
              "      <td>0.009378</td>\n",
              "      <td>0.097579</td>\n",
              "      <td>0.024593</td>\n",
              "      <td>0.322655</td>\n",
              "      <td>-0.006001</td>\n",
              "      <td>1.000000</td>\n",
              "      <td>0.098013</td>\n",
              "      <td>0.001793</td>\n",
              "      <td>0.044460</td>\n",
              "    </tr>\n",
              "    <tr>\n",
              "      <th>Season</th>\n",
              "      <td>NaN</td>\n",
              "      <td>0.040718</td>\n",
              "      <td>-0.014985</td>\n",
              "      <td>0.027013</td>\n",
              "      <td>0.215854</td>\n",
              "      <td>0.044658</td>\n",
              "      <td>0.098013</td>\n",
              "      <td>1.000000</td>\n",
              "      <td>0.246701</td>\n",
              "      <td>0.311943</td>\n",
              "    </tr>\n",
              "    <tr>\n",
              "      <th>Market_value</th>\n",
              "      <td>NaN</td>\n",
              "      <td>0.004298</td>\n",
              "      <td>0.121807</td>\n",
              "      <td>-0.010806</td>\n",
              "      <td>0.017741</td>\n",
              "      <td>-0.049276</td>\n",
              "      <td>0.001793</td>\n",
              "      <td>0.246701</td>\n",
              "      <td>1.000000</td>\n",
              "      <td>0.780574</td>\n",
              "    </tr>\n",
              "    <tr>\n",
              "      <th>Transfer_fee</th>\n",
              "      <td>NaN</td>\n",
              "      <td>0.010712</td>\n",
              "      <td>-0.001803</td>\n",
              "      <td>0.007143</td>\n",
              "      <td>0.081240</td>\n",
              "      <td>-0.029614</td>\n",
              "      <td>0.044460</td>\n",
              "      <td>0.311943</td>\n",
              "      <td>0.780574</td>\n",
              "      <td>1.000000</td>\n",
              "    </tr>\n",
              "  </tbody>\n",
              "</table>\n",
              "</div>\n",
              "    <div class=\"colab-df-buttons\">\n",
              "\n",
              "  <div class=\"colab-df-container\">\n",
              "    <button class=\"colab-df-convert\" onclick=\"convertToInteractive('df-c51a0323-30d5-4647-a561-bbf0f674a24b')\"\n",
              "            title=\"Convert this dataframe to an interactive table.\"\n",
              "            style=\"display:none;\">\n",
              "\n",
              "  <svg xmlns=\"http://www.w3.org/2000/svg\" height=\"24px\" viewBox=\"0 -960 960 960\">\n",
              "    <path d=\"M120-120v-720h720v720H120Zm60-500h600v-160H180v160Zm220 220h160v-160H400v160Zm0 220h160v-160H400v160ZM180-400h160v-160H180v160Zm440 0h160v-160H620v160ZM180-180h160v-160H180v160Zm440 0h160v-160H620v160Z\"/>\n",
              "  </svg>\n",
              "    </button>\n",
              "\n",
              "  <style>\n",
              "    .colab-df-container {\n",
              "      display:flex;\n",
              "      gap: 12px;\n",
              "    }\n",
              "\n",
              "    .colab-df-convert {\n",
              "      background-color: #E8F0FE;\n",
              "      border: none;\n",
              "      border-radius: 50%;\n",
              "      cursor: pointer;\n",
              "      display: none;\n",
              "      fill: #1967D2;\n",
              "      height: 32px;\n",
              "      padding: 0 0 0 0;\n",
              "      width: 32px;\n",
              "    }\n",
              "\n",
              "    .colab-df-convert:hover {\n",
              "      background-color: #E2EBFA;\n",
              "      box-shadow: 0px 1px 2px rgba(60, 64, 67, 0.3), 0px 1px 3px 1px rgba(60, 64, 67, 0.15);\n",
              "      fill: #174EA6;\n",
              "    }\n",
              "\n",
              "    .colab-df-buttons div {\n",
              "      margin-bottom: 4px;\n",
              "    }\n",
              "\n",
              "    [theme=dark] .colab-df-convert {\n",
              "      background-color: #3B4455;\n",
              "      fill: #D2E3FC;\n",
              "    }\n",
              "\n",
              "    [theme=dark] .colab-df-convert:hover {\n",
              "      background-color: #434B5C;\n",
              "      box-shadow: 0px 1px 3px 1px rgba(0, 0, 0, 0.15);\n",
              "      filter: drop-shadow(0px 1px 2px rgba(0, 0, 0, 0.3));\n",
              "      fill: #FFFFFF;\n",
              "    }\n",
              "  </style>\n",
              "\n",
              "    <script>\n",
              "      const buttonEl =\n",
              "        document.querySelector('#df-c51a0323-30d5-4647-a561-bbf0f674a24b button.colab-df-convert');\n",
              "      buttonEl.style.display =\n",
              "        google.colab.kernel.accessAllowed ? 'block' : 'none';\n",
              "\n",
              "      async function convertToInteractive(key) {\n",
              "        const element = document.querySelector('#df-c51a0323-30d5-4647-a561-bbf0f674a24b');\n",
              "        const dataTable =\n",
              "          await google.colab.kernel.invokeFunction('convertToInteractive',\n",
              "                                                    [key], {});\n",
              "        if (!dataTable) return;\n",
              "\n",
              "        const docLinkHtml = 'Like what you see? Visit the ' +\n",
              "          '<a target=\"_blank\" href=https://colab.research.google.com/notebooks/data_table.ipynb>data table notebook</a>'\n",
              "          + ' to learn more about interactive tables.';\n",
              "        element.innerHTML = '';\n",
              "        dataTable['output_type'] = 'display_data';\n",
              "        await google.colab.output.renderOutput(dataTable, element);\n",
              "        const docLink = document.createElement('div');\n",
              "        docLink.innerHTML = docLinkHtml;\n",
              "        element.appendChild(docLink);\n",
              "      }\n",
              "    </script>\n",
              "  </div>\n",
              "\n",
              "\n",
              "<div id=\"df-5438d88b-5985-4df6-a9be-a11c8d47981f\">\n",
              "  <button class=\"colab-df-quickchart\" onclick=\"quickchart('df-5438d88b-5985-4df6-a9be-a11c8d47981f')\"\n",
              "            title=\"Suggest charts\"\n",
              "            style=\"display:none;\">\n",
              "\n",
              "<svg xmlns=\"http://www.w3.org/2000/svg\" height=\"24px\"viewBox=\"0 0 24 24\"\n",
              "     width=\"24px\">\n",
              "    <g>\n",
              "        <path d=\"M19 3H5c-1.1 0-2 .9-2 2v14c0 1.1.9 2 2 2h14c1.1 0 2-.9 2-2V5c0-1.1-.9-2-2-2zM9 17H7v-7h2v7zm4 0h-2V7h2v10zm4 0h-2v-4h2v4z\"/>\n",
              "    </g>\n",
              "</svg>\n",
              "  </button>\n",
              "\n",
              "<style>\n",
              "  .colab-df-quickchart {\n",
              "      --bg-color: #E8F0FE;\n",
              "      --fill-color: #1967D2;\n",
              "      --hover-bg-color: #E2EBFA;\n",
              "      --hover-fill-color: #174EA6;\n",
              "      --disabled-fill-color: #AAA;\n",
              "      --disabled-bg-color: #DDD;\n",
              "  }\n",
              "\n",
              "  [theme=dark] .colab-df-quickchart {\n",
              "      --bg-color: #3B4455;\n",
              "      --fill-color: #D2E3FC;\n",
              "      --hover-bg-color: #434B5C;\n",
              "      --hover-fill-color: #FFFFFF;\n",
              "      --disabled-bg-color: #3B4455;\n",
              "      --disabled-fill-color: #666;\n",
              "  }\n",
              "\n",
              "  .colab-df-quickchart {\n",
              "    background-color: var(--bg-color);\n",
              "    border: none;\n",
              "    border-radius: 50%;\n",
              "    cursor: pointer;\n",
              "    display: none;\n",
              "    fill: var(--fill-color);\n",
              "    height: 32px;\n",
              "    padding: 0;\n",
              "    width: 32px;\n",
              "  }\n",
              "\n",
              "  .colab-df-quickchart:hover {\n",
              "    background-color: var(--hover-bg-color);\n",
              "    box-shadow: 0 1px 2px rgba(60, 64, 67, 0.3), 0 1px 3px 1px rgba(60, 64, 67, 0.15);\n",
              "    fill: var(--button-hover-fill-color);\n",
              "  }\n",
              "\n",
              "  .colab-df-quickchart-complete:disabled,\n",
              "  .colab-df-quickchart-complete:disabled:hover {\n",
              "    background-color: var(--disabled-bg-color);\n",
              "    fill: var(--disabled-fill-color);\n",
              "    box-shadow: none;\n",
              "  }\n",
              "\n",
              "  .colab-df-spinner {\n",
              "    border: 2px solid var(--fill-color);\n",
              "    border-color: transparent;\n",
              "    border-bottom-color: var(--fill-color);\n",
              "    animation:\n",
              "      spin 1s steps(1) infinite;\n",
              "  }\n",
              "\n",
              "  @keyframes spin {\n",
              "    0% {\n",
              "      border-color: transparent;\n",
              "      border-bottom-color: var(--fill-color);\n",
              "      border-left-color: var(--fill-color);\n",
              "    }\n",
              "    20% {\n",
              "      border-color: transparent;\n",
              "      border-left-color: var(--fill-color);\n",
              "      border-top-color: var(--fill-color);\n",
              "    }\n",
              "    30% {\n",
              "      border-color: transparent;\n",
              "      border-left-color: var(--fill-color);\n",
              "      border-top-color: var(--fill-color);\n",
              "      border-right-color: var(--fill-color);\n",
              "    }\n",
              "    40% {\n",
              "      border-color: transparent;\n",
              "      border-right-color: var(--fill-color);\n",
              "      border-top-color: var(--fill-color);\n",
              "    }\n",
              "    60% {\n",
              "      border-color: transparent;\n",
              "      border-right-color: var(--fill-color);\n",
              "    }\n",
              "    80% {\n",
              "      border-color: transparent;\n",
              "      border-right-color: var(--fill-color);\n",
              "      border-bottom-color: var(--fill-color);\n",
              "    }\n",
              "    90% {\n",
              "      border-color: transparent;\n",
              "      border-bottom-color: var(--fill-color);\n",
              "    }\n",
              "  }\n",
              "</style>\n",
              "\n",
              "  <script>\n",
              "    async function quickchart(key) {\n",
              "      const quickchartButtonEl =\n",
              "        document.querySelector('#' + key + ' button');\n",
              "      quickchartButtonEl.disabled = true;  // To prevent multiple clicks.\n",
              "      quickchartButtonEl.classList.add('colab-df-spinner');\n",
              "      try {\n",
              "        const charts = await google.colab.kernel.invokeFunction(\n",
              "            'suggestCharts', [key], {});\n",
              "      } catch (error) {\n",
              "        console.error('Error during call to suggestCharts:', error);\n",
              "      }\n",
              "      quickchartButtonEl.classList.remove('colab-df-spinner');\n",
              "      quickchartButtonEl.classList.add('colab-df-quickchart-complete');\n",
              "    }\n",
              "    (() => {\n",
              "      let quickchartButtonEl =\n",
              "        document.querySelector('#df-5438d88b-5985-4df6-a9be-a11c8d47981f button');\n",
              "      quickchartButtonEl.style.display =\n",
              "        google.colab.kernel.accessAllowed ? 'block' : 'none';\n",
              "    })();\n",
              "  </script>\n",
              "</div>\n",
              "\n",
              "  <div id=\"id_f0da617b-9753-441c-8436-c5604a1f2326\">\n",
              "    <style>\n",
              "      .colab-df-generate {\n",
              "        background-color: #E8F0FE;\n",
              "        border: none;\n",
              "        border-radius: 50%;\n",
              "        cursor: pointer;\n",
              "        display: none;\n",
              "        fill: #1967D2;\n",
              "        height: 32px;\n",
              "        padding: 0 0 0 0;\n",
              "        width: 32px;\n",
              "      }\n",
              "\n",
              "      .colab-df-generate:hover {\n",
              "        background-color: #E2EBFA;\n",
              "        box-shadow: 0px 1px 2px rgba(60, 64, 67, 0.3), 0px 1px 3px 1px rgba(60, 64, 67, 0.15);\n",
              "        fill: #174EA6;\n",
              "      }\n",
              "\n",
              "      [theme=dark] .colab-df-generate {\n",
              "        background-color: #3B4455;\n",
              "        fill: #D2E3FC;\n",
              "      }\n",
              "\n",
              "      [theme=dark] .colab-df-generate:hover {\n",
              "        background-color: #434B5C;\n",
              "        box-shadow: 0px 1px 3px 1px rgba(0, 0, 0, 0.15);\n",
              "        filter: drop-shadow(0px 1px 2px rgba(0, 0, 0, 0.3));\n",
              "        fill: #FFFFFF;\n",
              "      }\n",
              "    </style>\n",
              "    <button class=\"colab-df-generate\" onclick=\"generateWithVariable('corr_matrix')\"\n",
              "            title=\"Generate code using this dataframe.\"\n",
              "            style=\"display:none;\">\n",
              "\n",
              "  <svg xmlns=\"http://www.w3.org/2000/svg\" height=\"24px\"viewBox=\"0 0 24 24\"\n",
              "       width=\"24px\">\n",
              "    <path d=\"M7,19H8.4L18.45,9,17,7.55,7,17.6ZM5,21V16.75L18.45,3.32a2,2,0,0,1,2.83,0l1.4,1.43a1.91,1.91,0,0,1,.58,1.4,1.91,1.91,0,0,1-.58,1.4L9.25,21ZM18.45,9,17,7.55Zm-12,3A5.31,5.31,0,0,0,4.9,8.1,5.31,5.31,0,0,0,1,6.5,5.31,5.31,0,0,0,4.9,4.9,5.31,5.31,0,0,0,6.5,1,5.31,5.31,0,0,0,8.1,4.9,5.31,5.31,0,0,0,12,6.5,5.46,5.46,0,0,0,6.5,12Z\"/>\n",
              "  </svg>\n",
              "    </button>\n",
              "    <script>\n",
              "      (() => {\n",
              "      const buttonEl =\n",
              "        document.querySelector('#id_f0da617b-9753-441c-8436-c5604a1f2326 button.colab-df-generate');\n",
              "      buttonEl.style.display =\n",
              "        google.colab.kernel.accessAllowed ? 'block' : 'none';\n",
              "\n",
              "      buttonEl.onclick = () => {\n",
              "        google.colab.notebook.generateWithVariable('corr_matrix');\n",
              "      }\n",
              "      })();\n",
              "    </script>\n",
              "  </div>\n",
              "\n",
              "    </div>\n",
              "  </div>\n"
            ],
            "application/vnd.google.colaboratory.intrinsic+json": {
              "type": "dataframe",
              "variable_name": "corr_matrix",
              "summary": "{\n  \"name\": \"corr_matrix\",\n  \"rows\": 10,\n  \"fields\": [\n    {\n      \"column\": \"Name\",\n      \"properties\": {\n        \"dtype\": \"number\",\n        \"std\": null,\n        \"min\": null,\n        \"max\": null,\n        \"num_unique_values\": 0,\n        \"samples\": [],\n        \"semantic_type\": \"\",\n        \"description\": \"\"\n      }\n    },\n    {\n      \"column\": \"Position\",\n      \"properties\": {\n        \"dtype\": \"number\",\n        \"std\": 0.331683316564391,\n        \"min\": -0.02551985500198698,\n        \"max\": 1.0,\n        \"num_unique_values\": 9,\n        \"samples\": [],\n        \"semantic_type\": \"\",\n        \"description\": \"\"\n      }\n    },\n    {\n      \"column\": \"Age\",\n      \"properties\": {\n        \"dtype\": \"number\",\n        \"std\": 0.32584084530182045,\n        \"min\": -0.017571482679639237,\n        \"max\": 1.0,\n        \"num_unique_values\": 9,\n        \"samples\": [],\n        \"semantic_type\": \"\",\n        \"description\": \"\"\n      }\n    },\n    {\n      \"column\": \"Team_from\",\n      \"properties\": {\n        \"dtype\": \"number\",\n        \"std\": 0.327885834712904,\n        \"min\": -0.010805778818654478,\n        \"max\": 1.0,\n        \"num_unique_values\": 9,\n        \"samples\": [],\n        \"semantic_type\": \"\",\n        \"description\": \"\"\n      }\n    },\n    {\n      \"column\": \"League_from\",\n      \"properties\": {\n        \"dtype\": \"number\",\n        \"std\": 0.3162930657778931,\n        \"min\": 0.017740914119992374,\n        \"max\": 1.0,\n        \"num_unique_values\": 9,\n        \"samples\": [],\n        \"semantic_type\": \"\",\n        \"description\": \"\"\n      }\n    },\n    {\n      \"column\": \"Team_to\",\n      \"properties\": {\n        \"dtype\": \"number\",\n        \"std\": 0.3350843447559517,\n        \"min\": -0.0492759350815517,\n        \"max\": 1.0,\n        \"num_unique_values\": 9,\n        \"samples\": [],\n        \"semantic_type\": \"\",\n        \"description\": \"\"\n      }\n    },\n    {\n      \"column\": \"League_to\",\n      \"properties\": {\n        \"dtype\": \"number\",\n        \"std\": 0.3248403048735255,\n        \"min\": -0.006000968690514245,\n        \"max\": 1.0,\n        \"num_unique_values\": 9,\n        \"samples\": [],\n        \"semantic_type\": \"\",\n        \"description\": \"\"\n      }\n    },\n    {\n      \"column\": \"Season\",\n      \"properties\": {\n        \"dtype\": \"number\",\n        \"std\": 0.31380766245170877,\n        \"min\": -0.014985205268220543,\n        \"max\": 1.0,\n        \"num_unique_values\": 9,\n        \"samples\": [],\n        \"semantic_type\": \"\",\n        \"description\": \"\"\n      }\n    },\n    {\n      \"column\": \"Market_value\",\n      \"properties\": {\n        \"dtype\": \"number\",\n        \"std\": 0.3859838207421568,\n        \"min\": -0.0492759350815517,\n        \"max\": 1.0,\n        \"num_unique_values\": 9,\n        \"samples\": [],\n        \"semantic_type\": \"\",\n        \"description\": \"\"\n      }\n    },\n    {\n      \"column\": \"Transfer_fee\",\n      \"properties\": {\n        \"dtype\": \"number\",\n        \"std\": 0.38343361778790763,\n        \"min\": -0.029614242278360355,\n        \"max\": 1.0,\n        \"num_unique_values\": 9,\n        \"samples\": [],\n        \"semantic_type\": \"\",\n        \"description\": \"\"\n      }\n    }\n  ]\n}"
            }
          },
          "metadata": {},
          "execution_count": 14
        }
      ]
    },
    {
      "cell_type": "code",
      "source": [
        "df_numeric = df.apply(pd.to_numeric, errors='coerce')\n",
        "\n",
        "df_numeric = df_numeric.dropna(axis=1, how='any')\n",
        "\n",
        "plt.figure(figsize=(10, 8))\n",
        "sns.heatmap(df_numeric.corr(), annot=True, cmap='coolwarm', fmt=\".2f\")\n",
        "plt.title('Correlation Heatmap')\n",
        "plt.show()"
      ],
      "metadata": {
        "colab": {
          "base_uri": "https://localhost:8080/",
          "height": 778
        },
        "id": "ifBW0YOgOS-X",
        "outputId": "22755697-9a9a-4f2c-a644-aa48dfdb508c"
      },
      "execution_count": 15,
      "outputs": [
        {
          "output_type": "display_data",
          "data": {
            "text/plain": [
              "<Figure size 1000x800 with 2 Axes>"
            ],
            "image/png": "[encoded data removed]"
          },
          "metadata": {}
        }
      ]
    },
    {
      "cell_type": "code",
      "source": [
        "df.columns"
      ],
      "metadata": {
        "colab": {
          "base_uri": "https://localhost:8080/"
        },
        "id": "ZA96oIp9P1oD",
        "outputId": "f1c6ab16-e823-4d4b-900a-ef53cd33ef27"
      },
      "execution_count": 16,
      "outputs": [
        {
          "output_type": "execute_result",
          "data": {
            "text/plain": [
              "Index(['Name', 'Position', 'Age', 'Team_from', 'League_from', 'Team_to',\n",
              "       'League_to', 'Season', 'Market_value', 'Transfer_fee'],\n",
              "      dtype='object')"
            ]
          },
          "metadata": {},
          "execution_count": 16
        }
      ]
    },
    {
      "cell_type": "markdown",
      "source": [
        "# Feature Importance"
      ],
      "metadata": {
        "id": "HswpX0tg9Tx2"
      }
    },
    {
      "cell_type": "code",
      "source": [
        "from sklearn.ensemble import RandomForestRegressor\n",
        "\n",
        "X = df[['Position', 'Age', 'Team_from', 'League_from', 'Team_to',\n",
        "       'League_to', 'Season', 'Market_value']]\n",
        "y = df['Transfer_fee']\n",
        "\n",
        "rf_regressor = RandomForestRegressor(random_state=0)\n",
        "\n",
        "rf_regressor.fit(X, y)\n",
        "\n",
        "feature_importance = rf_regressor.feature_importances_\n",
        "\n",
        "feature_importance_df = pd.DataFrame({'Feature': X.columns, 'Importance': feature_importance})\n",
        "\n",
        "feature_importance_df = feature_importance_df.sort_values(by='Importance', ascending=False)\n",
        "\n",
        "print(feature_importance_df)"
      ],
      "metadata": {
        "colab": {
          "base_uri": "https://localhost:8080/"
        },
        "id": "0xcLTIzFPvht",
        "outputId": "dd5135aa-390b-47ba-e707-d5a83ec0c1a8"
      },
      "execution_count": 32,
      "outputs": [
        {
          "output_type": "stream",
          "name": "stdout",
          "text": [
            "        Feature  Importance\n",
            "7  Market_value    0.664397\n",
            "2     Team_from    0.064460\n",
            "6        Season    0.061178\n",
            "1           Age    0.054477\n",
            "4       Team_to    0.053089\n",
            "0      Position    0.035644\n",
            "3   League_from    0.034721\n",
            "5     League_to    0.032035\n"
          ]
        }
      ]
    },
    {
      "cell_type": "code",
      "source": [
        "plt.figure(figsize=(14, 7))\n",
        "bars = plt.barh(feature_importance_df['Feature'], feature_importance_df['Importance'], color='skyblue')\n",
        "plt.xlabel('Importance')\n",
        "plt.title('Feature Importance')\n",
        "plt.gca().invert_yaxis()\n",
        "for bar in bars:\n",
        "    plt.text(bar.get_width(), bar.get_y() + bar.get_height() / 2, '{:.4f}'.format(bar.get_width()),\n",
        "             va='center', ha='left', fontsize=10, color='black')\n",
        "\n",
        "plt.show()"
      ],
      "metadata": {
        "colab": {
          "base_uri": "https://localhost:8080/",
          "height": 641
        },
        "id": "7WCDVJuGybFU",
        "outputId": "e3a00284-9414-4d41-9492-4f36fcc857df"
      },
      "execution_count": 25,
      "outputs": [
        {
          "output_type": "display_data",
          "data": {
            "text/plain": [
              "<Figure size 1400x700 with 1 Axes>"
            ],
            "image/png": "[encoded data removed]"
          },
          "metadata": {}
        }
      ]
    },
    {
      "cell_type": "markdown",
      "source": [
        "# Model Selection"
      ],
      "metadata": {
        "id": "cM72AMZQ9bdb"
      }
    },
    {
      "cell_type": "code",
      "source": [
        "selected_features = ['Market_value', 'Team_from', 'Season', 'Age']\n",
        "target_variable = 'Transfer_fee'\n",
        "df1 = df[selected_features + [target_variable]]"
      ],
      "metadata": {
        "id": "0kJHW8juz_en"
      },
      "execution_count": 26,
      "outputs": []
    },
    {
      "cell_type": "code",
      "source": [
        "df1.head()"
      ],
      "metadata": {
        "colab": {
          "base_uri": "https://localhost:8080/",
          "height": 206
        },
        "id": "jsQm9i9M0Fn9",
        "outputId": "887a5e13-9cb3-4a99-d6fe-e54de3c5a3d4"
      },
      "execution_count": 27,
      "outputs": [
        {
          "output_type": "execute_result",
          "data": {
            "text/plain": [
              "   Market_value  Team_from  Season  Age  Transfer_fee\n",
              "0     6000000.0        183       0   27      60000000\n",
              "1     6000000.0        386       0   25      56810000\n",
              "2     6000000.0         43       0   27      40000000\n",
              "3     6000000.0        217       0   31      36150000\n",
              "4     6000000.0        426       0   21      34500000"
            ],
            "text/html": [
              "\n",
              "  <div id=\"df-0510761f-9221-4d00-a7da-e88b6251aac8\" class=\"colab-df-container\">\n",
              "    <div>\n",
              "<style scoped>\n",
              "    .dataframe tbody tr th:only-of-type {\n",
              "        vertical-align: middle;\n",
              "    }\n",
              "\n",
              "    .dataframe tbody tr th {\n",
              "        vertical-align: top;\n",
              "    }\n",
              "\n",
              "    .dataframe thead th {\n",
              "        text-align: right;\n",
              "    }\n",
              "</style>\n",
              "<table border=\"1\" class=\"dataframe\">\n",
              "  <thead>\n",
              "    <tr style=\"text-align: right;\">\n",
              "      <th></th>\n",
              "      <th>Market_value</th>\n",
              "      <th>Team_from</th>\n",
              "      <th>Season</th>\n",
              "      <th>Age</th>\n",
              "      <th>Transfer_fee</th>\n",
              "    </tr>\n",
              "  </thead>\n",
              "  <tbody>\n",
              "    <tr>\n",
              "      <th>0</th>\n",
              "      <td>6000000.0</td>\n",
              "      <td>183</td>\n",
              "      <td>0</td>\n",
              "      <td>27</td>\n",
              "      <td>60000000</td>\n",
              "    </tr>\n",
              "    <tr>\n",
              "      <th>1</th>\n",
              "      <td>6000000.0</td>\n",
              "      <td>386</td>\n",
              "      <td>0</td>\n",
              "      <td>25</td>\n",
              "      <td>56810000</td>\n",
              "    </tr>\n",
              "    <tr>\n",
              "      <th>2</th>\n",
              "      <td>6000000.0</td>\n",
              "      <td>43</td>\n",
              "      <td>0</td>\n",
              "      <td>27</td>\n",
              "      <td>40000000</td>\n",
              "    </tr>\n",
              "    <tr>\n",
              "      <th>3</th>\n",
              "      <td>6000000.0</td>\n",
              "      <td>217</td>\n",
              "      <td>0</td>\n",
              "      <td>31</td>\n",
              "      <td>36150000</td>\n",
              "    </tr>\n",
              "    <tr>\n",
              "      <th>4</th>\n",
              "      <td>6000000.0</td>\n",
              "      <td>426</td>\n",
              "      <td>0</td>\n",
              "      <td>21</td>\n",
              "      <td>34500000</td>\n",
              "    </tr>\n",
              "  </tbody>\n",
              "</table>\n",
              "</div>\n",
              "    <div class=\"colab-df-buttons\">\n",
              "\n",
              "  <div class=\"colab-df-container\">\n",
              "    <button class=\"colab-df-convert\" onclick=\"convertToInteractive('df-0510761f-9221-4d00-a7da-e88b6251aac8')\"\n",
              "            title=\"Convert this dataframe to an interactive table.\"\n",
              "            style=\"display:none;\">\n",
              "\n",
              "  <svg xmlns=\"http://www.w3.org/2000/svg\" height=\"24px\" viewBox=\"0 -960 960 960\">\n",
              "    <path d=\"M120-120v-720h720v720H120Zm60-500h600v-160H180v160Zm220 220h160v-160H400v160Zm0 220h160v-160H400v160ZM180-400h160v-160H180v160Zm440 0h160v-160H620v160ZM180-180h160v-160H180v160Zm440 0h160v-160H620v160Z\"/>\n",
              "  </svg>\n",
              "    </button>\n",
              "\n",
              "  <style>\n",
              "    .colab-df-container {\n",
              "      display:flex;\n",
              "      gap: 12px;\n",
              "    }\n",
              "\n",
              "    .colab-df-convert {\n",
              "      background-color: #E8F0FE;\n",
              "      border: none;\n",
              "      border-radius: 50%;\n",
              "      cursor: pointer;\n",
              "      display: none;\n",
              "      fill: #1967D2;\n",
              "      height: 32px;\n",
              "      padding: 0 0 0 0;\n",
              "      width: 32px;\n",
              "    }\n",
              "\n",
              "    .colab-df-convert:hover {\n",
              "      background-color: #E2EBFA;\n",
              "      box-shadow: 0px 1px 2px rgba(60, 64, 67, 0.3), 0px 1px 3px 1px rgba(60, 64, 67, 0.15);\n",
              "      fill: #174EA6;\n",
              "    }\n",
              "\n",
              "    .colab-df-buttons div {\n",
              "      margin-bottom: 4px;\n",
              "    }\n",
              "\n",
              "    [theme=dark] .colab-df-convert {\n",
              "      background-color: #3B4455;\n",
              "      fill: #D2E3FC;\n",
              "    }\n",
              "\n",
              "    [theme=dark] .colab-df-convert:hover {\n",
              "      background-color: #434B5C;\n",
              "      box-shadow: 0px 1px 3px 1px rgba(0, 0, 0, 0.15);\n",
              "      filter: drop-shadow(0px 1px 2px rgba(0, 0, 0, 0.3));\n",
              "      fill: #FFFFFF;\n",
              "    }\n",
              "  </style>\n",
              "\n",
              "    <script>\n",
              "      const buttonEl =\n",
              "        document.querySelector('#df-0510761f-9221-4d00-a7da-e88b6251aac8 button.colab-df-convert');\n",
              "      buttonEl.style.display =\n",
              "        google.colab.kernel.accessAllowed ? 'block' : 'none';\n",
              "\n",
              "      async function convertToInteractive(key) {\n",
              "        const element = document.querySelector('#df-0510761f-9221-4d00-a7da-e88b6251aac8');\n",
              "        const dataTable =\n",
              "          await google.colab.kernel.invokeFunction('convertToInteractive',\n",
              "                                                    [key], {});\n",
              "        if (!dataTable) return;\n",
              "\n",
              "        const docLinkHtml = 'Like what you see? Visit the ' +\n",
              "          '<a target=\"_blank\" href=https://colab.research.google.com/notebooks/data_table.ipynb>data table notebook</a>'\n",
              "          + ' to learn more about interactive tables.';\n",
              "        element.innerHTML = '';\n",
              "        dataTable['output_type'] = 'display_data';\n",
              "        await google.colab.output.renderOutput(dataTable, element);\n",
              "        const docLink = document.createElement('div');\n",
              "        docLink.innerHTML = docLinkHtml;\n",
              "        element.appendChild(docLink);\n",
              "      }\n",
              "    </script>\n",
              "  </div>\n",
              "\n",
              "\n",
              "<div id=\"df-c8f186c4-f084-4fe3-8ba4-cdce05f530f7\">\n",
              "  <button class=\"colab-df-quickchart\" onclick=\"quickchart('df-c8f186c4-f084-4fe3-8ba4-cdce05f530f7')\"\n",
              "            title=\"Suggest charts\"\n",
              "            style=\"display:none;\">\n",
              "\n",
              "<svg xmlns=\"http://www.w3.org/2000/svg\" height=\"24px\"viewBox=\"0 0 24 24\"\n",
              "     width=\"24px\">\n",
              "    <g>\n",
              "        <path d=\"M19 3H5c-1.1 0-2 .9-2 2v14c0 1.1.9 2 2 2h14c1.1 0 2-.9 2-2V5c0-1.1-.9-2-2-2zM9 17H7v-7h2v7zm4 0h-2V7h2v10zm4 0h-2v-4h2v4z\"/>\n",
              "    </g>\n",
              "</svg>\n",
              "  </button>\n",
              "\n",
              "<style>\n",
              "  .colab-df-quickchart {\n",
              "      --bg-color: #E8F0FE;\n",
              "      --fill-color: #1967D2;\n",
              "      --hover-bg-color: #E2EBFA;\n",
              "      --hover-fill-color: #174EA6;\n",
              "      --disabled-fill-color: #AAA;\n",
              "      --disabled-bg-color: #DDD;\n",
              "  }\n",
              "\n",
              "  [theme=dark] .colab-df-quickchart {\n",
              "      --bg-color: #3B4455;\n",
              "      --fill-color: #D2E3FC;\n",
              "      --hover-bg-color: #434B5C;\n",
              "      --hover-fill-color: #FFFFFF;\n",
              "      --disabled-bg-color: #3B4455;\n",
              "      --disabled-fill-color: #666;\n",
              "  }\n",
              "\n",
              "  .colab-df-quickchart {\n",
              "    background-color: var(--bg-color);\n",
              "    border: none;\n",
              "    border-radius: 50%;\n",
              "    cursor: pointer;\n",
              "    display: none;\n",
              "    fill: var(--fill-color);\n",
              "    height: 32px;\n",
              "    padding: 0;\n",
              "    width: 32px;\n",
              "  }\n",
              "\n",
              "  .colab-df-quickchart:hover {\n",
              "    background-color: var(--hover-bg-color);\n",
              "    box-shadow: 0 1px 2px rgba(60, 64, 67, 0.3), 0 1px 3px 1px rgba(60, 64, 67, 0.15);\n",
              "    fill: var(--button-hover-fill-color);\n",
              "  }\n",
              "\n",
              "  .colab-df-quickchart-complete:disabled,\n",
              "  .colab-df-quickchart-complete:disabled:hover {\n",
              "    background-color: var(--disabled-bg-color);\n",
              "    fill: var(--disabled-fill-color);\n",
              "    box-shadow: none;\n",
              "  }\n",
              "\n",
              "  .colab-df-spinner {\n",
              "    border: 2px solid var(--fill-color);\n",
              "    border-color: transparent;\n",
              "    border-bottom-color: var(--fill-color);\n",
              "    animation:\n",
              "      spin 1s steps(1) infinite;\n",
              "  }\n",
              "\n",
              "  @keyframes spin {\n",
              "    0% {\n",
              "      border-color: transparent;\n",
              "      border-bottom-color: var(--fill-color);\n",
              "      border-left-color: var(--fill-color);\n",
              "    }\n",
              "    20% {\n",
              "      border-color: transparent;\n",
              "      border-left-color: var(--fill-color);\n",
              "      border-top-color: var(--fill-color);\n",
              "    }\n",
              "    30% {\n",
              "      border-color: transparent;\n",
              "      border-left-color: var(--fill-color);\n",
              "      border-top-color: var(--fill-color);\n",
              "      border-right-color: var(--fill-color);\n",
              "    }\n",
              "    40% {\n",
              "      border-color: transparent;\n",
              "      border-right-color: var(--fill-color);\n",
              "      border-top-color: var(--fill-color);\n",
              "    }\n",
              "    60% {\n",
              "      border-color: transparent;\n",
              "      border-right-color: var(--fill-color);\n",
              "    }\n",
              "    80% {\n",
              "      border-color: transparent;\n",
              "      border-right-color: var(--fill-color);\n",
              "      border-bottom-color: var(--fill-color);\n",
              "    }\n",
              "    90% {\n",
              "      border-color: transparent;\n",
              "      border-bottom-color: var(--fill-color);\n",
              "    }\n",
              "  }\n",
              "</style>\n",
              "\n",
              "  <script>\n",
              "    async function quickchart(key) {\n",
              "      const quickchartButtonEl =\n",
              "        document.querySelector('#' + key + ' button');\n",
              "      quickchartButtonEl.disabled = true;  // To prevent multiple clicks.\n",
              "      quickchartButtonEl.classList.add('colab-df-spinner');\n",
              "      try {\n",
              "        const charts = await google.colab.kernel.invokeFunction(\n",
              "            'suggestCharts', [key], {});\n",
              "      } catch (error) {\n",
              "        console.error('Error during call to suggestCharts:', error);\n",
              "      }\n",
              "      quickchartButtonEl.classList.remove('colab-df-spinner');\n",
              "      quickchartButtonEl.classList.add('colab-df-quickchart-complete');\n",
              "    }\n",
              "    (() => {\n",
              "      let quickchartButtonEl =\n",
              "        document.querySelector('#df-c8f186c4-f084-4fe3-8ba4-cdce05f530f7 button');\n",
              "      quickchartButtonEl.style.display =\n",
              "        google.colab.kernel.accessAllowed ? 'block' : 'none';\n",
              "    })();\n",
              "  </script>\n",
              "</div>\n",
              "\n",
              "    </div>\n",
              "  </div>\n"
            ],
            "application/vnd.google.colaboratory.intrinsic+json": {
              "type": "dataframe",
              "variable_name": "df1",
              "summary": "{\n  \"name\": \"df1\",\n  \"rows\": 4700,\n  \"fields\": [\n    {\n      \"column\": \"Market_value\",\n      \"properties\": {\n        \"dtype\": \"number\",\n        \"std\": 7613326.604112463,\n        \"min\": 50000.0,\n        \"max\": 120000000.0,\n        \"num_unique_values\": 180,\n        \"samples\": [\n          2250000.0,\n          18000000.0,\n          7800000.0\n        ],\n        \"semantic_type\": \"\",\n        \"description\": \"\"\n      }\n    },\n    {\n      \"column\": \"Team_from\",\n      \"properties\": {\n        \"dtype\": \"number\",\n        \"std\": 165,\n        \"min\": 0,\n        \"max\": 569,\n        \"num_unique_values\": 570,\n        \"samples\": [\n          178,\n          83,\n          130\n        ],\n        \"semantic_type\": \"\",\n        \"description\": \"\"\n      }\n    },\n    {\n      \"column\": \"Season\",\n      \"properties\": {\n        \"dtype\": \"number\",\n        \"std\": 5,\n        \"min\": 0,\n        \"max\": 18,\n        \"num_unique_values\": 19,\n        \"samples\": [\n          0,\n          5,\n          11\n        ],\n        \"semantic_type\": \"\",\n        \"description\": \"\"\n      }\n    },\n    {\n      \"column\": \"Age\",\n      \"properties\": {\n        \"dtype\": \"number\",\n        \"std\": 3,\n        \"min\": 0,\n        \"max\": 35,\n        \"num_unique_values\": 22,\n        \"samples\": [\n          27,\n          35,\n          19\n        ],\n        \"semantic_type\": \"\",\n        \"description\": \"\"\n      }\n    },\n    {\n      \"column\": \"Transfer_fee\",\n      \"properties\": {\n        \"dtype\": \"number\",\n        \"std\": 10437719,\n        \"min\": 825000,\n        \"max\": 222000000,\n        \"num_unique_values\": 507,\n        \"samples\": [\n          12750000,\n          5650000,\n          67800000\n        ],\n        \"semantic_type\": \"\",\n        \"description\": \"\"\n      }\n    }\n  ]\n}"
            }
          },
          "metadata": {},
          "execution_count": 27
        }
      ]
    },
    {
      "cell_type": "code",
      "source": [
        "from sklearn.model_selection import train_test_split\n",
        "from sklearn.ensemble import RandomForestRegressor\n",
        "from sklearn.metrics import mean_squared_error, mean_absolute_error, r2_score"
      ],
      "metadata": {
        "id": "64PTjSTQMdLF"
      },
      "execution_count": 28,
      "outputs": []
    },
    {
      "cell_type": "code",
      "source": [
        "X = df1.drop(columns=['Transfer_fee'])\n",
        "y = df1['Transfer_fee']\n",
        "\n",
        "X_train, X_test, y_train, y_test = train_test_split(X, y, test_size=0.3, random_state=0)"
      ],
      "metadata": {
        "id": "kt086NRV0aAL"
      },
      "execution_count": 29,
      "outputs": []
    },
    {
      "cell_type": "code",
      "source": [
        "rf_regressor = RandomForestRegressor(random_state=42)\n",
        "\n",
        "rf_regressor.fit(X_train, y_train)\n",
        "\n",
        "y_pred = rf_regressor.predict(X_test)"
      ],
      "metadata": {
        "id": "HuVdIzjl0fv5"
      },
      "execution_count": 30,
      "outputs": []
    },
    {
      "cell_type": "code",
      "source": [
        "mse = mean_squared_error(y_test, y_pred)\n",
        "mae = mean_absolute_error(y_test, y_pred)\n",
        "r2 = r2_score(y_test, y_pred)\n",
        "\n",
        "print(\"Mean Squared Error (MSE):\", mse)\n",
        "print(\"Mean Absolute Error (MAE):\", mae)\n",
        "print(\"R-squared (R2) Score:\", r2)"
      ],
      "metadata": {
        "colab": {
          "base_uri": "https://localhost:8080/"
        },
        "id": "vOFGH9eV0fsT",
        "outputId": "e786691f-1a8d-416c-e84f-f22c7827ac3d"
      },
      "execution_count": 31,
      "outputs": [
        {
          "output_type": "stream",
          "name": "stdout",
          "text": [
            "Mean Squared Error (MSE): 36732574654744.96\n",
            "Mean Absolute Error (MAE): 3637996.831475853\n",
            "R-squared (R2) Score: 0.6345173563092467\n"
          ]
        }
      ]
    },
    {
      "cell_type": "code",
      "source": [
        "from sklearn.linear_model import LinearRegression\n",
        "from sklearn.tree import DecisionTreeRegressor\n",
        "from sklearn.ensemble import GradientBoostingRegressor\n",
        "from sklearn.svm import SVR"
      ],
      "metadata": {
        "id": "Dja8RhWsNMKj"
      },
      "execution_count": 33,
      "outputs": []
    },
    {
      "cell_type": "code",
      "source": [
        "mse_scores = []\n",
        "mae_scores = []\n",
        "r2_scores = []"
      ],
      "metadata": {
        "id": "DExJZzEP1-_g"
      },
      "execution_count": 48,
      "outputs": []
    },
    {
      "cell_type": "code",
      "source": [
        "print(\"Training Linear Regression...\")\n",
        "linear_reg = LinearRegression()\n",
        "linear_reg.fit(X_train, y_train)\n",
        "y_pred_linear = linear_reg.predict(X_test)\n",
        "mse_linear = mean_squared_error(y_test, y_pred_linear)\n",
        "mae_linear = mean_absolute_error(y_test, y_pred_linear)\n",
        "r2_linear = r2_score(y_test, y_pred_linear)"
      ],
      "metadata": {
        "colab": {
          "base_uri": "https://localhost:8080/"
        },
        "id": "CthnqsWb2BHR",
        "outputId": "6266cbdc-ce07-4f91-fbdc-e987bfd4975c"
      },
      "execution_count": 49,
      "outputs": [
        {
          "output_type": "stream",
          "name": "stdout",
          "text": [
            "Training Linear Regression...\n"
          ]
        }
      ]
    },
    {
      "cell_type": "code",
      "source": [
        "mse_scores.append(mse_linear)\n",
        "mae_scores.append(mae_linear)\n",
        "r2_scores.append(r2_linear)\n",
        "print(\"Linear Regression:\")\n",
        "print(f\"  Mean Squared Error (MSE): {mse_linear}\")\n",
        "print(f\"  Mean Absolute Error (MAE): {mae_linear}\")\n",
        "print(f\"  R-squared (R2) Score: {r2_linear}\")"
      ],
      "metadata": {
        "colab": {
          "base_uri": "https://localhost:8080/"
        },
        "id": "ibEa31c02I_I",
        "outputId": "73896a54-ff86-4e2c-aeb8-66f66c80bb98"
      },
      "execution_count": 50,
      "outputs": [
        {
          "output_type": "stream",
          "name": "stdout",
          "text": [
            "Linear Regression:\n",
            "  Mean Squared Error (MSE): 38971181945935.26\n",
            "  Mean Absolute Error (MAE): 3808613.859519945\n",
            "  R-squared (R2) Score: 0.612243608316906\n"
          ]
        }
      ]
    },
    {
      "cell_type": "code",
      "source": [
        "print(\"Training Decision Tree Regressor...\")\n",
        "tree_reg = DecisionTreeRegressor(random_state=42)\n",
        "tree_reg.fit(X_train, y_train)\n",
        "y_pred_tree = tree_reg.predict(X_test)\n",
        "mse_tree = mean_squared_error(y_test, y_pred_tree)\n",
        "mae_tree = mean_absolute_error(y_test, y_pred_tree)\n",
        "r2_tree = r2_score(y_test, y_pred_tree)"
      ],
      "metadata": {
        "colab": {
          "base_uri": "https://localhost:8080/"
        },
        "id": "Bnm_39dz2M27",
        "outputId": "f6f1d262-9a5e-4cde-9848-708f01a93098"
      },
      "execution_count": 51,
      "outputs": [
        {
          "output_type": "stream",
          "name": "stdout",
          "text": [
            "Training Decision Tree Regressor...\n"
          ]
        }
      ]
    },
    {
      "cell_type": "code",
      "source": [
        "mse_scores.append(mse_tree)\n",
        "mae_scores.append(mae_tree)\n",
        "r2_scores.append(r2_tree)\n",
        "print(\"Decision Tree Regressor:\")\n",
        "print(f\"  Mean Squared Error (MSE): {mse_tree}\")\n",
        "print(f\"  Mean Absolute Error (MAE): {mae_tree}\")\n",
        "print(f\"  R-squared (R2) Score: {r2_tree}\")"
      ],
      "metadata": {
        "colab": {
          "base_uri": "https://localhost:8080/"
        },
        "id": "pEsAnnL_2Qlh",
        "outputId": "e04d95f2-fa0a-466a-c178-5fc8170631c1"
      },
      "execution_count": 52,
      "outputs": [
        {
          "output_type": "stream",
          "name": "stdout",
          "text": [
            "Decision Tree Regressor:\n",
            "  Mean Squared Error (MSE): 61866579521276.59\n",
            "  Mean Absolute Error (MAE): 4662067.375886525\n",
            "  R-squared (R2) Score: 0.38443843776086684\n"
          ]
        }
      ]
    },
    {
      "cell_type": "code",
      "source": [
        "print(\"Training Gradient Boosting Regressor...\")\n",
        "gb_reg = GradientBoostingRegressor(random_state=42)\n",
        "gb_reg.fit(X_train, y_train)\n",
        "y_pred_gb = gb_reg.predict(X_test)\n",
        "mse_gb = mean_squared_error(y_test, y_pred_gb)\n",
        "mae_gb = mean_absolute_error(y_test, y_pred_gb)\n",
        "r2_gb = r2_score(y_test, y_pred_gb)"
      ],
      "metadata": {
        "colab": {
          "base_uri": "https://localhost:8080/"
        },
        "id": "eMnm8Qnk2TMu",
        "outputId": "34393561-ec10-41a6-eb64-7db2738f38d8"
      },
      "execution_count": 53,
      "outputs": [
        {
          "output_type": "stream",
          "name": "stdout",
          "text": [
            "Training Gradient Boosting Regressor...\n"
          ]
        }
      ]
    },
    {
      "cell_type": "code",
      "source": [
        "mse_scores.append(mse_gb)\n",
        "mae_scores.append(mae_gb)\n",
        "r2_scores.append(r2_gb)\n",
        "print(\"Gradient Boosting Regressor:\")\n",
        "print(f\"  Mean Squared Error (MSE): {mse_gb}\")\n",
        "print(f\"  Mean Absolute Error (MAE): {mae_gb}\")\n",
        "print(f\"  R-squared (R2) Score: {r2_gb}\")"
      ],
      "metadata": {
        "colab": {
          "base_uri": "https://localhost:8080/"
        },
        "id": "Op03Ceb02XkK",
        "outputId": "aaf0481f-2088-4a53-e6d8-95a5d20bfae6"
      },
      "execution_count": 54,
      "outputs": [
        {
          "output_type": "stream",
          "name": "stdout",
          "text": [
            "Gradient Boosting Regressor:\n",
            "  Mean Squared Error (MSE): 34748041530543.387\n",
            "  Mean Absolute Error (MAE): 3451590.5553178964\n",
            "  R-squared (R2) Score: 0.6542631111206745\n"
          ]
        }
      ]
    },
    {
      "cell_type": "code",
      "source": [
        "print(\"Training Support Vector Regressor...\")\n",
        "svr_reg = SVR()\n",
        "svr_reg.fit(X_train, y_train)\n",
        "y_pred_svr = svr_reg.predict(X_test)\n",
        "mse_svr = mean_squared_error(y_test, y_pred_svr)\n",
        "mae_svr = mean_absolute_error(y_test, y_pred_svr)\n",
        "r2_svr = r2_score(y_test, y_pred_svr)"
      ],
      "metadata": {
        "colab": {
          "base_uri": "https://localhost:8080/"
        },
        "id": "a8KjExAd2aff",
        "outputId": "50681562-b0fc-4773-86a9-206a911e045e"
      },
      "execution_count": 55,
      "outputs": [
        {
          "output_type": "stream",
          "name": "stdout",
          "text": [
            "Training Support Vector Regressor...\n"
          ]
        }
      ]
    },
    {
      "cell_type": "code",
      "source": [
        "mse_scores.append(mse_svr)\n",
        "mae_scores.append(mae_svr)\n",
        "r2_scores.append(r2_svr)\n",
        "print(\"Support Vector Regressor:\")\n",
        "print(f\"  Mean Squared Error (MSE): {mse_svr}\")\n",
        "print(f\"  Mean Absolute Error (MAE): {mae_svr}\")\n",
        "print(f\"  R-squared (R2) Score: {r2_svr}\")"
      ],
      "metadata": {
        "colab": {
          "base_uri": "https://localhost:8080/"
        },
        "id": "sxqqqcCm2esT",
        "outputId": "a876c16c-f5b2-46ec-aee0-93cd1f494e9e"
      },
      "execution_count": 56,
      "outputs": [
        {
          "output_type": "stream",
          "name": "stdout",
          "text": [
            "Support Vector Regressor:\n",
            "  Mean Squared Error (MSE): 109036133006194.0\n",
            "  Mean Absolute Error (MAE): 5472331.461112726\n",
            "  R-squared (R2) Score: -0.08489030577040246\n"
          ]
        }
      ]
    },
    {
      "cell_type": "code",
      "source": [
        "model_names = ['Linear Regression', 'Decision Tree Regressor', 'Gradient Boosting Regressor', 'Support Vector Regressor']\n",
        "plt.figure(figsize=(10, 6))\n",
        "plt.barh(model_names, mse_scores, color='skyblue')\n",
        "plt.xlabel('Mean Squared Error (MSE)')\n",
        "plt.title('Model Comparison: Mean Squared Error (MSE)')\n",
        "plt.gca().invert_yaxis()\n",
        "plt.show()"
      ],
      "metadata": {
        "colab": {
          "base_uri": "https://localhost:8080/",
          "height": 564
        },
        "id": "UKZbag-w2g5k",
        "outputId": "bafba83f-f3db-4fd6-ba22-7529043bed6f"
      },
      "execution_count": 57,
      "outputs": [
        {
          "output_type": "display_data",
          "data": {
            "text/plain": [
              "<Figure size 1000x600 with 1 Axes>"
            ],
            "image/png": "[encoded data removed]"
          },
          "metadata": {}
        }
      ]
    },
    {
      "cell_type": "code",
      "source": [
        "plt.figure(figsize=(10, 6))\n",
        "plt.barh(model_names, mae_scores, color='lightgreen')\n",
        "plt.xlabel('Mean Absolute Error (MAE)')\n",
        "plt.title('Model Comparison: Mean Absolute Error (MAE)')\n",
        "plt.gca().invert_yaxis()\n",
        "plt.show()"
      ],
      "metadata": {
        "colab": {
          "base_uri": "https://localhost:8080/",
          "height": 564
        },
        "id": "oQvQHVQX21Ga",
        "outputId": "72b50585-0140-447a-8455-6466f3d4ba83"
      },
      "execution_count": 58,
      "outputs": [
        {
          "output_type": "display_data",
          "data": {
            "text/plain": [
              "<Figure size 1000x600 with 1 Axes>"
            ],
            "image/png": "[encoded data removed]"
          },
          "metadata": {}
        }
      ]
    },
    {
      "cell_type": "code",
      "source": [
        "plt.figure(figsize=(10, 6))\n",
        "plt.barh(model_names, r2_scores, color='salmon')\n",
        "plt.xlabel('R-squared (R2) Score')\n",
        "plt.title('Model Comparison: R-squared (R2) Score')\n",
        "plt.gca().invert_yaxis()\n",
        "plt.show()"
      ],
      "metadata": {
        "colab": {
          "base_uri": "https://localhost:8080/",
          "height": 564
        },
        "id": "pWMNKcNW26a-",
        "outputId": "43be9d34-983b-422b-c861-4a6287c70a0d"
      },
      "execution_count": 59,
      "outputs": [
        {
          "output_type": "display_data",
          "data": {
            "text/plain": [
              "<Figure size 1000x600 with 1 Axes>"
            ],
            "image/png": "[encoded data removed]"
          },
          "metadata": {}
        }
      ]
    },
    {
      "cell_type": "markdown",
      "source": [
        "Based on the evaluation metrics provided, the Gradient Boosting Regressor seems to be the best-performing model among the ones tested. Here's why:\n",
        "\n",
        "\n",
        "1. **Mean Squared Error (MSE)**: The Gradient Boosting Regressor has the lowest MSE among all models, indicating smaller prediction errors on average.\n",
        "\n",
        "\n",
        "2. **Mean Absolute Error (MAE)**: Similarly, the Gradient Boosting Regressor has the lowest MAE, suggesting smaller absolute prediction errors.\n",
        "\n",
        "\n",
        "3. **R-squared (R2) Score**: The R-squared score of the Gradient Boosting Regressor is also the highest, indicating that it explains the most variance in the target variable compared to other models.\n"
      ],
      "metadata": {
        "id": "8V7j2_9836k_"
      }
    },
    {
      "cell_type": "markdown",
      "source": [
        "# Hyperparameter tuning"
      ],
      "metadata": {
        "id": "DLcTOFEe4_1f"
      }
    },
    {
      "cell_type": "code",
      "source": [
        "from sklearn.model_selection import GridSearchCV\n",
        "from sklearn.ensemble import GradientBoostingRegressor"
      ],
      "metadata": {
        "id": "3sd_e4uK3dxQ"
      },
      "execution_count": 63,
      "outputs": []
    },
    {
      "cell_type": "code",
      "source": [
        "param_grid = {\n",
        "    'learning_rate': [0.01, 0.1, 0.5],\n",
        "    'n_estimators': [50, 100, 200],\n",
        "    'max_depth': [3, 5, 7],\n",
        "    'min_samples_split': [2, 5, 10],\n",
        "    'min_samples_leaf': [1, 2, 4]\n",
        "}"
      ],
      "metadata": {
        "id": "r2cp8xIm48fk"
      },
      "execution_count": 64,
      "outputs": []
    },
    {
      "cell_type": "code",
      "source": [
        "gb_reg = GradientBoostingRegressor(random_state=42)\n",
        "\n",
        "grid_search = GridSearchCV(gb_reg, param_grid, cv=5, scoring='neg_mean_squared_error', n_jobs=-1)\n",
        "grid_search.fit(X_train, y_train)\n",
        "\n",
        "best_params = grid_search.best_params_\n",
        "print(\"Best Hyperparameters:\", best_params)"
      ],
      "metadata": {
        "colab": {
          "base_uri": "https://localhost:8080/"
        },
        "id": "wGgkO1X65M7g",
        "outputId": "4cecedfa-6306-4e75-9c41-f8da89779998"
      },
      "execution_count": 65,
      "outputs": [
        {
          "output_type": "stream",
          "name": "stdout",
          "text": [
            "Best Hyperparameters: {'learning_rate': 0.01, 'max_depth': 7, 'min_samples_leaf': 2, 'min_samples_split': 10, 'n_estimators': 200}\n"
          ]
        }
      ]
    },
    {
      "cell_type": "code",
      "source": [
        "best_model = grid_search.best_estimator_"
      ],
      "metadata": {
        "id": "fE5UUmSh5SvT"
      },
      "execution_count": 67,
      "outputs": []
    },
    {
      "cell_type": "code",
      "source": [
        "y_pred_best = best_model.predict(X_test)\n",
        "mse_best = mean_squared_error(y_test, y_pred_best)\n",
        "mae_best = mean_absolute_error(y_test, y_pred_best)\n",
        "r2_best = r2_score(y_test, y_pred_best)\n",
        "\n",
        "print(\"Best Model Evaluation:\")\n",
        "print(f\"  Mean Squared Error (MSE): {mse_best}\")\n",
        "print(f\"  Mean Absolute Error (MAE): {mae_best}\")\n",
        "print(f\"  R-squared (R2) Score: {r2_best}\")"
      ],
      "metadata": {
        "colab": {
          "base_uri": "https://localhost:8080/"
        },
        "id": "32LAwiaN60TY",
        "outputId": "4b5af460-8810-4031-db00-9ec657a679d2"
      },
      "execution_count": 68,
      "outputs": [
        {
          "output_type": "stream",
          "name": "stdout",
          "text": [
            "Best Model Evaluation:\n",
            "  Mean Squared Error (MSE): 36272187901889.08\n",
            "  Mean Absolute Error (MAE): 3596606.759769752\n",
            "  R-squared (R2) Score: 0.6390981233569013\n"
          ]
        }
      ]
    },
    {
      "cell_type": "code",
      "source": [
        "from sklearn.ensemble import RandomForestRegressor\n",
        "from sklearn.ensemble import VotingRegressor\n",
        "\n",
        "rf_reg = RandomForestRegressor(random_state=42)\n",
        "\n",
        "voting_reg = VotingRegressor(estimators=[('gb', best_model), ('rf', rf_reg)])\n",
        "\n",
        "voting_reg.fit(X_train, y_train)\n",
        "\n",
        "y_pred_voting = voting_reg.predict(X_test)\n",
        "mse_voting = mean_squared_error(y_test, y_pred_voting)\n",
        "mae_voting = mean_absolute_error(y_test, y_pred_voting)\n",
        "r2_voting = r2_score(y_test, y_pred_voting)\n",
        "\n",
        "print(\"Ensemble Model Evaluation:\")\n",
        "print(f\"  Mean Squared Error (MSE): {mse_voting}\")\n",
        "print(f\"  Mean Absolute Error (MAE): {mae_voting}\")\n",
        "print(f\"  R-squared (R2) Score: {r2_voting}\")"
      ],
      "metadata": {
        "colab": {
          "base_uri": "https://localhost:8080/"
        },
        "id": "V7siYVjD63AU",
        "outputId": "70fbffff-4c36-48c8-f71a-e5d9a259a4f7"
      },
      "execution_count": 69,
      "outputs": [
        {
          "output_type": "stream",
          "name": "stdout",
          "text": [
            "Ensemble Model Evaluation:\n",
            "  Mean Squared Error (MSE): 35016384746192.93\n",
            "  Mean Absolute Error (MAE): 3546906.529274187\n",
            "  R-squared (R2) Score: 0.6515931434205093\n"
          ]
        }
      ]
    },
    {
      "cell_type": "markdown",
      "source": [
        "As per the observation, the ensemble model which combines the Gradient Boosting Regressor and the Random Forest Regressor, has improved performance compared to using either model individually. Here's a summary of the evaluation metrics:\n",
        "\n",
        "\n",
        "- Mean Squared Error (MSE): 35,016,384,746,192.93\n",
        "- Mean Absolute Error (MAE): 3,546,906.529274187\n",
        "- R-squared (R2) Score: 0.6515931434205093\n",
        "\n",
        "\n",
        "These results suggest that the ensemble model has lower prediction errors and explains more variance in the target variable compared to the individual models. The R-squared (R2) score also indicates a better fit to the data.\n"
      ],
      "metadata": {
        "id": "HuNNz-u57lMu"
      }
    },
    {
      "cell_type": "code",
      "source": [
        "MyModel = voting_reg"
      ],
      "metadata": {
        "id": "ZDPwRGna7TTn"
      },
      "execution_count": 70,
      "outputs": []
    },
    {
      "cell_type": "code",
      "source": [
        "MyModel"
      ],
      "metadata": {
        "colab": {
          "base_uri": "https://localhost:8080/",
          "height": 110
        },
        "id": "LQAuxJ388BfK",
        "outputId": "934967e0-28d1-4353-dad9-713c7e11827a"
      },
      "execution_count": 71,
      "outputs": [
        {
          "output_type": "execute_result",
          "data": {
            "text/plain": [
              "VotingRegressor(estimators=[('gb',\n",
              "                             GradientBoostingRegressor(learning_rate=0.01,\n",
              "                                                       max_depth=7,\n",
              "                                                       min_samples_leaf=2,\n",
              "                                                       min_samples_split=10,\n",
              "                                                       n_estimators=200,\n",
              "                                                       random_state=42)),\n",
              "                            ('rf', RandomForestRegressor(random_state=42))])"
            ],
            "text/html": [
              "<style>#sk-container-id-1 {color: black;background-color: white;}#sk-container-id-1 pre{padding: 0;}#sk-container-id-1 div.sk-toggleable {background-color: white;}#sk-container-id-1 label.sk-toggleable__label {cursor: pointer;display: block;width: 100%;margin-bottom: 0;padding: 0.3em;box-sizing: border-box;text-align: center;}#sk-container-id-1 label.sk-toggleable__label-arrow:before {content: \"▸\";float: left;margin-right: 0.25em;color: #696969;}#sk-container-id-1 label.sk-toggleable__label-arrow:hover:before {color: black;}#sk-container-id-1 div.sk-estimator:hover label.sk-toggleable__label-arrow:before {color: black;}#sk-container-id-1 div.sk-toggleable__content {max-height: 0;max-width: 0;overflow: hidden;text-align: left;background-color: #f0f8ff;}#sk-container-id-1 div.sk-toggleable__content pre {margin: 0.2em;color: black;border-radius: 0.25em;background-color: #f0f8ff;}#sk-container-id-1 input.sk-toggleable__control:checked~div.sk-toggleable__content {max-height: 200px;max-width: 100%;overflow: auto;}#sk-container-id-1 input.sk-toggleable__control:checked~label.sk-toggleable__label-arrow:before {content: \"▾\";}#sk-container-id-1 div.sk-estimator input.sk-toggleable__control:checked~label.sk-toggleable__label {background-color: #d4ebff;}#sk-container-id-1 div.sk-label input.sk-toggleable__control:checked~label.sk-toggleable__label {background-color: #d4ebff;}#sk-container-id-1 input.sk-hidden--visually {border: 0;clip: rect(1px 1px 1px 1px);clip: rect(1px, 1px, 1px, 1px);height: 1px;margin: -1px;overflow: hidden;padding: 0;position: absolute;width: 1px;}#sk-container-id-1 div.sk-estimator {font-family: monospace;background-color: #f0f8ff;border: 1px dotted black;border-radius: 0.25em;box-sizing: border-box;margin-bottom: 0.5em;}#sk-container-id-1 div.sk-estimator:hover {background-color: #d4ebff;}#sk-container-id-1 div.sk-parallel-item::after {content: \"\";width: 100%;border-bottom: 1px solid gray;flex-grow: 1;}#sk-container-id-1 div.sk-label:hover label.sk-toggleable__label {background-color: #d4ebff;}#sk-container-id-1 div.sk-serial::before {content: \"\";position: absolute;border-left: 1px solid gray;box-sizing: border-box;top: 0;bottom: 0;left: 50%;z-index: 0;}#sk-container-id-1 div.sk-serial {display: flex;flex-direction: column;align-items: center;background-color: white;padding-right: 0.2em;padding-left: 0.2em;position: relative;}#sk-container-id-1 div.sk-item {position: relative;z-index: 1;}#sk-container-id-1 div.sk-parallel {display: flex;align-items: stretch;justify-content: center;background-color: white;position: relative;}#sk-container-id-1 div.sk-item::before, #sk-container-id-1 div.sk-parallel-item::before {content: \"\";position: absolute;border-left: 1px solid gray;box-sizing: border-box;top: 0;bottom: 0;left: 50%;z-index: -1;}#sk-container-id-1 div.sk-parallel-item {display: flex;flex-direction: column;z-index: 1;position: relative;background-color: white;}#sk-container-id-1 div.sk-parallel-item:first-child::after {align-self: flex-end;width: 50%;}#sk-container-id-1 div.sk-parallel-item:last-child::after {align-self: flex-start;width: 50%;}#sk-container-id-1 div.sk-parallel-item:only-child::after {width: 0;}#sk-container-id-1 div.sk-dashed-wrapped {border: 1px dashed gray;margin: 0 0.4em 0.5em 0.4em;box-sizing: border-box;padding-bottom: 0.4em;background-color: white;}#sk-container-id-1 div.sk-label label {font-family: monospace;font-weight: bold;display: inline-block;line-height: 1.2em;}#sk-container-id-1 div.sk-label-container {text-align: center;}#sk-container-id-1 div.sk-container {/* jupyter's `normalize.less` sets `[hidden] { display: none; }` but bootstrap.min.css set `[hidden] { display: none !important; }` so we also need the `!important` here to be able to override the default hidden behavior on the sphinx rendered scikit-learn.org. See: https://github.com/scikit-learn/scikit-learn/issues/21755 */display: inline-block !important;position: relative;}#sk-container-id-1 div.sk-text-repr-fallback {display: none;}</style><div id=\"sk-container-id-1\" class=\"sk-top-container\"><div class=\"sk-text-repr-fallback\"><pre>VotingRegressor(estimators=[(&#x27;gb&#x27;,\n",
              "                             GradientBoostingRegressor(learning_rate=0.01,\n",
              "                                                       max_depth=7,\n",
              "                                                       min_samples_leaf=2,\n",
              "                                                       min_samples_split=10,\n",
              "                                                       n_estimators=200,\n",
              "                                                       random_state=42)),\n",
              "                            (&#x27;rf&#x27;, RandomForestRegressor(random_state=42))])</pre><b>In a Jupyter environment, please rerun this cell to show the HTML representation or trust the notebook. <br />On GitHub, the HTML representation is unable to render, please try loading this page with nbviewer.org.</b></div><div class=\"sk-container\" hidden><div class=\"sk-item sk-dashed-wrapped\"><div class=\"sk-label-container\"><div class=\"sk-label sk-toggleable\"><input class=\"sk-toggleable__control sk-hidden--visually\" id=\"sk-estimator-id-1\" type=\"checkbox\" ><label for=\"sk-estimator-id-1\" class=\"sk-toggleable__label sk-toggleable__label-arrow\">VotingRegressor</label><div class=\"sk-toggleable__content\"><pre>VotingRegressor(estimators=[(&#x27;gb&#x27;,\n",
              "                             GradientBoostingRegressor(learning_rate=0.01,\n",
              "                                                       max_depth=7,\n",
              "                                                       min_samples_leaf=2,\n",
              "                                                       min_samples_split=10,\n",
              "                                                       n_estimators=200,\n",
              "                                                       random_state=42)),\n",
              "                            (&#x27;rf&#x27;, RandomForestRegressor(random_state=42))])</pre></div></div></div><div class=\"sk-parallel\"><div class=\"sk-parallel-item\"><div class=\"sk-item\"><div class=\"sk-label-container\"><div class=\"sk-label sk-toggleable\"><label>gb</label></div></div><div class=\"sk-serial\"><div class=\"sk-item\"><div class=\"sk-estimator sk-toggleable\"><input class=\"sk-toggleable__control sk-hidden--visually\" id=\"sk-estimator-id-2\" type=\"checkbox\" ><label for=\"sk-estimator-id-2\" class=\"sk-toggleable__label sk-toggleable__label-arrow\">GradientBoostingRegressor</label><div class=\"sk-toggleable__content\"><pre>GradientBoostingRegressor(learning_rate=0.01, max_depth=7, min_samples_leaf=2,\n",
              "                          min_samples_split=10, n_estimators=200,\n",
              "                          random_state=42)</pre></div></div></div></div></div></div><div class=\"sk-parallel-item\"><div class=\"sk-item\"><div class=\"sk-label-container\"><div class=\"sk-label sk-toggleable\"><label>rf</label></div></div><div class=\"sk-serial\"><div class=\"sk-item\"><div class=\"sk-estimator sk-toggleable\"><input class=\"sk-toggleable__control sk-hidden--visually\" id=\"sk-estimator-id-3\" type=\"checkbox\" ><label for=\"sk-estimator-id-3\" class=\"sk-toggleable__label sk-toggleable__label-arrow\">RandomForestRegressor</label><div class=\"sk-toggleable__content\"><pre>RandomForestRegressor(random_state=42)</pre></div></div></div></div></div></div></div></div></div></div>"
            ]
          },
          "metadata": {},
          "execution_count": 71
        }
      ]
    },
    {
      "cell_type": "code",
      "source": [
        "import joblib\n",
        "\n",
        "joblib.dump(MyModel, 'MyModel.pkl')\n",
        "print(\"Model saved successfully!\")"
      ],
      "metadata": {
        "colab": {
          "base_uri": "https://localhost:8080/"
        },
        "id": "I5p5UROP8DB4",
        "outputId": "d410b272-e4c4-4cba-d3d4-f030e2057003"
      },
      "execution_count": 94,
      "outputs": [
        {
          "output_type": "stream",
          "name": "stdout",
          "text": [
            "Model saved successfully!\n"
          ]
        }
      ]
    },
    {
      "cell_type": "markdown",
      "source": [
        "# Cross Validation"
      ],
      "metadata": {
        "id": "dHRxscyK8O_u"
      }
    },
    {
      "cell_type": "code",
      "source": [
        "from sklearn.model_selection import cross_val_score"
      ],
      "metadata": {
        "id": "Lm6Yrzai8SYD"
      },
      "execution_count": 72,
      "outputs": []
    },
    {
      "cell_type": "code",
      "source": [
        "k = 5  # Number of folds\n",
        "mse_scores = cross_val_score(MyModel, X_train, y_train, cv=k, scoring='neg_mean_squared_error')\n",
        "mae_scores = cross_val_score(MyModel, X_train, y_train, cv=k, scoring='neg_mean_absolute_error')\n",
        "r2_scores = cross_val_score(MyModel, X_train, y_train, cv=k, scoring='r2')"
      ],
      "metadata": {
        "id": "vSwDePiZ8S_g"
      },
      "execution_count": 74,
      "outputs": []
    },
    {
      "cell_type": "code",
      "source": [
        "mse_scores = -mse_scores\n",
        "mae_scores = -mae_scores"
      ],
      "metadata": {
        "id": "ZtGC9QtU8WCy"
      },
      "execution_count": 75,
      "outputs": []
    },
    {
      "cell_type": "code",
      "source": [
        "mean_mse = np.mean(mse_scores)\n",
        "mean_mae = np.mean(mae_scores)\n",
        "mean_r2 = np.mean(r2_scores)\n",
        "std_mse = np.std(mse_scores)\n",
        "std_mae = np.std(mae_scores)\n",
        "std_r2 = np.std(r2_scores)"
      ],
      "metadata": {
        "id": "VILxR0TB8iJI"
      },
      "execution_count": 76,
      "outputs": []
    },
    {
      "cell_type": "code",
      "source": [
        "print(\"K-fold Cross-Validation Results:\")\n",
        "print(f\"  Mean Squared Error (MSE): {mean_mse} +/- {std_mse}\")\n",
        "print(f\"  Mean Absolute Error (MAE): {mean_mae} +/- {std_mae}\")\n",
        "print(f\"  R-squared (R2) Score: {mean_r2} +/- {std_r2}\")"
      ],
      "metadata": {
        "colab": {
          "base_uri": "https://localhost:8080/"
        },
        "id": "RV-OJLg58k5E",
        "outputId": "f7c60b8b-8f6f-4131-e852-afce672a464c"
      },
      "execution_count": 77,
      "outputs": [
        {
          "output_type": "stream",
          "name": "stdout",
          "text": [
            "K-fold Cross-Validation Results:\n",
            "  Mean Squared Error (MSE): 38209272384081.24 +/- 7017712370933.483\n",
            "  Mean Absolute Error (MAE): 3622022.1758355484 +/- 124193.53336715144\n",
            "  R-squared (R2) Score: 0.6524214065267538 +/- 0.0662169305273302\n"
          ]
        }
      ]
    },
    {
      "cell_type": "markdown",
      "source": [
        "These results provide estimates of the model's performance along with their uncertainty across different train-test splits of the data. The mean values give an indication of the overall performance, while the standard deviations provide insights into the variability of the performance metrics across folds."
      ],
      "metadata": {
        "id": "WWgmGjAL9lzf"
      }
    },
    {
      "cell_type": "markdown",
      "source": [
        "# Testing on Custom Data from user"
      ],
      "metadata": {
        "id": "22Mo0BFJ-OMV"
      }
    },
    {
      "cell_type": "code",
      "source": [
        "def predict_transfer_fee(model, market_value, team_from, season, age):\n",
        "    input_data = np.array([[market_value, team_from, season, age]])\n",
        "    prediction = model.predict(input_data)\n",
        "    return prediction"
      ],
      "metadata": {
        "id": "ZnMEPWX0-TXU"
      },
      "execution_count": 79,
      "outputs": []
    },
    {
      "cell_type": "code",
      "source": [
        "import warnings\n",
        "def predict_transfer_fee(model, market_value, team_from, season, age):\n",
        "    input_data = np.array([[market_value, team_from, season, age]])\n",
        "    with warnings.catch_warnings():\n",
        "        warnings.simplefilter(\"ignore\")\n",
        "        prediction = model.predict(input_data)\n",
        "    return prediction"
      ],
      "metadata": {
        "id": "7lwzKjki-YRe"
      },
      "execution_count": 84,
      "outputs": []
    },
    {
      "cell_type": "code",
      "source": [
        "market_value = float(input(\"Enter Market Value: \"))\n",
        "team_from = input(\"Enter Team From: \")\n",
        "season = int(input(\"Enter Season: \"))\n",
        "age = int(input(\"Enter Age: \"))\n",
        "\n",
        "prediction = predict_transfer_fee(MyModel, market_value, team_from, season, age)\n",
        "print(\"Predicted Transfer Fee:\", prediction)"
      ],
      "metadata": {
        "colab": {
          "base_uri": "https://localhost:8080/"
        },
        "id": "2D6EQ_7e-fDS",
        "outputId": "54660b0d-4e22-47f6-a78f-76a92338112d"
      },
      "execution_count": 92,
      "outputs": [
        {
          "output_type": "stream",
          "name": "stdout",
          "text": [
            "Enter Market Value: 4500000\n",
            "Enter Team From: 52\n",
            "Enter Season: 8\n",
            "Enter Age: 30\n",
            "Predicted Transfer Fee: [5512545.45966625]\n"
          ]
        }
      ]
    },
    {
      "cell_type": "code",
      "source": [
        "market_value = float(input(\"Enter Market Value: \"))\n",
        "team_from = input(\"Enter Team From: \")\n",
        "season = int(input(\"Enter Season: \"))\n",
        "age = int(input(\"Enter Age: \"))\n",
        "\n",
        "prediction = predict_transfer_fee(MyModel, market_value, team_from, season, age)\n",
        "print(\"Predicted Transfer Fee:\", prediction)"
      ],
      "metadata": {
        "colab": {
          "base_uri": "https://localhost:8080/"
        },
        "id": "KjTaYS4SBRm1",
        "outputId": "6c3e62e6-e0c9-493d-c745-991531ba28fd"
      },
      "execution_count": 93,
      "outputs": [
        {
          "output_type": "stream",
          "name": "stdout",
          "text": [
            "Enter Market Value: 7500000\n",
            "Enter Team From: 10\n",
            "Enter Season: 5\n",
            "Enter Age: 34\n",
            "Predicted Transfer Fee: [5462678.62337357]\n"
          ]
        }
      ]
    },
    {
      "cell_type": "code",
      "source": [
        "market_value = float(input(\"Enter Market Value: \"))\n",
        "team_from = input(\"Enter Team From: \")\n",
        "season = int(input(\"Enter Season: \"))\n",
        "age = int(input(\"Enter Age: \"))\n",
        "\n",
        "prediction = predict_transfer_fee(MyModel, market_value, team_from, season, age)\n",
        "print(\"Predicted Transfer Fee:\", prediction)"
      ],
      "metadata": {
        "colab": {
          "base_uri": "https://localhost:8080/"
        },
        "id": "oBAFB3ELDRT6",
        "outputId": "39c2b61d-960a-427d-f997-e9d02f2299f0"
      },
      "execution_count": 97,
      "outputs": [
        {
          "output_type": "stream",
          "name": "stdout",
          "text": [
            "Enter Market Value: 2000000\n",
            "Enter Team From: 9\n",
            "Enter Season: 3\n",
            "Enter Age: 21\n",
            "Predicted Transfer Fee: [4974973.5870953]\n"
          ]
        }
      ]
    },
    {
      "cell_type": "code",
      "source": [],
      "metadata": {
        "id": "Ne7I9voBEv23"
      },
      "execution_count": null,
      "outputs": []
    }
  ]
}