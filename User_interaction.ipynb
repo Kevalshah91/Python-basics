{
 "cells": [
  {
   "cell_type": "code",
   "execution_count": 4,
   "id": "36f95b9a",
   "metadata": {},
   "outputs": [],
   "source": [
    "from IPython.display import clear_output\n",
    "clear_output()\n",
    "\n",
    "def user_choice():\n",
    "    \n",
    "    # This original choice value can be anything that isn't an integer\n",
    "    choice = 'wrong'\n",
    "    \n",
    "    # While the choice is not a digit, keep asking for input.\n",
    "    while choice.isdigit() == False:\n",
    "        \n",
    "        # we shouldn't convert here, otherwise we get an error on a wrong input\n",
    "        choice = input(\"Choose a number: \")\n",
    "        clear_output()\n",
    "        # Error Message Check\n",
    "        if choice.isdigit() == False:\n",
    "            print(\"Sorry, but you did not enter an integer. Please try again.\")\n",
    "    \n",
    "    # We can convert once the while loop above has confirmed we have a digit.\n",
    "    return int(choice)\n"
   ]
  },
  {
   "cell_type": "code",
   "execution_count": 5,
   "id": "8d9b391b",
   "metadata": {},
   "outputs": [
    {
     "data": {
      "text/plain": [
       "3"
      ]
     },
     "execution_count": 5,
     "metadata": {},
     "output_type": "execute_result"
    }
   ],
   "source": [
    "user_choice()"
   ]
  },
  {
   "cell_type": "code",
   "execution_count": 6,
   "id": "b10821dd",
   "metadata": {},
   "outputs": [],
   "source": [
    "#making user interactive code "
   ]
  },
  {
   "cell_type": "code",
   "execution_count": 7,
   "id": "6cdcc161",
   "metadata": {},
   "outputs": [],
   "source": [
    "game_list = [0,1,2,3,4]"
   ]
  },
  {
   "cell_type": "code",
   "execution_count": 8,
   "id": "213e20b8",
   "metadata": {},
   "outputs": [],
   "source": [
    "def display_game(game_list):\n",
    "    print(\"The current list is : \",game_list)\n"
   ]
  },
  {
   "cell_type": "code",
   "execution_count": 9,
   "id": "46ca38a5",
   "metadata": {},
   "outputs": [
    {
     "name": "stdout",
     "output_type": "stream",
     "text": [
      "The current list is :  [0, 1, 2, 3, 4]\n"
     ]
    }
   ],
   "source": [
    "display_game(game_list)\n"
   ]
  },
  {
   "cell_type": "code",
   "execution_count": 10,
   "id": "f8e08761",
   "metadata": {},
   "outputs": [],
   "source": [
    "# Now lets give the user position choice\n",
    "def position_choice():\n",
    "    choice = 'wrong'\n",
    "    while choice not in [0,1,2,3,4]:\n",
    "        choice = input(\"Pick a position to replace : [0, 1, 2, 3, 4]\")\n",
    "        if choice not in [0, 1, 2, 3, 4]:\n",
    "            print(\"Please choose from the above list to proceed\")\n",
    "    return int(choice)\n",
    "            \n",
    "        \n",
    "    "
   ]
  },
  {
   "cell_type": "code",
   "execution_count": 11,
   "id": "b6faf834",
   "metadata": {},
   "outputs": [],
   "source": [
    "def user_replacement(game_list,position):\n",
    "    user_placement = input(\"type a string to replace at the position\")\n",
    "    game_list[position] = user_placement\n",
    "    return game_list"
   ]
  },
  {
   "cell_type": "code",
   "execution_count": 12,
   "id": "da0c6802",
   "metadata": {},
   "outputs": [
    {
     "ename": "SyntaxError",
     "evalue": "invalid syntax. Maybe you meant '==' or ':=' instead of '='? (986083796.py, line 8)",
     "output_type": "error",
     "traceback": [
      "\u001b[1;36m  Cell \u001b[1;32mIn[12], line 8\u001b[1;36m\u001b[0m\n\u001b[1;33m    if choice = 'Y':\u001b[0m\n\u001b[1;37m       ^\u001b[0m\n\u001b[1;31mSyntaxError\u001b[0m\u001b[1;31m:\u001b[0m invalid syntax. Maybe you meant '==' or ':=' instead of '='?\n"
     ]
    }
   ],
   "source": [
    "def gameon_choice():\n",
    "    choice = 'wrong'\n",
    "    while choice not in ['Y','N']:\n",
    "        choice = input(\"Choose 'Y' to continue or 'N' to stop\")\n",
    "        if choice not in ['Y','N']:\n",
    "            print(\"Its not a valid choice !\")\n",
    "            \n",
    "    if choice = 'Y':\n",
    "        return True\n",
    "    if choice = 'N':\n",
    "        return False"
   ]
  },
  {
   "cell_type": "code",
   "execution_count": null,
   "id": "b139807a",
   "metadata": {},
   "outputs": [
    {
     "name": "stdout",
     "output_type": "stream",
     "text": [
      "The current list is :  [0, 1, 2, 3, 4]\n",
      "Pick a position to replace : [0, 1, 2, 3, 4]3\n",
      "Please choose from the above list to proceed\n",
      "Pick a position to replace : [0, 1, 2, 3, 4]2\n",
      "Please choose from the above list to proceed\n",
      "Pick a position to replace : [0, 1, 2, 3, 4]0\n",
      "Please choose from the above list to proceed\n",
      "Pick a position to replace : [0, 1, 2, 3, 4]1\n",
      "Please choose from the above list to proceed\n",
      "Pick a position to replace : [0, 1, 2, 3, 4]3\n",
      "Please choose from the above list to proceed\n",
      "Pick a position to replace : [0, 1, 2, 3, 4]5\n",
      "Please choose from the above list to proceed\n",
      "Pick a position to replace : [0, 1, 2, 3, 4]4\n",
      "Please choose from the above list to proceed\n",
      "Pick a position to replace : [0, 1, 2, 3, 4]3\n",
      "Please choose from the above list to proceed\n",
      "Pick a position to replace : [0, 1, 2, 3, 4]0\n",
      "Please choose from the above list to proceed\n",
      "Pick a position to replace : [0, 1, 2, 3, 4]1\n",
      "Please choose from the above list to proceed\n",
      "Pick a position to replace : [0, 1, 2, 3, 4]4\n",
      "Please choose from the above list to proceed\n",
      "Pick a position to replace : [0, 1, 2, 3, 4]3\n",
      "Please choose from the above list to proceed\n"
     ]
    }
   ],
   "source": [
    "game_on = True\n",
    "\n",
    "game_list = [0,1,2,3,4]\n",
    "\n",
    "while game_on:\n",
    "    clear_output()\n",
    "    display_game(game_list)\n",
    "    \n",
    "    position = position_choice()\n",
    "    \n",
    "    game_list = replacement_choice(game_list,position)\n",
    "    \n",
    "    clear_output()\n",
    "    display_game(game_list)\n",
    "    \n",
    "    game_on = gameon_choice()"
   ]
  },
  {
   "cell_type": "code",
   "execution_count": null,
   "id": "005217d0",
   "metadata": {},
   "outputs": [],
   "source": []
  }
 ],
 "metadata": {
  "kernelspec": {
   "display_name": "Python 3 (ipykernel)",
   "language": "python",
   "name": "python3"
  },
  "language_info": {
   "codemirror_mode": {
    "name": "ipython",
    "version": 3
   },
   "file_extension": ".py",
   "mimetype": "text/x-python",
   "name": "python",
   "nbconvert_exporter": "python",
   "pygments_lexer": "ipython3",
   "version": "3.10.9"
  }
 },
 "nbformat": 4,
 "nbformat_minor": 5
}
