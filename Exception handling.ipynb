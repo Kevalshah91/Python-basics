{
 "cells": [
  {
   "cell_type": "code",
   "execution_count": 8,
   "id": "8a4a79a7",
   "metadata": {},
   "outputs": [
    {
     "name": "stdout",
     "output_type": "stream",
     "text": [
      "Exception : division by zero\n"
     ]
    }
   ],
   "source": [
    "try:\n",
    "    summation = 10/0\n",
    "except Exception as e:\n",
    "    print(f\"Exception : {e}\")"
   ]
  },
  {
   "cell_type": "code",
   "execution_count": 2,
   "id": "42b2a51e",
   "metadata": {},
   "outputs": [
    {
     "data": {
      "text/plain": [
       "20"
      ]
     },
     "execution_count": 2,
     "metadata": {},
     "output_type": "execute_result"
    }
   ],
   "source": [
    "summation"
   ]
  },
  {
   "cell_type": "code",
   "execution_count": 10,
   "id": "e1ddea81",
   "metadata": {},
   "outputs": [
    {
     "name": "stdout",
     "output_type": "stream",
     "text": [
      "Exception : unsupported operand type(s) for +: 'int' and 'str'\n",
      "The content in fianally block\n"
     ]
    }
   ],
   "source": [
    "try:\n",
    "    summation = 10 + 'keval'\n",
    "except Exception as e:\n",
    "    print(f\"Exception : {e}\")\n",
    "finally:\n",
    "    print(\"The content in fianally block\")"
   ]
  },
  {
   "cell_type": "code",
   "execution_count": 11,
   "id": "82e78101",
   "metadata": {},
   "outputs": [],
   "source": [
    "def askint():\n",
    "    while True:\n",
    "        try:\n",
    "            val = int(input(\"Please enter an integer: \"))\n",
    "        except:\n",
    "            print(\"Looks like you did not enter an integer!\")\n",
    "            continue\n",
    "        else:\n",
    "            print(\"Yep that's an integer!\")\n",
    "            break\n",
    "        finally:\n",
    "            print(\"Finally, I executed!\")\n",
    "        print(val)"
   ]
  },
  {
   "cell_type": "code",
   "execution_count": 12,
   "id": "e378efe3",
   "metadata": {},
   "outputs": [
    {
     "name": "stdout",
     "output_type": "stream",
     "text": [
      "Please enter an integer: keval\n",
      "Looks like you did not enter an integer!\n",
      "Finally, I executed!\n",
      "Please enter an integer: shah\n",
      "Looks like you did not enter an integer!\n",
      "Finally, I executed!\n",
      "Please enter an integer: 100\n",
      "Yep that's an integer!\n",
      "Finally, I executed!\n"
     ]
    }
   ],
   "source": [
    "askint()"
   ]
  },
  {
   "cell_type": "code",
   "execution_count": 1,
   "id": "0082a8cf",
   "metadata": {},
   "outputs": [
    {
     "name": "stdout",
     "output_type": "stream",
     "text": [
      "100\n"
     ]
    }
   ],
   "source": [
    "abc = ['a', 'b', 10]\n",
    "\n",
    "try:\n",
    "    for i in abc:\n",
    "        if isinstance(i, (int, float)):\n",
    "            print(i**2)\n",
    "except Exception as e:\n",
    "    print(f\"Exception: {e}\")\n"
   ]
  },
  {
   "cell_type": "code",
   "execution_count": 5,
   "id": "951b8fd2",
   "metadata": {},
   "outputs": [
    {
     "name": "stdout",
     "output_type": "stream",
     "text": [
      "Exception: Non-numeric value: a\n",
      "Exception: Non-numeric value: b\n",
      "100\n"
     ]
    }
   ],
   "source": [
    "abc = ['a', 'b', 10]\n",
    "try:\n",
    "    for i in abc:\n",
    "        try:\n",
    "            if isinstance(i, (int, float)):\n",
    "                print(i**2)\n",
    "            else:\n",
    "                raise ValueError(f\"Non-numeric value: {i}\")\n",
    "        except Exception as e:\n",
    "            print(f\"Exception: {e}\")\n",
    "except Exception as e:\n",
    "    print(f\"Outer Exception: {e}\")"
   ]
  },
  {
   "cell_type": "code",
   "execution_count": 12,
   "id": "92afcd2b",
   "metadata": {},
   "outputs": [],
   "source": [
    "def divide(a,b):\n",
    "    try:\n",
    "        c = a/b\n",
    "        print(c)\n",
    "    except Exception as e:\n",
    "        print(f\"Exception : {e}\")\n",
    "    finally:\n",
    "        print(\"All Done\")"
   ]
  },
  {
   "cell_type": "code",
   "execution_count": 13,
   "id": "2b63f947",
   "metadata": {},
   "outputs": [
    {
     "name": "stdout",
     "output_type": "stream",
     "text": [
      "5.0\n",
      "All Done\n"
     ]
    }
   ],
   "source": [
    "divide(10,2)"
   ]
  },
  {
   "cell_type": "code",
   "execution_count": 15,
   "id": "0d301f9d",
   "metadata": {},
   "outputs": [
    {
     "name": "stdout",
     "output_type": "stream",
     "text": [
      "Exception : unsupported operand type(s) for /: 'str' and 'int'\n",
      "All Done\n"
     ]
    }
   ],
   "source": [
    "divide('keval',2)"
   ]
  },
  {
   "cell_type": "code",
   "execution_count": 16,
   "id": "1e40f37d",
   "metadata": {},
   "outputs": [
    {
     "name": "stdout",
     "output_type": "stream",
     "text": [
      "Exception : division by zero\n",
      "All Done\n"
     ]
    }
   ],
   "source": [
    "divide(1,0)"
   ]
  },
  {
   "cell_type": "markdown",
   "id": "0181bed4",
   "metadata": {},
   "source": [
    "Write a function that asks for an integer and prints the square of it. Use a while loop with a try, except, else block to account for incorrect inputs."
   ]
  },
  {
   "cell_type": "code",
   "execution_count": 10,
   "id": "719e6161",
   "metadata": {},
   "outputs": [],
   "source": [
    "def square():\n",
    "    while True:\n",
    "        \n",
    "        try:\n",
    "            a = int(input(\"Input a number : \"))\n",
    "            print(f\"Square of {a} is {a**2}\")\n",
    "            break\n",
    "        except Exception as e:\n",
    "            print(f\"Exception : {e}\")\n"
   ]
  },
  {
   "cell_type": "code",
   "execution_count": 11,
   "id": "d735c3be",
   "metadata": {},
   "outputs": [
    {
     "name": "stdout",
     "output_type": "stream",
     "text": [
      "Input a number : 23\n",
      "Square of 23 is 529\n"
     ]
    }
   ],
   "source": [
    "square()"
   ]
  },
  {
   "cell_type": "code",
   "execution_count": 12,
   "id": "445073a5",
   "metadata": {},
   "outputs": [
    {
     "name": "stdout",
     "output_type": "stream",
     "text": [
      "Input a number : jdxcv\n",
      "Exception : invalid literal for int() with base 10: 'jdxcv'\n",
      "Input a number : jsbd\n",
      "Exception : invalid literal for int() with base 10: 'jsbd'\n",
      "Input a number : vjk\n",
      "Exception : invalid literal for int() with base 10: 'vjk'\n",
      "Input a number : 55\n",
      "Square of 55 is 3025\n"
     ]
    }
   ],
   "source": [
    "square()"
   ]
  },
  {
   "cell_type": "markdown",
   "id": "caaee8db",
   "metadata": {},
   "source": [
    "Make your exception class “Invalid Marks” which is thrown when marks obtained by student exceeds 100"
   ]
  },
  {
   "cell_type": "code",
   "execution_count": 14,
   "id": "9b928031",
   "metadata": {},
   "outputs": [
    {
     "name": "stdout",
     "output_type": "stream",
     "text": [
      "The student's grade is A+\n"
     ]
    }
   ],
   "source": [
    "class InvalidMarks(Exception):\n",
    "    def __init__(self, message=\"Marks obtained cannot exceed 100\"):\n",
    "        super().__init__(message)\n",
    "\n",
    "def calculate_grade(marks):\n",
    "    try:\n",
    "        if marks > 100:\n",
    "            raise InvalidMarks()\n",
    "        elif marks >= 90:\n",
    "            return 'A+'\n",
    "        elif marks >= 80:\n",
    "            return 'A'\n",
    "        elif marks >= 70:\n",
    "            return 'B'\n",
    "        elif marks >= 60:\n",
    "            return 'C'\n",
    "        elif marks >= 50:\n",
    "            return 'D'\n",
    "        else:\n",
    "            return 'F'\n",
    "    except InvalidMarks as e:\n",
    "        print(f\"Error: {e}\")\n",
    "        return None\n",
    "\n",
    "# Example usage:\n",
    "marks = 100\n",
    "\n",
    "if grade is not None:\n",
    "    print(f\"The student's grade is {grade}\")\n"
   ]
  },
  {
   "cell_type": "code",
   "execution_count": 15,
   "id": "16b1eeeb",
   "metadata": {},
   "outputs": [],
   "source": [
    "class InvalidMarks(Exception):\n",
    "    def __init__(self,marks):\n",
    "        try:\n",
    "            a = int(input(\"Input a marks : \"))\n",
    "            if marks > 100 or marks < 0:\n",
    "                raise InvalidMarks()\n",
    "            else:\n",
    "                print(f\"Marks : {a} is VALID\")\n",
    "\n",
    "        except InvalidMarks as e:\n",
    "            print(f\"Error: {e}\")\n",
    "        "
   ]
  },
  {
   "cell_type": "code",
   "execution_count": 16,
   "id": "db0436cb",
   "metadata": {},
   "outputs": [
    {
     "name": "stdout",
     "output_type": "stream",
     "text": [
      "Input a marks : 20\n",
      "Marks : 20 is VALID\n"
     ]
    },
    {
     "data": {
      "text/plain": [
       "__main__.InvalidMarks(20)"
      ]
     },
     "execution_count": 16,
     "metadata": {},
     "output_type": "execute_result"
    }
   ],
   "source": [
    "InvalidMarks(20)"
   ]
  },
  {
   "cell_type": "code",
   "execution_count": 17,
   "id": "67fd0f71",
   "metadata": {},
   "outputs": [
    {
     "name": "stdout",
     "output_type": "stream",
     "text": [
      "Input a marks : 101\n"
     ]
    },
    {
     "ename": "TypeError",
     "evalue": "InvalidMarks.__init__() missing 1 required positional argument: 'marks'",
     "output_type": "error",
     "traceback": [
      "\u001b[1;31m---------------------------------------------------------------------------\u001b[0m",
      "\u001b[1;31mTypeError\u001b[0m                                 Traceback (most recent call last)",
      "Cell \u001b[1;32mIn[17], line 1\u001b[0m\n\u001b[1;32m----> 1\u001b[0m \u001b[43mInvalidMarks\u001b[49m\u001b[43m(\u001b[49m\u001b[38;5;241;43m101\u001b[39;49m\u001b[43m)\u001b[49m\n",
      "Cell \u001b[1;32mIn[15], line 6\u001b[0m, in \u001b[0;36mInvalidMarks.__init__\u001b[1;34m(self, marks)\u001b[0m\n\u001b[0;32m      4\u001b[0m a \u001b[38;5;241m=\u001b[39m \u001b[38;5;28mint\u001b[39m(\u001b[38;5;28minput\u001b[39m(\u001b[38;5;124m\"\u001b[39m\u001b[38;5;124mInput a marks : \u001b[39m\u001b[38;5;124m\"\u001b[39m))\n\u001b[0;32m      5\u001b[0m \u001b[38;5;28;01mif\u001b[39;00m marks \u001b[38;5;241m>\u001b[39m \u001b[38;5;241m100\u001b[39m \u001b[38;5;129;01mor\u001b[39;00m marks \u001b[38;5;241m<\u001b[39m \u001b[38;5;241m0\u001b[39m:\n\u001b[1;32m----> 6\u001b[0m     \u001b[38;5;28;01mraise\u001b[39;00m \u001b[43mInvalidMarks\u001b[49m\u001b[43m(\u001b[49m\u001b[43m)\u001b[49m\n\u001b[0;32m      7\u001b[0m \u001b[38;5;28;01melse\u001b[39;00m:\n\u001b[0;32m      8\u001b[0m     \u001b[38;5;28mprint\u001b[39m(\u001b[38;5;124mf\u001b[39m\u001b[38;5;124m\"\u001b[39m\u001b[38;5;124mMarks : \u001b[39m\u001b[38;5;132;01m{\u001b[39;00ma\u001b[38;5;132;01m}\u001b[39;00m\u001b[38;5;124m is VALID\u001b[39m\u001b[38;5;124m\"\u001b[39m)\n",
      "\u001b[1;31mTypeError\u001b[0m: InvalidMarks.__init__() missing 1 required positional argument: 'marks'"
     ]
    }
   ],
   "source": [
    "InvalidMarks(101)"
   ]
  },
  {
   "cell_type": "code",
   "execution_count": 19,
   "id": "f9bfe225",
   "metadata": {},
   "outputs": [
    {
     "name": "stdout",
     "output_type": "stream",
     "text": [
      "Input marks: 101\n",
      "Error: Invalid Marks !!\n",
      "Input marks: 102\n",
      "Error: Invalid Marks !!\n",
      "Input marks: 99\n",
      "Marks: 99 is VALID\n"
     ]
    },
    {
     "data": {
      "text/plain": [
       "99"
      ]
     },
     "execution_count": 19,
     "metadata": {},
     "output_type": "execute_result"
    }
   ],
   "source": [
    "class InvalidMarks(Exception):\n",
    "    pass\n",
    "\n",
    "def get_valid_marks():\n",
    "    while True:\n",
    "        try:\n",
    "            marks = int(input(\"Input marks: \"))\n",
    "            if marks < 0 or marks > 100:\n",
    "                raise InvalidMarks(\"Invalid Marks !!\")\n",
    "            else:\n",
    "                print(f\"Marks: {marks} is VALID\")\n",
    "                return marks\n",
    "        except ValueError:\n",
    "            print(\"Invalid input. Please enter a valid number.\")\n",
    "        except InvalidMarks as e:\n",
    "            print(f\"Error: {e}\")\n",
    "\n",
    "get_valid_marks()\n"
   ]
  },
  {
   "cell_type": "markdown",
   "id": "ae2dbca6",
   "metadata": {},
   "source": [
    "WAP that accepts the values of a, b, c and d. Calculate and display ((a + d) + (b*c))/(b*d). "
   ]
  },
  {
   "cell_type": "code",
   "execution_count": 24,
   "id": "d8404797",
   "metadata": {},
   "outputs": [
    {
     "name": "stdout",
     "output_type": "stream",
     "text": [
      "Enter value of a : 40\n",
      "Enter value of b : 50\n",
      "Enter value of c : 60\n",
      "Enter value of d : 10\n",
      "result :  6.1\n"
     ]
    }
   ],
   "source": [
    "def exp():\n",
    "    a = int(input(\"Enter value of a : \"))\n",
    "    b = int(input(\"Enter value of b : \"))\n",
    "    c = int(input(\"Enter value of c : \"))\n",
    "    d = int(input(\"Enter value of d : \"))\n",
    "    try:\n",
    "        result = ((a+d) + (b*c)) / (b*d)\n",
    "        print(\"result : \",result)\n",
    "    except Exception as e:\n",
    "        print(f\"Exception : {e}\")\n",
    "\n",
    "exp()"
   ]
  },
  {
   "cell_type": "code",
   "execution_count": 26,
   "id": "4bdbc055",
   "metadata": {},
   "outputs": [
    {
     "name": "stdout",
     "output_type": "stream",
     "text": [
      "Enter value of a : 11\n",
      "Enter value of b : 0\n",
      "Enter value of c : 20\n",
      "Enter value of d : 45\n",
      "Exception : division by zero\n"
     ]
    }
   ],
   "source": [
    "exp()"
   ]
  },
  {
   "cell_type": "markdown",
   "id": "cd6e6679",
   "metadata": {},
   "source": [
    "Make use of assert statement to catch Assertion Error "
   ]
  },
  {
   "cell_type": "code",
   "execution_count": 4,
   "id": "6898b12b",
   "metadata": {},
   "outputs": [
    {
     "name": "stdout",
     "output_type": "stream",
     "text": [
      "Assertion Error: Division by zero is not allowed.\n"
     ]
    }
   ],
   "source": [
    "def divide(a, b):\n",
    "    assert b != 0, \"Division by zero is not allowed.\"\n",
    "    return a / b\n",
    "\n",
    "numerator=2\n",
    "denominator=0\n",
    "try:\n",
    "    result = divide(numerator, denominator)\n",
    "    print(f\"Result of division: {result}\")\n",
    "except AssertionError as e:\n",
    "    print(f\"Assertion Error: {e}\")\n"
   ]
  },
  {
   "cell_type": "code",
   "execution_count": 5,
   "id": "75b681af",
   "metadata": {},
   "outputs": [],
   "source": [
    "import numpy as np"
   ]
  },
  {
   "cell_type": "code",
   "execution_count": 8,
   "id": "c9dc724d",
   "metadata": {},
   "outputs": [
    {
     "data": {
      "text/plain": [
       "array([1., 1., 1., 1., 1.])"
      ]
     },
     "execution_count": 8,
     "metadata": {},
     "output_type": "execute_result"
    }
   ],
   "source": [
    "# Create a NumPy array filled with all ones\n",
    "x = np.ones(5)\n",
    "x"
   ]
  },
  {
   "cell_type": "code",
   "execution_count": null,
   "id": "78b6857d",
   "metadata": {},
   "outputs": [],
   "source": []
  }
 ],
 "metadata": {
  "kernelspec": {
   "display_name": "Python 3 (ipykernel)",
   "language": "python",
   "name": "python3"
  },
  "language_info": {
   "codemirror_mode": {
    "name": "ipython",
    "version": 3
   },
   "file_extension": ".py",
   "mimetype": "text/x-python",
   "name": "python",
   "nbconvert_exporter": "python",
   "pygments_lexer": "ipython3",
   "version": "3.10.9"
  }
 },
 "nbformat": 4,
 "nbformat_minor": 5
}
