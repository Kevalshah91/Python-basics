{
 "cells": [
  {
   "cell_type": "code",
   "execution_count": 10,
   "id": "0b64f564",
   "metadata": {},
   "outputs": [
    {
     "name": "stdout",
     "output_type": "stream",
     "text": [
      "Give the radius of the circle : \n",
      "200\n",
      "Radius is :  200.0\n",
      "Area is :  125600.0\n",
      "Circumference is : 1256.0\n"
     ]
    }
   ],
   "source": [
    "class Circle:\n",
    "    pi = 3.14\n",
    "    def __init__(self,radius):\n",
    "        self.radius = radius\n",
    "        self.area = radius*radius*Circle.pi\n",
    "    def setRadius(self,new_radius):\n",
    "        self.radius = new_radius\n",
    "        self.area = new_radius*new_radius*self.pi\n",
    "    def getCircum(self):\n",
    "        return self.radius*2*self.pi\n",
    "\n",
    "print(\"Give the radius of the circle : \")\n",
    "radius = float(input())\n",
    "\n",
    "c = Circle(radius)\n",
    "print('Radius is : ',c.radius)\n",
    "print('Area is : ',c.area)\n",
    "print('Circumference is :',c.getCircum())"
   ]
  },
  {
   "cell_type": "code",
   "execution_count": 12,
   "id": "3b148c27",
   "metadata": {},
   "outputs": [],
   "source": [
    "#next is inheritance and polymorphism"
   ]
  },
  {
   "cell_type": "code",
   "execution_count": 17,
   "id": "378a3207",
   "metadata": {},
   "outputs": [],
   "source": [
    "class Animal():\n",
    "    def __init__(self):\n",
    "        print(\"ANIMAL CREATed\")\n",
    "        \n",
    "    def who_am_i(self):\n",
    "        print(\"i am an animal\")\n",
    "        \n",
    "    def eat(self):\n",
    "        print(\"I am eating\")"
   ]
  },
  {
   "cell_type": "code",
   "execution_count": 18,
   "id": "5b4c0b0b",
   "metadata": {},
   "outputs": [
    {
     "name": "stdout",
     "output_type": "stream",
     "text": [
      "ANIMAL CREATed\n"
     ]
    }
   ],
   "source": [
    "myanimal = Animal()"
   ]
  },
  {
   "cell_type": "code",
   "execution_count": 19,
   "id": "763532c3",
   "metadata": {},
   "outputs": [
    {
     "name": "stdout",
     "output_type": "stream",
     "text": [
      "I am eating\n"
     ]
    }
   ],
   "source": [
    "myanimal.eat()"
   ]
  },
  {
   "cell_type": "code",
   "execution_count": 24,
   "id": "07fd6451",
   "metadata": {},
   "outputs": [],
   "source": [
    "  class Dog(Animal):\n",
    "        def __init__(self):\n",
    "            Animal.__init__(self)\n",
    "            print(\"Dog created\")\n",
    "        def who_am_i(self):\n",
    "            print(\"I am a dog\")"
   ]
  },
  {
   "cell_type": "code",
   "execution_count": 25,
   "id": "127e95c1",
   "metadata": {},
   "outputs": [
    {
     "name": "stdout",
     "output_type": "stream",
     "text": [
      "ANIMAL CREATed\n",
      "Dog created\n"
     ]
    }
   ],
   "source": [
    "mydog = Dog()"
   ]
  },
  {
   "cell_type": "code",
   "execution_count": 26,
   "id": "64bd3bb5",
   "metadata": {},
   "outputs": [
    {
     "name": "stdout",
     "output_type": "stream",
     "text": [
      "I am a dog\n"
     ]
    }
   ],
   "source": [
    "mydog.who_am_i()"
   ]
  },
  {
   "cell_type": "code",
   "execution_count": 1,
   "id": "c3b0e401",
   "metadata": {},
   "outputs": [
    {
     "name": "stdout",
     "output_type": "stream",
     "text": [
      "Spike says Woof!\n",
      "Tom says Meow!\n"
     ]
    }
   ],
   "source": [
    "## starting with polymorphism\n",
    "class Dog:\n",
    "    def __init__(self, name):\n",
    "        self.name = name\n",
    "\n",
    "    def speak(self):\n",
    "        return self.name+' says Woof!'\n",
    "    \n",
    "class Cat:\n",
    "    def __init__(self, name):\n",
    "        self.name = name\n",
    "\n",
    "    def speak(self):\n",
    "        return self.name+' says Meow!' \n",
    "    \n",
    "spike = Dog('Spike')\n",
    "tom = Cat('Tom')\n",
    "\n",
    "print(spike.speak())\n",
    "print(tom.speak())"
   ]
  },
  {
   "cell_type": "code",
   "execution_count": 3,
   "id": "b69f33c7",
   "metadata": {},
   "outputs": [
    {
     "name": "stdout",
     "output_type": "stream",
     "text": [
      "Spike says Woof!\n",
      "Tom says Meow!\n"
     ]
    }
   ],
   "source": [
    "for pet in [spike,tom]:\n",
    "    print(pet.speak())"
   ]
  },
  {
   "cell_type": "code",
   "execution_count": 5,
   "id": "d6027fbd",
   "metadata": {},
   "outputs": [
    {
     "name": "stdout",
     "output_type": "stream",
     "text": [
      "Fido says Woof!\n",
      "Isis says Meow!\n"
     ]
    }
   ],
   "source": [
    "class Animal:\n",
    "    def __init__(self, name):    # Constructor of the class\n",
    "        self.name = name\n",
    "\n",
    "    def speak(self):              # Abstract method, defined by convention only\n",
    "        raise NotImplementedError(\"Subclass must implement abstract method\")\n",
    "class Dog(Animal):\n",
    "    \n",
    "    def speak(self):\n",
    "        return self.name+' says Woof!'\n",
    "    \n",
    "class Cat(Animal):\n",
    "\n",
    "    def speak(self):\n",
    "        return self.name+' says Meow!'\n",
    "    \n",
    "fido = Dog('Fido')\n",
    "isis = Cat('Isis')\n",
    "\n",
    "print(fido.speak())\n",
    "print(isis.speak())"
   ]
  },
  {
   "cell_type": "markdown",
   "id": "63401737",
   "metadata": {},
   "source": [
    "# Use of special functions in python"
   ]
  },
  {
   "cell_type": "code",
   "execution_count": 15,
   "id": "0272253b",
   "metadata": {},
   "outputs": [],
   "source": [
    "class Book():\n",
    "    def __init__(self,title,author,pages):\n",
    "        self.title = title\n",
    "        self.author = author\n",
    "        self.pages = pages\n",
    "    \n",
    "    def __str__(self):\n",
    "        return \"Title: %s\\n Author: %s\\n Pages: %s\" %(self.title,self.author,self.pages)\n",
    "    \n",
    "    def __len__(self):\n",
    "        return self.pages\n",
    "    \n",
    "    def __del__(self):\n",
    "        print(\"A book is destroyed !\")"
   ]
  },
  {
   "cell_type": "code",
   "execution_count": 16,
   "id": "a51333d3",
   "metadata": {},
   "outputs": [
    {
     "name": "stdout",
     "output_type": "stream",
     "text": [
      "Title: Ram\n",
      " Author: Amish\n",
      " Pages: 180\n",
      "180\n",
      "A book is destroyed !\n"
     ]
    }
   ],
   "source": [
    "book = Book('Ram','Amish',180)\n",
    "print(book)\n",
    "print(len(book))\n",
    "del book"
   ]
  },
  {
   "cell_type": "markdown",
   "id": "04e8bc80",
   "metadata": {},
   "source": [
    "problems "
   ]
  },
  {
   "cell_type": "markdown",
   "id": "e6739f24",
   "metadata": {},
   "source": [
    "Fill in the Line class methods to accept coordinates as a pair of tuples and return the slope and distance of the line."
   ]
  },
  {
   "cell_type": "code",
   "execution_count": 18,
   "id": "be79486d",
   "metadata": {},
   "outputs": [
    {
     "name": "stdout",
     "output_type": "stream",
     "text": [
      "Enter a tuple (e.g., 1, 2, 3): 1,2\n",
      "Input tuple: (1, 2)\n"
     ]
    }
   ],
   "source": [
    "def input_tuple():\n",
    "    while True:\n",
    "        try:\n",
    "            values = input(\"Enter a tuple (e.g., 1, 2, 3): \")\n",
    "            input_tuple = tuple(map(int, values.split(',')))\n",
    "            return input_tuple\n",
    "        except ValueError:\n",
    "            print(\"Invalid input. Please enter valid values separated by commas.\")\n",
    "\n",
    "user_input = input_tuple()\n",
    "print(\"Input tuple:\", user_input)\n",
    "\n"
   ]
  },
  {
   "cell_type": "code",
   "execution_count": 28,
   "id": "3fbb8850",
   "metadata": {},
   "outputs": [],
   "source": [
    "class Line:\n",
    "    \n",
    "    def __init__(self,coor1,coor2):\n",
    "        self.coor1 = coor1\n",
    "        self.coor2 = coor2\n",
    "    \n",
    "    def distance(self):\n",
    "        x1,y1 = self.coor1\n",
    "        x2,y2 = self.coor2\n",
    "        dist = ((y2-y1)**2+(x2-x1)**2)**0.5\n",
    "        print(\"Distance is : \",dist)\n",
    "    \n",
    "    def slope(self):\n",
    "        x1,y1 = self.coor1\n",
    "        x2,y2 = self.coor2\n",
    "        slope = (y2-y1)/(x2-x1)\n",
    "        print(\"Slope is : \",slope)"
   ]
  },
  {
   "cell_type": "code",
   "execution_count": 29,
   "id": "96f236ee",
   "metadata": {},
   "outputs": [
    {
     "name": "stdout",
     "output_type": "stream",
     "text": [
      "Slope is :  1.6\n"
     ]
    }
   ],
   "source": [
    "coordinate1 = (3,2)\n",
    "coordinate2 = (8,10)\n",
    "\n",
    "li = Line(coordinate1,coordinate2)\n",
    "li.slope()"
   ]
  },
  {
   "cell_type": "code",
   "execution_count": 30,
   "id": "55bcfcb4",
   "metadata": {},
   "outputs": [
    {
     "name": "stdout",
     "output_type": "stream",
     "text": [
      "Distance is :  9.433981132056603\n"
     ]
    }
   ],
   "source": [
    "li.distance()"
   ]
  },
  {
   "cell_type": "code",
   "execution_count": 49,
   "id": "1b441321",
   "metadata": {},
   "outputs": [],
   "source": [
    "class Cylinder:\n",
    "    \n",
    "    def __init__(self,height=1,radius=1):\n",
    "        self.height = height\n",
    "        self.radius = radius\n",
    "        \n",
    "    def volume(self):\n",
    "        volume = 3.14*(self.radius)**2*self.height\n",
    "        print(\"Volume is : \",volume)\n",
    "    \n",
    "    def surface_area(self):\n",
    "        s_area = 3.14*self.radius*self.height*(self.radius+self.height)\n",
    "        print(\"Surface Area is : \",s_area)"
   ]
  },
  {
   "cell_type": "code",
   "execution_count": 50,
   "id": "372cd574",
   "metadata": {},
   "outputs": [],
   "source": [
    "c = Cylinder(2,3)"
   ]
  },
  {
   "cell_type": "code",
   "execution_count": 51,
   "id": "ed2b619e",
   "metadata": {},
   "outputs": [
    {
     "name": "stdout",
     "output_type": "stream",
     "text": [
      "Volume is :  56.52\n"
     ]
    }
   ],
   "source": [
    "c.volume()"
   ]
  },
  {
   "cell_type": "code",
   "execution_count": 52,
   "id": "29e1526b",
   "metadata": {},
   "outputs": [
    {
     "name": "stdout",
     "output_type": "stream",
     "text": [
      "Surface Area is :  94.2\n"
     ]
    }
   ],
   "source": [
    "c.surface_area()"
   ]
  },
  {
   "cell_type": "markdown",
   "id": "85de2094",
   "metadata": {},
   "source": [
    "For this challenge, create a bank account class that has two attributes:\n",
    "\n",
    "owner\n",
    "balance\n",
    "and two methods:\n",
    "\n",
    "deposit\n",
    "withdraw\n",
    "As an added requirement, withdrawals may not exceed the available balance.\n",
    "\n",
    "Instantiate your class, make several deposits and withdrawals, and test to make sure the account can't be overdrawn."
   ]
  },
  {
   "cell_type": "code",
   "execution_count": 97,
   "id": "e646b75f",
   "metadata": {},
   "outputs": [],
   "source": [
    "class Account:\n",
    "    def __init__(self,owner,balance):\n",
    "        self.owner = owner \n",
    "        self.balance = balance\n",
    "        \n",
    "    def __str__(self):\n",
    "        return f'Account Owner : {self.owner}\\n Balance : ${self.balance}'\n",
    "        \n",
    "    def deposit(self,dep_amt):\n",
    "        self.balance += dep_amt\n",
    "        print('Deposit Accepted')\n",
    "        self.show_bal()\n",
    "        \n",
    "    def withdraw(self,wit_amt):\n",
    "        if self.balance > wit_amt:\n",
    "            self.balance -= wit_amt\n",
    "            print('Withdrawl Accepted')\n",
    "            self.show_bal()\n",
    "        else:    \n",
    "            print('Withdrawl not possible')\n",
    "            self.show_bal()\n",
    "            \n",
    "    def show_bal(self):\n",
    "        print(f\"Available balance : $\",{self.balance} )\n",
    "            "
   ]
  },
  {
   "cell_type": "code",
   "execution_count": 91,
   "id": "ece7d0ae",
   "metadata": {},
   "outputs": [],
   "source": [
    "acct1 = Account('Keval',100)"
   ]
  },
  {
   "cell_type": "code",
   "execution_count": 92,
   "id": "a48baee0",
   "metadata": {},
   "outputs": [
    {
     "name": "stdout",
     "output_type": "stream",
     "text": [
      "Account Owner : Keval\n",
      " Balance : $100\n"
     ]
    }
   ],
   "source": [
    "print(acct1)"
   ]
  },
  {
   "cell_type": "code",
   "execution_count": 69,
   "id": "619b8e70",
   "metadata": {},
   "outputs": [
    {
     "data": {
      "text/plain": [
       "'Keval'"
      ]
     },
     "execution_count": 69,
     "metadata": {},
     "output_type": "execute_result"
    }
   ],
   "source": [
    "acct1.owner"
   ]
  },
  {
   "cell_type": "code",
   "execution_count": 81,
   "id": "27359331",
   "metadata": {},
   "outputs": [
    {
     "name": "stdout",
     "output_type": "stream",
     "text": [
      "Deposit Accepted\n"
     ]
    }
   ],
   "source": [
    "acct1.deposit(100)"
   ]
  },
  {
   "cell_type": "code",
   "execution_count": 94,
   "id": "c1ebbf19",
   "metadata": {},
   "outputs": [
    {
     "name": "stdout",
     "output_type": "stream",
     "text": [
      "Available balance : $ {100}\n"
     ]
    }
   ],
   "source": [
    "acct1.show_bal()"
   ]
  },
  {
   "cell_type": "code",
   "execution_count": 95,
   "id": "d4cc71e5",
   "metadata": {},
   "outputs": [
    {
     "name": "stdout",
     "output_type": "stream",
     "text": [
      "Deposit Accepted\n",
      "Available balance : $ {300}\n"
     ]
    }
   ],
   "source": [
    "acct1.deposit(200)"
   ]
  },
  {
   "cell_type": "code",
   "execution_count": 99,
   "id": "736c48ee",
   "metadata": {},
   "outputs": [
    {
     "name": "stdout",
     "output_type": "stream",
     "text": [
      "Withdrawl not possible\n"
     ]
    }
   ],
   "source": [
    "#acct1.withdraw(200)"
   ]
  },
  {
   "cell_type": "code",
   "execution_count": 100,
   "id": "c20e8204",
   "metadata": {},
   "outputs": [
    {
     "name": "stdout",
     "output_type": "stream",
     "text": [
      "Available balance : $ {100}\n"
     ]
    }
   ],
   "source": [
    "acct1.show_bal()"
   ]
  },
  {
   "cell_type": "code",
   "execution_count": 101,
   "id": "a5abb1b0",
   "metadata": {},
   "outputs": [
    {
     "name": "stdout",
     "output_type": "stream",
     "text": [
      "Withdrawl Accepted\n"
     ]
    }
   ],
   "source": [
    "acct1.withdraw(99)"
   ]
  },
  {
   "cell_type": "code",
   "execution_count": 102,
   "id": "daf6e81a",
   "metadata": {},
   "outputs": [
    {
     "name": "stdout",
     "output_type": "stream",
     "text": [
      "Available balance : $ {1}\n"
     ]
    }
   ],
   "source": [
    "acct1.show_bal()"
   ]
  },
  {
   "cell_type": "code",
   "execution_count": 103,
   "id": "30a7a053",
   "metadata": {},
   "outputs": [
    {
     "name": "stdout",
     "output_type": "stream",
     "text": [
      "Withdrawl not possible\n"
     ]
    }
   ],
   "source": [
    "acct1.withdraw(2)"
   ]
  },
  {
   "cell_type": "code",
   "execution_count": 1,
   "id": "1e230773",
   "metadata": {},
   "outputs": [
    {
     "name": "stdout",
     "output_type": "stream",
     "text": [
      "Hello keval\n"
     ]
    }
   ],
   "source": [
    "print(\"Hello keval\")"
   ]
  },
  {
   "cell_type": "code",
   "execution_count": 2,
   "id": "e29155d5",
   "metadata": {},
   "outputs": [
    {
     "name": "stdout",
     "output_type": "stream",
     "text": [
      "2\n"
     ]
    }
   ],
   "source": [
    "x = 1\n",
    "def foo():\n",
    "    x = 2\n",
    "    def bar():\n",
    "        global x\n",
    "        x += 1\n",
    "    bar()\n",
    "    print(x)\n",
    "foo()"
   ]
  },
  {
   "cell_type": "code",
   "execution_count": 3,
   "id": "3c53d807",
   "metadata": {},
   "outputs": [
    {
     "name": "stdout",
     "output_type": "stream",
     "text": [
      "6\n"
     ]
    }
   ],
   "source": [
    "def foo(x):\n",
    "    if x == 0:\n",
    "        return 0\n",
    "    else:\n",
    "        return x + foo(x-1)\n",
    "\n",
    "print(foo(3))"
   ]
  },
  {
   "cell_type": "code",
   "execution_count": null,
   "id": "5e6a0e71",
   "metadata": {},
   "outputs": [],
   "source": []
  }
 ],
 "metadata": {
  "kernelspec": {
   "display_name": "Python 3 (ipykernel)",
   "language": "python",
   "name": "python3"
  },
  "language_info": {
   "codemirror_mode": {
    "name": "ipython",
    "version": 3
   },
   "file_extension": ".py",
   "mimetype": "text/x-python",
   "name": "python",
   "nbconvert_exporter": "python",
   "pygments_lexer": "ipython3",
   "version": "3.10.9"
  }
 },
 "nbformat": 4,
 "nbformat_minor": 5
}
