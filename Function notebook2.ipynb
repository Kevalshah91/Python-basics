{
 "cells": [
  {
   "cell_type": "code",
   "execution_count": 1,
   "id": "0051b870",
   "metadata": {},
   "outputs": [
    {
     "name": "stdout",
     "output_type": "stream",
     "text": [
      "good to see you back !\n"
     ]
    }
   ],
   "source": [
    "print('good to see you back !')"
   ]
  },
  {
   "cell_type": "code",
   "execution_count": 2,
   "id": "0caa25d3",
   "metadata": {},
   "outputs": [
    {
     "name": "stdout",
     "output_type": "stream",
     "text": [
      "it still works ?\n"
     ]
    }
   ],
   "source": [
    "print('it still works ?')"
   ]
  },
  {
   "cell_type": "code",
   "execution_count": 1,
   "id": "96566e40",
   "metadata": {},
   "outputs": [
    {
     "name": "stdout",
     "output_type": "stream",
     "text": [
      "hey ! its working fine\n"
     ]
    }
   ],
   "source": [
    "print('hey ! its working fine')"
   ]
  },
  {
   "cell_type": "code",
   "execution_count": 1,
   "id": "bdf11585",
   "metadata": {},
   "outputs": [],
   "source": [
    "x = 25\n",
    "def printer():\n",
    "    x=50\n",
    "    return x"
   ]
  },
  {
   "cell_type": "code",
   "execution_count": 2,
   "id": "e272250b",
   "metadata": {},
   "outputs": [
    {
     "name": "stdout",
     "output_type": "stream",
     "text": [
      "50\n"
     ]
    }
   ],
   "source": [
    "print(printer())"
   ]
  },
  {
   "cell_type": "code",
   "execution_count": 17,
   "id": "be2d7eac",
   "metadata": {},
   "outputs": [],
   "source": [
    "x=50\n",
    "def func():\n",
    "    global x\n",
    "    print(f'x is {x}')\n",
    "    # this is a local reassignment\n",
    "    x = 'new value'\n",
    "    print(f'I just LOCALLY CHANGED GLOBAL X TO {x}')"
   ]
  },
  {
   "cell_type": "code",
   "execution_count": 18,
   "id": "296716cc",
   "metadata": {},
   "outputs": [
    {
     "name": "stdout",
     "output_type": "stream",
     "text": [
      "x is 50\n",
      "I just LOCALLY CHANGED GLOBAL X TO new value\n"
     ]
    }
   ],
   "source": [
    "func()"
   ]
  },
  {
   "cell_type": "code",
   "execution_count": 19,
   "id": "35cca66b",
   "metadata": {},
   "outputs": [],
   "source": [
    "#Functions and methods homework"
   ]
  },
  {
   "cell_type": "code",
   "execution_count": 26,
   "id": "35fb5585",
   "metadata": {},
   "outputs": [],
   "source": [
    "def volume(rad):\n",
    "    x = (4/3.0)*(3.14)*(rad**3)\n",
    "    return x"
   ]
  },
  {
   "cell_type": "code",
   "execution_count": 27,
   "id": "668af4f1",
   "metadata": {},
   "outputs": [
    {
     "data": {
      "text/plain": [
       "4186.666666666667"
      ]
     },
     "execution_count": 27,
     "metadata": {},
     "output_type": "execute_result"
    }
   ],
   "source": [
    "volume(10)"
   ]
  },
  {
   "cell_type": "code",
   "execution_count": 28,
   "id": "3fee8eca",
   "metadata": {},
   "outputs": [],
   "source": [
    "#Write a function that checks whether a number is in a given range (inclusive of high and low)"
   ]
  },
  {
   "cell_type": "code",
   "execution_count": 30,
   "id": "28ee87e9",
   "metadata": {},
   "outputs": [],
   "source": [
    "def range_check(num,low,high):\n",
    "    if num in range(low,high):\n",
    "        print('Its in range')\n",
    "    else:\n",
    "        print('not in range')"
   ]
  },
  {
   "cell_type": "code",
   "execution_count": 31,
   "id": "0ac5e5cd",
   "metadata": {},
   "outputs": [
    {
     "name": "stdout",
     "output_type": "stream",
     "text": [
      "Its in range\n"
     ]
    }
   ],
   "source": [
    "range_check(5,2,7)"
   ]
  },
  {
   "cell_type": "raw",
   "id": "21400445",
   "metadata": {},
   "source": [
    "# Write a Python function that accepts a string and calculates the number of upper case letters and lower case letters."
   ]
  },
  {
   "cell_type": "code",
   "execution_count": 44,
   "id": "06ed3643",
   "metadata": {},
   "outputs": [],
   "source": [
    "def str_check(s):\n",
    "    d={\"upper\":0,\"lower\":0}\n",
    "    for char in s:\n",
    "        if char.isupper():\n",
    "            d[\"upper\"]+=1\n",
    "        if char.islower():\n",
    "            d[\"lower\"]+=1\n",
    "        else:\n",
    "            pass\n",
    "    print('original string : ', s)\n",
    "    print('Number of Upper case chars : ',d[\"upper\"])\n",
    "    print('Number of lower case chars : ',d[\"lower\"])\n",
    "        \n",
    "    "
   ]
  },
  {
   "cell_type": "code",
   "execution_count": 46,
   "id": "385547cb",
   "metadata": {},
   "outputs": [
    {
     "name": "stdout",
     "output_type": "stream",
     "text": [
      "original string :  Keval shah\n",
      "Number of Upper case chars :  1\n",
      "Number of lower case chars :  8\n"
     ]
    }
   ],
   "source": [
    "s='Keval shah'\n",
    "str_check(s)"
   ]
  },
  {
   "cell_type": "code",
   "execution_count": 47,
   "id": "a5ceeb08",
   "metadata": {},
   "outputs": [],
   "source": [
    "def unique_list(lst):\n",
    "    x = []\n",
    "    for a in lst:\n",
    "        if a not in x:\n",
    "            x.append(a)\n",
    "    return x"
   ]
  },
  {
   "cell_type": "code",
   "execution_count": 48,
   "id": "4d71c680",
   "metadata": {},
   "outputs": [
    {
     "data": {
      "text/plain": [
       "[1, 2, 3, 4, 5]"
      ]
     },
     "execution_count": 48,
     "metadata": {},
     "output_type": "execute_result"
    }
   ],
   "source": [
    "unique_list([1,1,1,2,2,3,4,5,5,5])"
   ]
  },
  {
   "cell_type": "code",
   "execution_count": 55,
   "id": "a32d41a5",
   "metadata": {},
   "outputs": [],
   "source": [
    "def multiply(lst):\n",
    "    for i in range(0,len(lst)-1):\n",
    "        x = lst[i]*lst[i+1]\n",
    "    return x"
   ]
  },
  {
   "cell_type": "code",
   "execution_count": 57,
   "id": "bc71afaa",
   "metadata": {},
   "outputs": [
    {
     "data": {
      "text/plain": [
       "30"
      ]
     },
     "execution_count": 57,
     "metadata": {},
     "output_type": "execute_result"
    }
   ],
   "source": [
    "multiply([1,2,3,10])"
   ]
  },
  {
   "cell_type": "code",
   "execution_count": 67,
   "id": "9dcaeff5",
   "metadata": {},
   "outputs": [],
   "source": [
    "def pal(str):\n",
    "    str = str.replace(' ','')\n",
    "    if str == str[::-1]:\n",
    "        return True\n",
    "    else:\n",
    "        return False"
   ]
  },
  {
   "cell_type": "code",
   "execution_count": 68,
   "id": "56d89d12",
   "metadata": {},
   "outputs": [
    {
     "data": {
      "text/plain": [
       "True"
      ]
     },
     "execution_count": 68,
     "metadata": {},
     "output_type": "execute_result"
    }
   ],
   "source": [
    "pal('race car')"
   ]
  },
  {
   "cell_type": "code",
   "execution_count": 75,
   "id": "4f908261",
   "metadata": {},
   "outputs": [],
   "source": [
    "import string\n",
    "\n",
    "def ispangram(str1, alphabet=string.ascii_lowercase):\n",
    "    alphaset = set(alphabet)\n",
    "    str1 = str1.replace(' ','')\n",
    "    str1 = str1.lower()\n",
    "    str1 = set(str1)\n",
    "    \n",
    "    if(str1 == alphaset):\n",
    "        print(\"It is a pangram\")\n",
    "    else:\n",
    "        print(\"not a pangram\")\n",
    "    "
   ]
  },
  {
   "cell_type": "code",
   "execution_count": 76,
   "id": "c85d7b5a",
   "metadata": {},
   "outputs": [
    {
     "name": "stdout",
     "output_type": "stream",
     "text": [
      "not a pangram\n"
     ]
    }
   ],
   "source": [
    "ispangram(\"keval\")"
   ]
  },
  {
   "cell_type": "code",
   "execution_count": 77,
   "id": "a5388f8f",
   "metadata": {},
   "outputs": [
    {
     "name": "stdout",
     "output_type": "stream",
     "text": [
      "It is a pangram\n"
     ]
    }
   ],
   "source": [
    "ispangram(\"The quick brown fox jumps over the lazy dog\")"
   ]
  },
  {
   "cell_type": "code",
   "execution_count": 22,
   "id": "6b1875e8",
   "metadata": {},
   "outputs": [
    {
     "name": "stdout",
     "output_type": "stream",
     "text": [
      "Enter the size: 4\n",
      "   *\n",
      "  ***\n",
      " *****\n",
      "*******\n",
      "****\n",
      "**  \n",
      "  **\n",
      "****\n",
      "********\n",
      "**    **\n",
      "  ****  \n",
      "********\n"
     ]
    }
   ],
   "source": [
    "def mirror_pattern(pattern):\n",
    "    size = int(input(\"Enter the size: \"))\n",
    "\n",
    "    for i in range(size):\n",
    "        for j in range(size - i - 1):\n",
    "            print(' ', end='')\n",
    "        for k in range(2 * i + 1):\n",
    "            print('*', end='')\n",
    "        print()\n",
    "    mirrored_pattern = pattern[::-1]  \n",
    "    for line in mirrored_pattern:\n",
    "        print(line)\n",
    "    for i in range(len(pattern)):\n",
    "        print(mirrored_pattern[i] + pattern[i])\n",
    "\n",
    "mirror_pattern(pattern)\n"
   ]
  },
  {
   "cell_type": "code",
   "execution_count": 14,
   "id": "1602e909",
   "metadata": {},
   "outputs": [
    {
     "name": "stdout",
     "output_type": "stream",
     "text": [
      "Enter the size: 5\n",
      "    *\n",
      "   ***\n",
      "  *****\n",
      " *******\n",
      "*********\n"
     ]
    }
   ],
   "source": [
    "size = int(input(\"Enter the size: \"))\n",
    "\n",
    "for i in range(size):\n",
    "    for j in range(size - i - 1):\n",
    "        print(' ', end='')\n",
    "    for k in range(2 * i + 1):\n",
    "        print('*', end='')\n",
    "    print()"
   ]
  },
  {
   "cell_type": "code",
   "execution_count": 2,
   "id": "c2d9e748",
   "metadata": {},
   "outputs": [
    {
     "name": "stdout",
     "output_type": "stream",
     "text": [
      "Enter your choice:\n",
      "1. Create account\n",
      "2. Withdraw\n",
      "3. Deposit\n",
      "4. Simple interest\n",
      "5. Display balance\n",
      "6. Exit\n",
      "1\n",
      "Enter your name: keval\n",
      "Enter your account number: 60009220061\n",
      "Enter your balance: 1000\n",
      "Enter your choice:\n",
      "1. Create account\n",
      "2. Withdraw\n",
      "3. Deposit\n",
      "4. Simple interest\n",
      "5. Display balance\n",
      "6. Exit\n",
      "2\n",
      "Enter amount to withdraw: 200\n",
      "Withdrew 200. Current balance is 800\n",
      "Enter your choice:\n",
      "1. Create account\n",
      "2. Withdraw\n",
      "3. Deposit\n",
      "4. Simple interest\n",
      "5. Display balance\n",
      "6. Exit\n",
      "3\n",
      "Enter amount to deposit: 500\n",
      "Deposited 500. Current balance is 1300\n",
      "Enter your choice:\n",
      "1. Create account\n",
      "2. Withdraw\n",
      "3. Deposit\n",
      "4. Simple interest\n",
      "5. Display balance\n",
      "6. Exit\n",
      "4\n",
      "Simple interest earned: 52.0\n",
      "Enter your choice:\n",
      "1. Create account\n",
      "2. Withdraw\n",
      "3. Deposit\n",
      "4. Simple interest\n",
      "5. Display balance\n",
      "6. Exit\n",
      "5\n",
      "Account holder name: keval\n",
      "Account Number: 60009220061\n",
      "Current balance: 1300\n",
      "Enter your choice:\n",
      "1. Create account\n",
      "2. Withdraw\n",
      "3. Deposit\n",
      "4. Simple interest\n",
      "5. Display balance\n",
      "6. Exit\n",
      "6\n"
     ]
    }
   ],
   "source": [
    "class BankAccount:\n",
    "    def __init__(self):\n",
    "        self.name = \"\"\n",
    "        self.balance = 0\n",
    "        self.accnum = \"\"\n",
    "        self.withdraw = 0\n",
    "        self.deposit = 0\n",
    "\n",
    "    def create_account(self):\n",
    "        self.name = input(\"Enter your name: \")\n",
    "        self.accnum = input(\"Enter your account number: \")\n",
    "        self.balance = int(input(\"Enter your balance: \"))\n",
    "        self.withdraw = 0\n",
    "        self.deposit = 0\n",
    "\n",
    "    def withdraw_funds(self, amount):\n",
    "        if amount > 0 and amount <= self.balance:\n",
    "            self.balance -= amount\n",
    "            print(f\"Withdrew {amount}. Current balance is {self.balance}\")\n",
    "        else:\n",
    "            print(\"Invalid amount or insufficient balance\")\n",
    "\n",
    "    def deposit_funds(self, amount):\n",
    "        if amount > 0:\n",
    "            self.balance += amount\n",
    "            print(f\"Deposited {amount}. Current balance is {self.balance}\")\n",
    "        else:\n",
    "            print(\"Invalid amount\")\n",
    "\n",
    "    def calculate_simple_interest(self):\n",
    "        si = (self.balance * 0.04)  # 4% interest\n",
    "        print(f\"Simple interest earned: {si}\")\n",
    "\n",
    "    def display_balance(self):\n",
    "        print(f\"Account holder name: {self.name}\")\n",
    "        print(f\"Account Number: {self.accnum}\")\n",
    "        print(f\"Current balance: {self.balance}\")\n",
    "\n",
    "if __name__ == \"__main__\":\n",
    "    account = BankAccount()\n",
    "    while True:\n",
    "        choice = int(input(\"Enter your choice:\\n1. Create account\\n2. Withdraw\\n3. Deposit\\n4. Simple interest\\n5. Display balance\\n6. Exit\\n\"))\n",
    "        if choice == 1:\n",
    "            account.create_account()\n",
    "        elif choice == 2:\n",
    "            amount = int(input(\"Enter amount to withdraw: \"))\n",
    "            account.withdraw_funds(amount)\n",
    "        elif choice == 3:\n",
    "            amount = int(input(\"Enter amount to deposit: \"))\n",
    "            account.deposit_funds(amount)\n",
    "        elif choice == 4:\n",
    "            account.calculate_simple_interest()\n",
    "        elif choice == 5:\n",
    "            account.display_balance()\n",
    "        elif choice == 6:\n",
    "            break\n",
    "        else:\n",
    "            print(\"Invalid choice\")\n"
   ]
  },
  {
   "cell_type": "code",
   "execution_count": null,
   "id": "67d54fb0",
   "metadata": {},
   "outputs": [],
   "source": []
  }
 ],
 "metadata": {
  "kernelspec": {
   "display_name": "Python 3 (ipykernel)",
   "language": "python",
   "name": "python3"
  },
  "language_info": {
   "codemirror_mode": {
    "name": "ipython",
    "version": 3
   },
   "file_extension": ".py",
   "mimetype": "text/x-python",
   "name": "python",
   "nbconvert_exporter": "python",
   "pygments_lexer": "ipython3",
   "version": "3.10.9"
  }
 },
 "nbformat": 4,
 "nbformat_minor": 5
}
